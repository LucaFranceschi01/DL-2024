{
  "cells": [
    {
      "cell_type": "markdown",
      "metadata": {
        "id": "7sIlERrIm4xx"
      },
      "source": [
        "# Practice 2"
      ]
    },
    {
      "cell_type": "markdown",
      "metadata": {
        "id": "xiyeB4Obm4x2"
      },
      "source": [
        "Student 1: Alejandro González Álvarez\n",
        "\n",
        "NIA 1: 252658\n",
        "\n",
        "Student 2: Luca Franceschi\n",
        "\n",
        "NIA 2: 253885\n",
        "\n",
        "Student 3: Júlia Othats-Dalès\n",
        "\n",
        "NIA 3: 254435"
      ]
    },
    {
      "cell_type": "markdown",
      "metadata": {
        "id": "XxUeZ36Km4x2"
      },
      "source": [
        "# Imports"
      ]
    },
    {
      "cell_type": "code",
      "execution_count": 34,
      "metadata": {
        "id": "PZhFCRzMm4x3"
      },
      "outputs": [],
      "source": [
        "import pickle\n",
        "import numpy as np\n",
        "import matplotlib.pyplot as plt\n",
        "from torch import nn\n",
        "from torch.utils.data import Dataset, DataLoader\n",
        "import torch\n",
        "import pandas as pd"
      ]
    },
    {
      "cell_type": "markdown",
      "metadata": {
        "id": "lVVWDwOEm4x5"
      },
      "source": [
        "# Google Drive (or not)"
      ]
    },
    {
      "cell_type": "code",
      "execution_count": 7,
      "metadata": {
        "colab": {
          "base_uri": "https://localhost:8080/"
        },
        "id": "XbFAwiBvm4x5",
        "outputId": "0c541763-eed3-49ac-d08f-ac2f41c7cee3"
      },
      "outputs": [
        {
          "output_type": "stream",
          "name": "stdout",
          "text": [
            "Drive already mounted at /content/drive; to attempt to forcibly remount, call drive.mount(\"/content/drive\", force_remount=True).\n"
          ]
        }
      ],
      "source": [
        "# Comment if not in Google Colab\n",
        "from google.colab import drive\n",
        "drive.mount('/content/drive')\n",
        "\n",
        "datadir = '/content/drive/My Drive/DeepLearning_2024/P2/Data/'\n",
        "#datadir = 'Data/'"
      ]
    },
    {
      "cell_type": "markdown",
      "metadata": {
        "id": "HBU6-pwOm4x6"
      },
      "source": [
        "# GPU Acceleration (or not)"
      ]
    },
    {
      "cell_type": "code",
      "execution_count": 5,
      "metadata": {
        "colab": {
          "base_uri": "https://localhost:8080/"
        },
        "id": "rFKUv2J1m4x6",
        "outputId": "c5bd77eb-b784-4bad-9513-78ac4d227083"
      },
      "outputs": [
        {
          "output_type": "stream",
          "name": "stdout",
          "text": [
            "Using cuda device\n"
          ]
        }
      ],
      "source": [
        "# Print if gpu acceleration is enabled\n",
        "device = (\n",
        "    \"cuda\"\n",
        "    if torch.cuda.is_available()\n",
        "    else \"mps\"\n",
        "    if torch.backends.mps.is_available()\n",
        "    else \"cpu\"\n",
        ")\n",
        "print(f\"Using {device} device\")"
      ]
    },
    {
      "cell_type": "markdown",
      "metadata": {
        "id": "G1WSF05s1023"
      },
      "source": [
        "# Ex.1 - Experimenting with Multi-Class Sequence Classification using RNNs and LSTMs"
      ]
    },
    {
      "cell_type": "code",
      "execution_count": null,
      "metadata": {
        "id": "5bAW1k6R1vgk"
      },
      "outputs": [],
      "source": [
        "'''\n",
        "Experimenting with Multi-Class Sequence Classification using RNNs and LSTMs\n",
        "Steps :\n",
        "1. Load and visualize the training and testing data in 'data/P2_E1.csv' as shown in the following code cell.\n",
        "2. Following section 2 in the examples, train a RNN or LSTM to solve the multi-class sequence classification problem:\n",
        "  -   Adapt the classification loss and the SequenceClassifier module\n",
        "  -   Adapt the test_sequence_classifier function to compute the multi-class accuracy and be able to visualize the confusion matrix\n",
        "3. Experiment with different models by changing different hyper-parameters (e.g, num_layers, hidden_size, optimiziers, activation_functions for RNNs, etc..) and evaluate  the results for each of them on the testing set.\n",
        "4. Visualize analyse and discuss the results in the report.\n",
        "'''"
      ]
    },
    {
      "cell_type": "markdown",
      "metadata": {
        "id": "cJoitFCf-9F1"
      },
      "source": [
        "# Sol 1."
      ]
    },
    {
      "cell_type": "code",
      "execution_count": null,
      "metadata": {
        "id": "TEF-ZsLvYDMR"
      },
      "outputs": [],
      "source": [
        "# 1. Load and visualize the training and testing data\n",
        "data = np.load(datadir+'P2_E1.npz')\n",
        "X_train, X_test = data['X_train'], data['X_test']\n",
        "Y_train, Y_test = data['Y_train'], data['Y_test']\n",
        "\n",
        "print(f'Train Seqs: {X_train.shape}')\n",
        "print(f'Train Labels: {Y_train.shape}')\n",
        "print(f'Test Seqs: {X_test.shape}')\n",
        "print(f'Test Labels: {Y_test.shape}')\n",
        "\n",
        "classes = np.unique(Y_train)\n",
        "n_classes = len(classes)\n",
        "colors = plt.cm.rainbow(np.linspace(0, 1, n_classes))\n",
        "\n",
        "fig, axs = plt.subplots(n_classes, 1, figsize=(10, 5*n_classes))\n",
        "for class_idx in range(0, n_classes):\n",
        "  axs[class_idx].plot(X_test[Y_test == class_idx, :].T,'-o',\n",
        "                      c=colors[class_idx])\n",
        "  axs[class_idx].set_title(f'Tests Seqs. - Class {class_idx}')\n",
        "fig.show()"
      ]
    },
    {
      "cell_type": "code",
      "execution_count": 29,
      "metadata": {
        "id": "81-kCVEsm4x8"
      },
      "outputs": [],
      "source": [
        "# Define module encapsulating a Sequence Classifier using RNN or LSTMs and setting different architecture hyper-parameters\n",
        "\n",
        "class SequenceClassifier(nn.Module):\n",
        "  def __init__(self,\n",
        "               input_size : int = 1,\n",
        "               hidden_size : int = 5,\n",
        "               num_layers = 1,\n",
        "               num_classes : int = 6,\n",
        "               use_lstm : bool = False):\n",
        "    # Define RNN or LSTM architecture\n",
        "    super().__init__()\n",
        "    self.use_lstm = use_lstm\n",
        "    if(use_lstm):\n",
        "      self.rnn =  nn.LSTM(input_size = input_size, hidden_size = hidden_size,\n",
        "                          num_layers=num_layers, batch_first = True)\n",
        "    else:\n",
        "      self.rnn =  nn.RNN(input_size = input_size, hidden_size = hidden_size,\n",
        "                         num_layers=num_layers, batch_first = True)\n",
        "    self.softmax = nn.Softmax(dim=1)\n",
        "    self.last_linear = nn.Linear(hidden_size, num_classes)  # 6 is number of different classes\n",
        "\n",
        "  def forward(self, X):\n",
        "    _, last_states = self.rnn(X)\n",
        "    # Get last hidden state for last layer. Ignore cell state in case of LSTMs\n",
        "    if(not self.use_lstm):\n",
        "      last_hidden_state = last_states[-1,:,:].squeeze(0)\n",
        "    else:\n",
        "      last_hidden_state = last_states[0][-1,:,:].squeeze(0)\n",
        "    # Get sequence label probability using the last hidden state\n",
        "    output = self.softmax(self.last_linear(last_hidden_state))  # Using softmax instead of sigmoid\n",
        "    return output"
      ]
    },
    {
      "cell_type": "code",
      "source": [
        "# Define the training model\n",
        "def train_multiclass_classifier(X_train, Y_train, classifier, optimizer, loss_func, epochs=100):\n",
        "  loss_epochs = []\n",
        "  for epoch in range(epochs):\n",
        "      optimizer.zero_grad()\n",
        "      output = classifier(X_train)\n",
        "      loss = loss_func(output, Y_train)\n",
        "      loss_epochs.append(loss.item())\n",
        "      loss.backward()\n",
        "      optimizer.step()\n",
        "  print(f'Final loss: {loss.item()}')\n",
        "  return np.asarray(loss_epochs)\n",
        "\n",
        "# Adapt the test_sequence_classifier function\n",
        "def test_multiclass_classifier(X_test, Y_test, classifier, prob_threshold=0.5):\n",
        "  output = classifier(X_test)\n",
        "  predicted_labels = torch.argmax(output, dim=1)\n",
        "  correct_predictions = (predicted_labels == Y_test).sum().item()\n",
        "  total_samples = len(Y_test)\n",
        "  accuracy = correct_predictions / total_samples\n",
        "  print(f'Test Accuracy: {accuracy:.4f}')\n",
        "  return accuracy\n"
      ],
      "metadata": {
        "id": "WmqAWB7VwGDE"
      },
      "execution_count": 32,
      "outputs": []
    },
    {
      "cell_type": "code",
      "source": [
        "X_train_pt = torch.from_numpy(X_train).float().unsqueeze(2).cuda()\n",
        "Y_train_pt = torch.from_numpy(Y_train).long().cuda()\n",
        "X_test_pt = torch.from_numpy(X_test).float().unsqueeze(2).cuda()\n",
        "Y_test_pt = torch.from_numpy(Y_test).long().cuda()\n",
        "\n",
        "loss_func = nn.CrossEntropyLoss()\n",
        "\n",
        "exp_hidden_size = [1, 5]\n",
        "exp_num_layers = [1, 2]\n",
        "exp_use_lstm = [False, True]\n",
        "\n",
        "losses_models = {}\n",
        "test_accuracy_models = {}\n",
        "\n",
        "for hidden_size, num_layers, use_lstm in zip(exp_hidden_size,exp_num_layers,exp_use_lstm):\n",
        "\n",
        "  model_id = f'H{hidden_size}_NL{num_layers}_LSTM{int(use_lstm)}'\n",
        "  print(f'Training: {model_id}')\n",
        "\n",
        "  seq_classifier = SequenceClassifier(use_lstm=use_lstm, num_layers=num_layers, hidden_size=hidden_size)\n",
        "  seq_classifier.cuda()\n",
        "\n",
        "  optimizer = torch.optim.Adam(seq_classifier.parameters(), lr=1e-3)\n",
        "\n",
        "  losses_models[model_id] = train_multiclass_classifier(X_train_pt, Y_train_pt,\n",
        "                                                        seq_classifier, optimizer,\n",
        "                                                        loss_func, epochs=1000)\n",
        "\n",
        "  test_accuracy_models[model_id] = test_multiclass_classifier(X_test_pt, Y_test_pt, seq_classifier)"
      ],
      "metadata": {
        "colab": {
          "base_uri": "https://localhost:8080/"
        },
        "id": "NL_77ZCXx668",
        "outputId": "b32e09da-223e-425c-b014-829488af0ef9"
      },
      "execution_count": 33,
      "outputs": [
        {
          "output_type": "stream",
          "name": "stdout",
          "text": [
            "Training: H1_NL1_LSTM0\n",
            "Final loss: 1.7791435718536377\n",
            "Test Accuracy: 0.2000\n",
            "Training: H5_NL2_LSTM1\n",
            "Final loss: 1.4122083187103271\n",
            "Test Accuracy: 0.5889\n"
          ]
        }
      ]
    },
    {
      "cell_type": "code",
      "source": [
        "for loss_it in losses_models.values():\n",
        "  plt.plot(loss_it)\n",
        "plt.legend(losses_models.keys())\n",
        "plt.show()\n",
        "\n",
        "pd.DataFrame(np.asarray(list(test_accuracy_models.values()))*100, columns=['accuracy %'],\n",
        "             index=test_accuracy_models.keys()).transpose()"
      ],
      "metadata": {
        "colab": {
          "base_uri": "https://localhost:8080/",
          "height": 494
        },
        "id": "2oR0V1t60CBv",
        "outputId": "b6e7327c-31b3-4789-d5e7-0968b433acdc"
      },
      "execution_count": 35,
      "outputs": [
        {
          "output_type": "display_data",
          "data": {
            "text/plain": [
              "<Figure size 640x480 with 1 Axes>"
            ],
            "image/png": "[encoded data removed]"
          },
          "metadata": {}
        },
        {
          "output_type": "execute_result",
          "data": {
            "text/plain": [
              "            H1_NL1_LSTM0  H5_NL2_LSTM1\n",
              "accuracy %          20.0     58.888889"
            ],
            "text/html": [
              "\n",
              "  <div id=\"df-5dd5f66a-d560-4c98-955a-f240ff2bb644\" class=\"colab-df-container\">\n",
              "    <div>\n",
              "<style scoped>\n",
              "    .dataframe tbody tr th:only-of-type {\n",
              "        vertical-align: middle;\n",
              "    }\n",
              "\n",
              "    .dataframe tbody tr th {\n",
              "        vertical-align: top;\n",
              "    }\n",
              "\n",
              "    .dataframe thead th {\n",
              "        text-align: right;\n",
              "    }\n",
              "</style>\n",
              "<table border=\"1\" class=\"dataframe\">\n",
              "  <thead>\n",
              "    <tr style=\"text-align: right;\">\n",
              "      <th></th>\n",
              "      <th>H1_NL1_LSTM0</th>\n",
              "      <th>H5_NL2_LSTM1</th>\n",
              "    </tr>\n",
              "  </thead>\n",
              "  <tbody>\n",
              "    <tr>\n",
              "      <th>accuracy %</th>\n",
              "      <td>20.0</td>\n",
              "      <td>58.888889</td>\n",
              "    </tr>\n",
              "  </tbody>\n",
              "</table>\n",
              "</div>\n",
              "    <div class=\"colab-df-buttons\">\n",
              "\n",
              "  <div class=\"colab-df-container\">\n",
              "    <button class=\"colab-df-convert\" onclick=\"convertToInteractive('df-5dd5f66a-d560-4c98-955a-f240ff2bb644')\"\n",
              "            title=\"Convert this dataframe to an interactive table.\"\n",
              "            style=\"display:none;\">\n",
              "\n",
              "  <svg xmlns=\"http://www.w3.org/2000/svg\" height=\"24px\" viewBox=\"0 -960 960 960\">\n",
              "    <path d=\"M120-120v-720h720v720H120Zm60-500h600v-160H180v160Zm220 220h160v-160H400v160Zm0 220h160v-160H400v160ZM180-400h160v-160H180v160Zm440 0h160v-160H620v160ZM180-180h160v-160H180v160Zm440 0h160v-160H620v160Z\"/>\n",
              "  </svg>\n",
              "    </button>\n",
              "\n",
              "  <style>\n",
              "    .colab-df-container {\n",
              "      display:flex;\n",
              "      gap: 12px;\n",
              "    }\n",
              "\n",
              "    .colab-df-convert {\n",
              "      background-color: #E8F0FE;\n",
              "      border: none;\n",
              "      border-radius: 50%;\n",
              "      cursor: pointer;\n",
              "      display: none;\n",
              "      fill: #1967D2;\n",
              "      height: 32px;\n",
              "      padding: 0 0 0 0;\n",
              "      width: 32px;\n",
              "    }\n",
              "\n",
              "    .colab-df-convert:hover {\n",
              "      background-color: #E2EBFA;\n",
              "      box-shadow: 0px 1px 2px rgba(60, 64, 67, 0.3), 0px 1px 3px 1px rgba(60, 64, 67, 0.15);\n",
              "      fill: #174EA6;\n",
              "    }\n",
              "\n",
              "    .colab-df-buttons div {\n",
              "      margin-bottom: 4px;\n",
              "    }\n",
              "\n",
              "    [theme=dark] .colab-df-convert {\n",
              "      background-color: #3B4455;\n",
              "      fill: #D2E3FC;\n",
              "    }\n",
              "\n",
              "    [theme=dark] .colab-df-convert:hover {\n",
              "      background-color: #434B5C;\n",
              "      box-shadow: 0px 1px 3px 1px rgba(0, 0, 0, 0.15);\n",
              "      filter: drop-shadow(0px 1px 2px rgba(0, 0, 0, 0.3));\n",
              "      fill: #FFFFFF;\n",
              "    }\n",
              "  </style>\n",
              "\n",
              "    <script>\n",
              "      const buttonEl =\n",
              "        document.querySelector('#df-5dd5f66a-d560-4c98-955a-f240ff2bb644 button.colab-df-convert');\n",
              "      buttonEl.style.display =\n",
              "        google.colab.kernel.accessAllowed ? 'block' : 'none';\n",
              "\n",
              "      async function convertToInteractive(key) {\n",
              "        const element = document.querySelector('#df-5dd5f66a-d560-4c98-955a-f240ff2bb644');\n",
              "        const dataTable =\n",
              "          await google.colab.kernel.invokeFunction('convertToInteractive',\n",
              "                                                    [key], {});\n",
              "        if (!dataTable) return;\n",
              "\n",
              "        const docLinkHtml = 'Like what you see? Visit the ' +\n",
              "          '<a target=\"_blank\" href=https://colab.research.google.com/notebooks/data_table.ipynb>data table notebook</a>'\n",
              "          + ' to learn more about interactive tables.';\n",
              "        element.innerHTML = '';\n",
              "        dataTable['output_type'] = 'display_data';\n",
              "        await google.colab.output.renderOutput(dataTable, element);\n",
              "        const docLink = document.createElement('div');\n",
              "        docLink.innerHTML = docLinkHtml;\n",
              "        element.appendChild(docLink);\n",
              "      }\n",
              "    </script>\n",
              "  </div>\n",
              "\n",
              "    </div>\n",
              "  </div>\n"
            ],
            "application/vnd.google.colaboratory.intrinsic+json": {
              "type": "dataframe",
              "summary": "{\n  \"name\": \"             index=test_accuracy_models\",\n  \"rows\": 1,\n  \"fields\": [\n    {\n      \"column\": \"H1_NL1_LSTM0\",\n      \"properties\": {\n        \"dtype\": \"number\",\n        \"std\": null,\n        \"min\": 20.0,\n        \"max\": 20.0,\n        \"num_unique_values\": 1,\n        \"samples\": [\n          20.0\n        ],\n        \"semantic_type\": \"\",\n        \"description\": \"\"\n      }\n    },\n    {\n      \"column\": \"H5_NL2_LSTM1\",\n      \"properties\": {\n        \"dtype\": \"number\",\n        \"std\": null,\n        \"min\": 58.88888888888889,\n        \"max\": 58.88888888888889,\n        \"num_unique_values\": 1,\n        \"samples\": [\n          58.88888888888889\n        ],\n        \"semantic_type\": \"\",\n        \"description\": \"\"\n      }\n    }\n  ]\n}"
            }
          },
          "metadata": {},
          "execution_count": 35
        }
      ]
    },
    {
      "cell_type": "markdown",
      "metadata": {
        "id": "DYjnCsbSm4x9"
      },
      "source": [
        "Notes:\n",
        "- Considerar usar un random_seed para quedarnos solo con los mejores resultados\n",
        "- En este nos interesa guardar solo el ultimo estado ya que ese estado contiene a su vez los otros anteriores."
      ]
    },
    {
      "cell_type": "markdown",
      "metadata": {
        "id": "5NWk4UCNY6IU"
      },
      "source": [
        "# Ex 2. Cryptoanalysis with corrupted messages using RNNs/LSTMs"
      ]
    },
    {
      "cell_type": "code",
      "execution_count": null,
      "metadata": {
        "id": "uuW-po5hsQqt"
      },
      "outputs": [],
      "source": [
        "'''\n",
        "Similar to the exercise solved on P2-examples, you have to solve time-series modelling based on Cryptanalysis.\n",
        "\n",
        "For this exercise, you have training.pkl and testing_corrupted.pkl files.\n",
        "These files contain a new encrypted dataset of 10000 sentences, 8000 for training and 2000 for the test.\n",
        "Similar to the exercise solved in class, all the samples are encrypted using the Vigenère cipher with\n",
        "7-length keyword. However, during the transmission of the test set, the encrypted data has been corrupted\n",
        "with a new char (\"-\"), while the training set has been transmitted correctly.\n",
        "\n",
        "Each 32-length sentence contains 4 corrupted chars randomly distributed on the test set, representing 12,5 % of total data.\n",
        "\n",
        "Example:\n",
        "\n",
        "Received Ciphertext:   'WCPS-VH-JHIKCUSETJV-AW-LPVUAHFHH'\n",
        "Correct Ciphertext (Not provided):   'WCPSEVHAJHIKCUSETJVKAWGLPVUAHFHH'\n",
        "Ground truth:   'HEWENTALLOUTANDGAVEITHISBESTSHOT'\n",
        "\n",
        "Steps :\n",
        "1. Discover the keyword used to encrypt the plaintext data. (hint: use Vigenère table and some samples)\n",
        "2. Design/Implement an strategy to train the model so that it can be robust to missing characters in the testing samples ( to be discussed in class )\n",
        "3. Train a sequential model to decode the corrupted test data.\n",
        "4. Evaluate the decoding accuracy for the test set in terms of characters that were not corrupted or corrupted independently.\n",
        "5. Try to improve the performance by applying some improvements over the model: stacked LSTMs,\n",
        "hidden_sizes, embedding_size, optimizer, data augmentation during training, etc...\n",
        "6. Visualize and discuss on the final results.\n",
        "'''"
      ]
    },
    {
      "cell_type": "markdown",
      "metadata": {
        "id": "717kp08em4x9"
      },
      "source": [
        "In 2. being robust means getting at least 87.5% accuracy (all non corrupt chars).\n",
        "\n",
        "For 3. we should have 2 losses, and 2 accuracies, 1 for normal chars, and 1 for corrupted chars. We should try to get 95% accuracy, 100% of the 87,5% correct chars and more or less 50% of corrupted chars are solved correctly.\n",
        "\n",
        "Advice: do data augmentation/transformation to try to make the training data look more like the testing data."
      ]
    },
    {
      "cell_type": "markdown",
      "metadata": {
        "id": "TUEWLxMusKiE"
      },
      "source": [
        "# Sol 2."
      ]
    },
    {
      "cell_type": "markdown",
      "metadata": {
        "id": "g6o7r20jm4x-"
      },
      "source": [
        "## 1. Discover the keyword used to encrypt the plaintext data"
      ]
    },
    {
      "cell_type": "code",
      "execution_count": 10,
      "metadata": {
        "id": "KpDXZqDia40H"
      },
      "outputs": [],
      "source": [
        "# Load train and test files into memory\n",
        "pkl_file = open(datadir+'train_vigenere.pkl', 'rb')\n",
        "train = pickle.load(pkl_file)\n",
        "pkl_file.close()\n",
        "\n",
        "pkl_file = open(datadir+'testing_corrupted.pkl', 'rb')\n",
        "test = pickle.load(pkl_file)\n",
        "pkl_file.close()\n",
        "\n",
        "vocabulary = [char for char in 'ABCDEFGHIJKLMNOPQRSTUVWXYZ'] # Predefined vocabulary"
      ]
    },
    {
      "cell_type": "code",
      "execution_count": 11,
      "metadata": {
        "id": "f5qf5wgdm4x-"
      },
      "outputs": [],
      "source": [
        "def int_to_vocabulary(message, vocabulary):\n",
        "  decoded = ''\n",
        "  for letter_code in message:\n",
        "    decoded += vocabulary[letter_code]\n",
        "  return decoded"
      ]
    },
    {
      "cell_type": "code",
      "execution_count": 12,
      "metadata": {
        "colab": {
          "base_uri": "https://localhost:8080/"
        },
        "id": "r984Et6Em4x-",
        "outputId": "fcc9b046-482d-49d5-b042-c623fc776042"
      },
      "outputs": [
        {
          "output_type": "stream",
          "name": "stdout",
          "text": [
            "Train Message encrypted:       FHXMWFOELYIAMGKZUJQSLROBROKWIAUL\n",
            "The keyword for en/decryption: MATRIXMATRIXMATRIXMATRIXMATRIXMA\n",
            "Train Message decrypted:       THEVOICESHADAGRIMMESSAGEFORFADIL\n",
            "\n",
            "The keyword (length 6) is: MATRIX\n"
          ]
        }
      ],
      "source": [
        "keyword = (train[0][0]-train[0][1]) % len(vocabulary)\n",
        "print(f'Train Message encrypted:       {int_to_vocabulary(train[0][0],vocabulary)}')\n",
        "print( 'The keyword for en/decryption: {kw}'.format(kw=int_to_vocabulary(keyword, vocabulary)))\n",
        "print(f'Train Message decrypted:       {int_to_vocabulary(train[0][1],vocabulary)}')\n",
        "print('\\nThe keyword (length {l}) is: {kw}'.format(l=6, kw=int_to_vocabulary(keyword, vocabulary)[:6]))"
      ]
    },
    {
      "cell_type": "code",
      "execution_count": 13,
      "metadata": {
        "id": "C_h1HGGCm4x_"
      },
      "outputs": [],
      "source": [
        "# LUCA: PONE EN EL ENUNCIADO QUE ES DE LENGTH 7 PERO MATRIX TIENE 6, ERROR DE ENUNCIADO?"
      ]
    },
    {
      "cell_type": "markdown",
      "metadata": {
        "id": "R8TD_2oRm4x_"
      },
      "source": [
        "## 2.Design/Implement an strategy to train the model"
      ]
    },
    {
      "cell_type": "markdown",
      "metadata": {
        "id": "QLAjbEqpm4x_"
      },
      "source": [
        "Proposed strategy: train as if there was another character in the vocabulary\n",
        "\n",
        "Problems of this strategy: this character won't be trained properly\n",
        "\n",
        "Solution to this problem: we could intentionally corrupt training data so the model learns how to interpret those appropiately"
      ]
    },
    {
      "cell_type": "code",
      "execution_count": 14,
      "metadata": {
        "id": "kzR4fuBDm4x_"
      },
      "outputs": [],
      "source": [
        "corr_vocab = [char for char in 'ABCDEFGHIJKLMNOPQRSTUVWXYZ-'] # Corrupted vocabulary"
      ]
    },
    {
      "cell_type": "code",
      "execution_count": 15,
      "metadata": {
        "id": "I20FsCUdm4x_"
      },
      "outputs": [],
      "source": [
        "class CorruptedDataset(Dataset):\n",
        "    # the data is in the form [img_name, boundaries]\n",
        "    def __init__(self, data, p=0.125, corrupted_char=26):\n",
        "        self.data = data\n",
        "        self.corr_prob = p\n",
        "        self.corr_char = corrupted_char\n",
        "        self.shape = data.shape\n",
        "        self.batch_size = None\n",
        "\n",
        "        def corrupt_tensor(tensor):\n",
        "            corrupted_idx = np.random.uniform(size=tensor.shape[0]) < self.corr_prob\n",
        "            corr_item = tensor.clone()\n",
        "            corr_item[corrupted_idx==True] = self.corr_char\n",
        "            return corr_item\n",
        "        self.transform = corrupt_tensor\n",
        "\n",
        "    def __len__(self):\n",
        "        return len(self.data)\n",
        "\n",
        "    def __getitem__(self, idx):\n",
        "        return self.transform(self.data[idx])"
      ]
    },
    {
      "cell_type": "code",
      "execution_count": 16,
      "metadata": {
        "id": "l8z-MpQDm4x_"
      },
      "outputs": [],
      "source": [
        "class DecrypterNetwork(nn.Module):\n",
        "  def __init__(self,\n",
        "               hidden_size : int = 8,\n",
        "               num_layers = 1,\n",
        "               num_letters = 26,\n",
        "               letters_embedding_size : int = 8,\n",
        "               use_lstm : bool = False):\n",
        "    # Define RNN or LSTM architecture\n",
        "    super().__init__()\n",
        "    self.hidden_size = hidden_size\n",
        "    self.num_letters = num_letters\n",
        "    self.letters_embedder = torch.nn.Embedding(num_letters, letters_embedding_size)\n",
        "    self.use_lstm = use_lstm\n",
        "    self.softmax = nn.Softmax(dim=1)\n",
        "    if(use_lstm):\n",
        "      self.rnn =  nn.LSTM(input_size = letters_embedding_size, hidden_size = hidden_size,\n",
        "                          num_layers=num_layers, batch_first = True)\n",
        "    else:\n",
        "      self.rnn =  nn.RNN(input_size = letters_embedding_size, hidden_size = hidden_size,\n",
        "                         num_layers=num_layers, batch_first = True)\n",
        "    self.last_linear = nn.Linear(hidden_size,num_letters)\n",
        "\n",
        "  def forward(self, X):\n",
        "    N = X.shape[0]\n",
        "    L = X.shape[1]\n",
        "    embedded_letters = self.letters_embedder(X)\n",
        "    # Get hidden states for all letters in the sequence\n",
        "    hidden_states,_ = self.rnn(embedded_letters)\n",
        "    # In case of multiple input sequneces flat (N,L,hidden_size) to (N*L,hidden_size) for linear layer\n",
        "    hidden_states_concat = hidden_states.reshape(-1,self.hidden_size)\n",
        "    # Get letters probability using the hidden states for each position in the sequence\n",
        "    letters_loggits = self.last_linear(hidden_states_concat)\n",
        "    # Use soft-max over logits and reshape to format (N,L,num_letteres)\n",
        "    letters_probs = self.softmax(letters_loggits).reshape(N,L,self.num_letters)\n",
        "    return letters_probs"
      ]
    },
    {
      "cell_type": "code",
      "execution_count": 17,
      "metadata": {
        "id": "tx7WiFHim4yA"
      },
      "outputs": [],
      "source": [
        "def train_test(model, num_epochs, loss_fn, optimizer,\n",
        "               train_encrypted_loader, train_decrypted, test_encrypted, test_decrypted):\n",
        "\n",
        "    model = model.to(device)\n",
        "    # train_encrypted_loader = train_encrypted_loader.data.to(device)\n",
        "    train_decrypted = train_decrypted.to(device)\n",
        "    test_encrypted = test_encrypted.to(device)\n",
        "    test_decrypted = test_decrypted.to(device)\n",
        "\n",
        "    loss_hist = []\n",
        "    acc_hist = []\n",
        "    test_loss_hist = []\n",
        "\n",
        "    for epoch in range(num_epochs):\n",
        "        # TRAINING AND BACK-PROPAGATION\n",
        "        model.train()\n",
        "        optimizer.zero_grad()\n",
        "        letters_probs = model(next(iter(train_encrypted_loader)))\n",
        "        loss = loss_fn(letters_probs.log().permute(0,2,1), # rearrange as to (N_sequences, N_letters, N_lenght_sequences)\n",
        "                      train_decrypted)\n",
        "        loss.backward() # Backpropagate\n",
        "        optimizer.step() # Update weights\n",
        "        loss_hist.append(loss.item())\n",
        "\n",
        "        # EVALUATION\n",
        "        model.eval()\n",
        "        letters_probs = model(test_encrypted)\n",
        "        test_loss = loss_fn(letters_probs.log().permute(0,2,1), # rearrange as to (N_sequences, N_letters, N_lenght_sequences)\n",
        "                            test_decrypted)\n",
        "        _,maxprob_letters_idx = letters_probs.max(dim=2) # get letter with maximum prob\n",
        "        accuracy = ((maxprob_letters_idx==test_decrypted)*1.0).mean() # compute accuracy\n",
        "        test_loss_hist.append(test_loss.item())\n",
        "        acc_hist.append(accuracy.item())\n",
        "\n",
        "        if(epoch%50==0):\n",
        "          print(f'Epoch {epoch} \\t Train Loss {round(loss.item(),3)} \\t Test Loss {round(test_loss.item(),3)} \\t Test Acc. (%)  {round(accuracy.item()*100,1)}')\n",
        "    print(f'Final Epoch \\t Train Loss {round(loss.item(),3)} \\t Test Loss {round(test_loss.item(),3)} \\t Test Acc. (%)  {round(accuracy.item()*100,1)}')\n",
        "    return model,loss_hist, test_loss_hist, acc_hist"
      ]
    },
    {
      "cell_type": "code",
      "execution_count": 18,
      "metadata": {
        "id": "yKu8yceVm4yA"
      },
      "outputs": [],
      "source": [
        "train_encrypted = torch.concat([train_sample[0].unsqueeze(0) for train_sample in train],dim=0)\n",
        "train_decrypted = torch.concat([train_sample[1].unsqueeze(0) for train_sample in train],dim=0)\n",
        "test_encrypted = torch.concat([test_sample[0].unsqueeze(0) for test_sample in test],dim=0)\n",
        "test_decrypted = torch.concat([test_sample[1].unsqueeze(0) for test_sample in test],dim=0)\n",
        "\n",
        "train_encrypted_dataset = CorruptedDataset(train_encrypted)\n",
        "train_encrypted_loader = DataLoader(train_encrypted_dataset, batch_size=len(train_encrypted_dataset), shuffle=False)\n",
        "\n",
        "decrypter_network = DecrypterNetwork(num_layers=2,\n",
        "                                    num_letters=len(corr_vocab),\n",
        "                                    hidden_size=16,\n",
        "                                    use_lstm=True)\n",
        "\n",
        "num_epochs=600\n",
        "CE_loss = torch.nn.CrossEntropyLoss()\n",
        "optimizer = torch.optim.Adam(decrypter_network.parameters(), lr=1e-2)"
      ]
    },
    {
      "cell_type": "code",
      "execution_count": 20,
      "metadata": {
        "colab": {
          "base_uri": "https://localhost:8080/",
          "height": 382
        },
        "id": "16yHPKFUm4yA",
        "outputId": "f98ea2da-3510-4aca-b522-32e55bae66f3"
      },
      "outputs": [
        {
          "output_type": "error",
          "ename": "RuntimeError",
          "evalue": "Expected all tensors to be on the same device, but found at least two devices, cuda:0 and cpu! (when checking argument for argument index in method wrapper_CUDA__index_select)",
          "traceback": [
            "\u001b[0;31m---------------------------------------------------------------------------\u001b[0m",
            "\u001b[0;31mRuntimeError\u001b[0m                              Traceback (most recent call last)",
            "\u001b[0;32m<ipython-input-20-78762d645f2f>\u001b[0m in \u001b[0;36m<cell line: 1>\u001b[0;34m()\u001b[0m\n\u001b[0;32m----> 1\u001b[0;31m decrypter_network, loss_hist, test_loss_hist, acc_hist = train_test(decrypter_network,\n\u001b[0m\u001b[1;32m      2\u001b[0m                                                  \u001b[0mnum_epochs\u001b[0m\u001b[0;34m,\u001b[0m\u001b[0;34m\u001b[0m\u001b[0;34m\u001b[0m\u001b[0m\n\u001b[1;32m      3\u001b[0m                                                  \u001b[0mCE_loss\u001b[0m\u001b[0;34m,\u001b[0m\u001b[0;34m\u001b[0m\u001b[0;34m\u001b[0m\u001b[0m\n\u001b[1;32m      4\u001b[0m                                                  \u001b[0moptimizer\u001b[0m\u001b[0;34m,\u001b[0m\u001b[0;34m\u001b[0m\u001b[0;34m\u001b[0m\u001b[0m\n\u001b[1;32m      5\u001b[0m                                                  train_encrypted_loader, train_decrypted, test_encrypted, test_decrypted)\n",
            "\u001b[0;32m<ipython-input-17-f170b695d5d7>\u001b[0m in \u001b[0;36mtrain_test\u001b[0;34m(model, num_epochs, loss_fn, optimizer, train_encrypted_loader, train_decrypted, test_encrypted, test_decrypted)\u001b[0m\n\u001b[1;32m     16\u001b[0m         \u001b[0mmodel\u001b[0m\u001b[0;34m.\u001b[0m\u001b[0mtrain\u001b[0m\u001b[0;34m(\u001b[0m\u001b[0;34m)\u001b[0m\u001b[0;34m\u001b[0m\u001b[0;34m\u001b[0m\u001b[0m\n\u001b[1;32m     17\u001b[0m         \u001b[0moptimizer\u001b[0m\u001b[0;34m.\u001b[0m\u001b[0mzero_grad\u001b[0m\u001b[0;34m(\u001b[0m\u001b[0;34m)\u001b[0m\u001b[0;34m\u001b[0m\u001b[0;34m\u001b[0m\u001b[0m\n\u001b[0;32m---> 18\u001b[0;31m         \u001b[0mletters_probs\u001b[0m \u001b[0;34m=\u001b[0m \u001b[0mmodel\u001b[0m\u001b[0;34m(\u001b[0m\u001b[0mnext\u001b[0m\u001b[0;34m(\u001b[0m\u001b[0miter\u001b[0m\u001b[0;34m(\u001b[0m\u001b[0mtrain_encrypted_loader\u001b[0m\u001b[0;34m)\u001b[0m\u001b[0;34m)\u001b[0m\u001b[0;34m)\u001b[0m\u001b[0;34m\u001b[0m\u001b[0;34m\u001b[0m\u001b[0m\n\u001b[0m\u001b[1;32m     19\u001b[0m         loss = loss_fn(letters_probs.log().permute(0,2,1), # rearrange as to (N_sequences, N_letters, N_lenght_sequences)\n\u001b[1;32m     20\u001b[0m                       train_decrypted)\n",
            "\u001b[0;32m/usr/local/lib/python3.10/dist-packages/torch/nn/modules/module.py\u001b[0m in \u001b[0;36m_wrapped_call_impl\u001b[0;34m(self, *args, **kwargs)\u001b[0m\n\u001b[1;32m   1509\u001b[0m             \u001b[0;32mreturn\u001b[0m \u001b[0mself\u001b[0m\u001b[0;34m.\u001b[0m\u001b[0m_compiled_call_impl\u001b[0m\u001b[0;34m(\u001b[0m\u001b[0;34m*\u001b[0m\u001b[0margs\u001b[0m\u001b[0;34m,\u001b[0m \u001b[0;34m**\u001b[0m\u001b[0mkwargs\u001b[0m\u001b[0;34m)\u001b[0m  \u001b[0;31m# type: ignore[misc]\u001b[0m\u001b[0;34m\u001b[0m\u001b[0;34m\u001b[0m\u001b[0m\n\u001b[1;32m   1510\u001b[0m         \u001b[0;32melse\u001b[0m\u001b[0;34m:\u001b[0m\u001b[0;34m\u001b[0m\u001b[0;34m\u001b[0m\u001b[0m\n\u001b[0;32m-> 1511\u001b[0;31m             \u001b[0;32mreturn\u001b[0m \u001b[0mself\u001b[0m\u001b[0;34m.\u001b[0m\u001b[0m_call_impl\u001b[0m\u001b[0;34m(\u001b[0m\u001b[0;34m*\u001b[0m\u001b[0margs\u001b[0m\u001b[0;34m,\u001b[0m \u001b[0;34m**\u001b[0m\u001b[0mkwargs\u001b[0m\u001b[0;34m)\u001b[0m\u001b[0;34m\u001b[0m\u001b[0;34m\u001b[0m\u001b[0m\n\u001b[0m\u001b[1;32m   1512\u001b[0m \u001b[0;34m\u001b[0m\u001b[0m\n\u001b[1;32m   1513\u001b[0m     \u001b[0;32mdef\u001b[0m \u001b[0m_call_impl\u001b[0m\u001b[0;34m(\u001b[0m\u001b[0mself\u001b[0m\u001b[0;34m,\u001b[0m \u001b[0;34m*\u001b[0m\u001b[0margs\u001b[0m\u001b[0;34m,\u001b[0m \u001b[0;34m**\u001b[0m\u001b[0mkwargs\u001b[0m\u001b[0;34m)\u001b[0m\u001b[0;34m:\u001b[0m\u001b[0;34m\u001b[0m\u001b[0;34m\u001b[0m\u001b[0m\n",
            "\u001b[0;32m/usr/local/lib/python3.10/dist-packages/torch/nn/modules/module.py\u001b[0m in \u001b[0;36m_call_impl\u001b[0;34m(self, *args, **kwargs)\u001b[0m\n\u001b[1;32m   1518\u001b[0m                 \u001b[0;32mor\u001b[0m \u001b[0m_global_backward_pre_hooks\u001b[0m \u001b[0;32mor\u001b[0m \u001b[0m_global_backward_hooks\u001b[0m\u001b[0;34m\u001b[0m\u001b[0;34m\u001b[0m\u001b[0m\n\u001b[1;32m   1519\u001b[0m                 or _global_forward_hooks or _global_forward_pre_hooks):\n\u001b[0;32m-> 1520\u001b[0;31m             \u001b[0;32mreturn\u001b[0m \u001b[0mforward_call\u001b[0m\u001b[0;34m(\u001b[0m\u001b[0;34m*\u001b[0m\u001b[0margs\u001b[0m\u001b[0;34m,\u001b[0m \u001b[0;34m**\u001b[0m\u001b[0mkwargs\u001b[0m\u001b[0;34m)\u001b[0m\u001b[0;34m\u001b[0m\u001b[0;34m\u001b[0m\u001b[0m\n\u001b[0m\u001b[1;32m   1521\u001b[0m \u001b[0;34m\u001b[0m\u001b[0m\n\u001b[1;32m   1522\u001b[0m         \u001b[0;32mtry\u001b[0m\u001b[0;34m:\u001b[0m\u001b[0;34m\u001b[0m\u001b[0;34m\u001b[0m\u001b[0m\n",
            "\u001b[0;32m<ipython-input-16-0d91eecf58b6>\u001b[0m in \u001b[0;36mforward\u001b[0;34m(self, X)\u001b[0m\n\u001b[1;32m     24\u001b[0m     \u001b[0mN\u001b[0m \u001b[0;34m=\u001b[0m \u001b[0mX\u001b[0m\u001b[0;34m.\u001b[0m\u001b[0mshape\u001b[0m\u001b[0;34m[\u001b[0m\u001b[0;36m0\u001b[0m\u001b[0;34m]\u001b[0m\u001b[0;34m\u001b[0m\u001b[0;34m\u001b[0m\u001b[0m\n\u001b[1;32m     25\u001b[0m     \u001b[0mL\u001b[0m \u001b[0;34m=\u001b[0m \u001b[0mX\u001b[0m\u001b[0;34m.\u001b[0m\u001b[0mshape\u001b[0m\u001b[0;34m[\u001b[0m\u001b[0;36m1\u001b[0m\u001b[0;34m]\u001b[0m\u001b[0;34m\u001b[0m\u001b[0;34m\u001b[0m\u001b[0m\n\u001b[0;32m---> 26\u001b[0;31m     \u001b[0membedded_letters\u001b[0m \u001b[0;34m=\u001b[0m \u001b[0mself\u001b[0m\u001b[0;34m.\u001b[0m\u001b[0mletters_embedder\u001b[0m\u001b[0;34m(\u001b[0m\u001b[0mX\u001b[0m\u001b[0;34m)\u001b[0m\u001b[0;34m\u001b[0m\u001b[0;34m\u001b[0m\u001b[0m\n\u001b[0m\u001b[1;32m     27\u001b[0m     \u001b[0;31m# Get hidden states for all letters in the sequence\u001b[0m\u001b[0;34m\u001b[0m\u001b[0;34m\u001b[0m\u001b[0m\n\u001b[1;32m     28\u001b[0m     \u001b[0mhidden_states\u001b[0m\u001b[0;34m,\u001b[0m\u001b[0m_\u001b[0m \u001b[0;34m=\u001b[0m \u001b[0mself\u001b[0m\u001b[0;34m.\u001b[0m\u001b[0mrnn\u001b[0m\u001b[0;34m(\u001b[0m\u001b[0membedded_letters\u001b[0m\u001b[0;34m)\u001b[0m\u001b[0;34m\u001b[0m\u001b[0;34m\u001b[0m\u001b[0m\n",
            "\u001b[0;32m/usr/local/lib/python3.10/dist-packages/torch/nn/modules/module.py\u001b[0m in \u001b[0;36m_wrapped_call_impl\u001b[0;34m(self, *args, **kwargs)\u001b[0m\n\u001b[1;32m   1509\u001b[0m             \u001b[0;32mreturn\u001b[0m \u001b[0mself\u001b[0m\u001b[0;34m.\u001b[0m\u001b[0m_compiled_call_impl\u001b[0m\u001b[0;34m(\u001b[0m\u001b[0;34m*\u001b[0m\u001b[0margs\u001b[0m\u001b[0;34m,\u001b[0m \u001b[0;34m**\u001b[0m\u001b[0mkwargs\u001b[0m\u001b[0;34m)\u001b[0m  \u001b[0;31m# type: ignore[misc]\u001b[0m\u001b[0;34m\u001b[0m\u001b[0;34m\u001b[0m\u001b[0m\n\u001b[1;32m   1510\u001b[0m         \u001b[0;32melse\u001b[0m\u001b[0;34m:\u001b[0m\u001b[0;34m\u001b[0m\u001b[0;34m\u001b[0m\u001b[0m\n\u001b[0;32m-> 1511\u001b[0;31m             \u001b[0;32mreturn\u001b[0m \u001b[0mself\u001b[0m\u001b[0;34m.\u001b[0m\u001b[0m_call_impl\u001b[0m\u001b[0;34m(\u001b[0m\u001b[0;34m*\u001b[0m\u001b[0margs\u001b[0m\u001b[0;34m,\u001b[0m \u001b[0;34m**\u001b[0m\u001b[0mkwargs\u001b[0m\u001b[0;34m)\u001b[0m\u001b[0;34m\u001b[0m\u001b[0;34m\u001b[0m\u001b[0m\n\u001b[0m\u001b[1;32m   1512\u001b[0m \u001b[0;34m\u001b[0m\u001b[0m\n\u001b[1;32m   1513\u001b[0m     \u001b[0;32mdef\u001b[0m \u001b[0m_call_impl\u001b[0m\u001b[0;34m(\u001b[0m\u001b[0mself\u001b[0m\u001b[0;34m,\u001b[0m \u001b[0;34m*\u001b[0m\u001b[0margs\u001b[0m\u001b[0;34m,\u001b[0m \u001b[0;34m**\u001b[0m\u001b[0mkwargs\u001b[0m\u001b[0;34m)\u001b[0m\u001b[0;34m:\u001b[0m\u001b[0;34m\u001b[0m\u001b[0;34m\u001b[0m\u001b[0m\n",
            "\u001b[0;32m/usr/local/lib/python3.10/dist-packages/torch/nn/modules/module.py\u001b[0m in \u001b[0;36m_call_impl\u001b[0;34m(self, *args, **kwargs)\u001b[0m\n\u001b[1;32m   1518\u001b[0m                 \u001b[0;32mor\u001b[0m \u001b[0m_global_backward_pre_hooks\u001b[0m \u001b[0;32mor\u001b[0m \u001b[0m_global_backward_hooks\u001b[0m\u001b[0;34m\u001b[0m\u001b[0;34m\u001b[0m\u001b[0m\n\u001b[1;32m   1519\u001b[0m                 or _global_forward_hooks or _global_forward_pre_hooks):\n\u001b[0;32m-> 1520\u001b[0;31m             \u001b[0;32mreturn\u001b[0m \u001b[0mforward_call\u001b[0m\u001b[0;34m(\u001b[0m\u001b[0;34m*\u001b[0m\u001b[0margs\u001b[0m\u001b[0;34m,\u001b[0m \u001b[0;34m**\u001b[0m\u001b[0mkwargs\u001b[0m\u001b[0;34m)\u001b[0m\u001b[0;34m\u001b[0m\u001b[0;34m\u001b[0m\u001b[0m\n\u001b[0m\u001b[1;32m   1521\u001b[0m \u001b[0;34m\u001b[0m\u001b[0m\n\u001b[1;32m   1522\u001b[0m         \u001b[0;32mtry\u001b[0m\u001b[0;34m:\u001b[0m\u001b[0;34m\u001b[0m\u001b[0;34m\u001b[0m\u001b[0m\n",
            "\u001b[0;32m/usr/local/lib/python3.10/dist-packages/torch/nn/modules/sparse.py\u001b[0m in \u001b[0;36mforward\u001b[0;34m(self, input)\u001b[0m\n\u001b[1;32m    161\u001b[0m \u001b[0;34m\u001b[0m\u001b[0m\n\u001b[1;32m    162\u001b[0m     \u001b[0;32mdef\u001b[0m \u001b[0mforward\u001b[0m\u001b[0;34m(\u001b[0m\u001b[0mself\u001b[0m\u001b[0;34m,\u001b[0m \u001b[0minput\u001b[0m\u001b[0;34m:\u001b[0m \u001b[0mTensor\u001b[0m\u001b[0;34m)\u001b[0m \u001b[0;34m->\u001b[0m \u001b[0mTensor\u001b[0m\u001b[0;34m:\u001b[0m\u001b[0;34m\u001b[0m\u001b[0;34m\u001b[0m\u001b[0m\n\u001b[0;32m--> 163\u001b[0;31m         return F.embedding(\n\u001b[0m\u001b[1;32m    164\u001b[0m             \u001b[0minput\u001b[0m\u001b[0;34m,\u001b[0m \u001b[0mself\u001b[0m\u001b[0;34m.\u001b[0m\u001b[0mweight\u001b[0m\u001b[0;34m,\u001b[0m \u001b[0mself\u001b[0m\u001b[0;34m.\u001b[0m\u001b[0mpadding_idx\u001b[0m\u001b[0;34m,\u001b[0m \u001b[0mself\u001b[0m\u001b[0;34m.\u001b[0m\u001b[0mmax_norm\u001b[0m\u001b[0;34m,\u001b[0m\u001b[0;34m\u001b[0m\u001b[0;34m\u001b[0m\u001b[0m\n\u001b[1;32m    165\u001b[0m             self.norm_type, self.scale_grad_by_freq, self.sparse)\n",
            "\u001b[0;32m/usr/local/lib/python3.10/dist-packages/torch/nn/functional.py\u001b[0m in \u001b[0;36membedding\u001b[0;34m(input, weight, padding_idx, max_norm, norm_type, scale_grad_by_freq, sparse)\u001b[0m\n\u001b[1;32m   2235\u001b[0m         \u001b[0;31m# remove once script supports set_grad_enabled\u001b[0m\u001b[0;34m\u001b[0m\u001b[0;34m\u001b[0m\u001b[0m\n\u001b[1;32m   2236\u001b[0m         \u001b[0m_no_grad_embedding_renorm_\u001b[0m\u001b[0;34m(\u001b[0m\u001b[0mweight\u001b[0m\u001b[0;34m,\u001b[0m \u001b[0minput\u001b[0m\u001b[0;34m,\u001b[0m \u001b[0mmax_norm\u001b[0m\u001b[0;34m,\u001b[0m \u001b[0mnorm_type\u001b[0m\u001b[0;34m)\u001b[0m\u001b[0;34m\u001b[0m\u001b[0;34m\u001b[0m\u001b[0m\n\u001b[0;32m-> 2237\u001b[0;31m     \u001b[0;32mreturn\u001b[0m \u001b[0mtorch\u001b[0m\u001b[0;34m.\u001b[0m\u001b[0membedding\u001b[0m\u001b[0;34m(\u001b[0m\u001b[0mweight\u001b[0m\u001b[0;34m,\u001b[0m \u001b[0minput\u001b[0m\u001b[0;34m,\u001b[0m \u001b[0mpadding_idx\u001b[0m\u001b[0;34m,\u001b[0m \u001b[0mscale_grad_by_freq\u001b[0m\u001b[0;34m,\u001b[0m \u001b[0msparse\u001b[0m\u001b[0;34m)\u001b[0m\u001b[0;34m\u001b[0m\u001b[0;34m\u001b[0m\u001b[0m\n\u001b[0m\u001b[1;32m   2238\u001b[0m \u001b[0;34m\u001b[0m\u001b[0m\n\u001b[1;32m   2239\u001b[0m \u001b[0;34m\u001b[0m\u001b[0m\n",
            "\u001b[0;31mRuntimeError\u001b[0m: Expected all tensors to be on the same device, but found at least two devices, cuda:0 and cpu! (when checking argument for argument index in method wrapper_CUDA__index_select)"
          ]
        }
      ],
      "source": [
        "decrypter_network, loss_hist, test_loss_hist, acc_hist = train_test(decrypter_network,\n",
        "                                                 num_epochs,\n",
        "                                                 CE_loss,\n",
        "                                                 optimizer,\n",
        "                                                 train_encrypted_loader, train_decrypted, test_encrypted, test_decrypted)"
      ]
    },
    {
      "cell_type": "code",
      "execution_count": null,
      "metadata": {
        "id": "vBtHb4M9m4yA"
      },
      "outputs": [],
      "source": [
        "plt.plot(loss_hist, '-.r', linewidth=1.0, label='train_loss')\n",
        "plt.plot(test_loss_hist,'-b', linewidth=1.0, label='test_loss')\n",
        "plt.xlabel('train step', fontsize=14)\n",
        "plt.ylabel('loss', fontsize=14)\n",
        "plt.legend()\n",
        "plt.show()\n",
        "\n",
        "plt.plot(acc_hist, linewidth=3.0, label='test_acc')\n",
        "plt.xlabel('train step', fontsize=14)\n",
        "plt.ylabel('accuracy(%)', fontsize=14)\n",
        "plt.ylim([0, 1])\n",
        "plt.xlim([0, num_epochs])\n",
        "plt.legend()\n",
        "plt.show()\n",
        "\n",
        "decrypter_network = decrypter_network.to(device)\n",
        "for idx_sample in range(0,10):\n",
        "  # Inference over single training sequence\n",
        "  letters_probs = decrypter_network(test[idx_sample][0].unsqueeze(0))\n",
        "  # get index of letter with max probability\n",
        "  _,maxprob_letters_idx = letters_probs.max(dim=2)\n",
        "  print('--------------------------------------')\n",
        "  print(f'Original Message encrypted: {int_to_vocabulary(test[idx_sample][0],corr_vocab)}')\n",
        "  print(f'Message decrypted: {int_to_vocabulary(test[idx_sample][1],vocabulary)}')\n",
        "  print(f'Prediction Message decrypted: {int_to_vocabulary(maxprob_letters_idx[0],corr_vocab)}')\n",
        "  acc = (1.0*(maxprob_letters_idx[0]==test[idx_sample][1])).mean().item()\n",
        "  print(f'Prediction Message Accuracy : {round(acc,2)}')"
      ]
    },
    {
      "cell_type": "code",
      "source": [],
      "metadata": {
        "id": "ECWZ8nBfnmn7"
      },
      "execution_count": null,
      "outputs": []
    }
  ],
  "metadata": {
    "accelerator": "GPU",
    "colab": {
      "provenance": []
    },
    "kernelspec": {
      "display_name": "Python 3",
      "name": "python3"
    },
    "language_info": {
      "codemirror_mode": {
        "name": "ipython",
        "version": 3
      },
      "file_extension": ".py",
      "mimetype": "text/x-python",
      "name": "python",
      "nbconvert_exporter": "python",
      "pygments_lexer": "ipython3",
      "version": "3.9.12"
    }
  },
  "nbformat": 4,
  "nbformat_minor": 0
}