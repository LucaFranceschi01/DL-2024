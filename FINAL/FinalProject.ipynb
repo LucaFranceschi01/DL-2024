{
 "cells": [
  {
   "cell_type": "markdown",
   "metadata": {},
   "source": [
    "# Final Project"
   ]
  },
  {
   "cell_type": "markdown",
   "metadata": {},
   "source": [
    "Student 1: Alejandro González Álvarez\n",
    "\n",
    "NIA 1: 252658\n",
    "\n",
    "Student 2: Luca Franceschi\n",
    "\n",
    "NIA 2: 253885\n",
    "\n",
    "Student 3: Júlia Othats-Dalès\n",
    "\n",
    "NIA 3: 254435"
   ]
  },
  {
   "cell_type": "code",
   "execution_count": 1,
   "metadata": {},
   "outputs": [
    {
     "data": {
      "text/plain": [
       "'\\nclassification of doppelgangers: to which person are you more alike?\\n\\ninput: one facial image\\noutput: closest face in the feature space\\n\\npretrained model for image recognition?\\ntriplet loss?\\nsiamese network?\\n\\nuse transfer learning or train with vggface2?\\nfine tune with smaller dataset of doppelgangers\\n\\ncontrastive learning\\nhttps://encord.com/blog/guide-to-contrastive-learning/\\nhttps://www.v7labs.com/blog/contrastive-learning-guide\\nhttps://arxiv.org/pdf/1512.03385\\nhttps://www.geeksforgeeks.org/residual-networks-resnet-deep-learning/\\nhttps://github.com/pytorch/vision/blob/a9a8220e0bcb4ce66a733f8c03a1c2f6c68d22cb/torchvision/models/resnet.py#L56-L72\\n'"
      ]
     },
     "execution_count": 1,
     "metadata": {},
     "output_type": "execute_result"
    }
   ],
   "source": [
    "# ideas\n",
    "\n",
    "'''\n",
    "classification of doppelgangers: to which person are you more alike?\n",
    "\n",
    "input: one facial image\n",
    "output: closest face in the feature space\n",
    "\n",
    "pretrained model for image recognition?\n",
    "triplet loss?\n",
    "siamese network?\n",
    "\n",
    "use transfer learning or train with vggface2?\n",
    "fine tune with smaller dataset of doppelgangers\n",
    "\n",
    "contrastive learning\n",
    "https://encord.com/blog/guide-to-contrastive-learning/\n",
    "https://www.v7labs.com/blog/contrastive-learning-guide\n",
    "https://arxiv.org/pdf/1512.03385\n",
    "https://www.geeksforgeeks.org/residual-networks-resnet-deep-learning/\n",
    "https://github.com/pytorch/vision/blob/a9a8220e0bcb4ce66a733f8c03a1c2f6c68d22cb/torchvision/models/resnet.py#L56-L72\n",
    "'''"
   ]
  },
  {
   "cell_type": "markdown",
   "metadata": {},
   "source": [
    "# Introduction"
   ]
  },
  {
   "cell_type": "code",
   "execution_count": 2,
   "metadata": {},
   "outputs": [],
   "source": [
    "import torch\n",
    "import torch.nn as nn\n",
    "from torchinfo import summary"
   ]
  },
  {
   "cell_type": "code",
   "execution_count": 3,
   "metadata": {},
   "outputs": [],
   "source": [
    "# Comment if not in Google Colab\n",
    "# from google.colab import drive\n",
    "# drive.mount('/content/drive')\n",
    "# data_path = '/content/drive/My Drive/DeepLearning_2024/P4/Data/'\n",
    "# results_path = '/content/drive/My Drive/DeepLearning_2024/P4/Results/'\n",
    "\n",
    "# Comment if in Google Colab\n",
    "data_path = 'Data/'\n",
    "results_path = 'Results/'"
   ]
  },
  {
   "cell_type": "code",
   "execution_count": 4,
   "metadata": {},
   "outputs": [
    {
     "name": "stdout",
     "output_type": "stream",
     "text": [
      "Using cpu device\n"
     ]
    }
   ],
   "source": [
    "# Print if gpu acceleration is enabled\n",
    "device = (\n",
    "    \"cuda\"\n",
    "    if torch.cuda.is_available()\n",
    "    else \"mps\"\n",
    "    if torch.backends.mps.is_available()\n",
    "    else \"cpu\"\n",
    ")\n",
    "print(f\"Using {device} device\")"
   ]
  },
  {
   "cell_type": "markdown",
   "metadata": {},
   "source": [
    "# Visualizing the datasets"
   ]
  },
  {
   "cell_type": "markdown",
   "metadata": {},
   "source": [
    "# Database and dataloaders"
   ]
  },
  {
   "cell_type": "code",
   "execution_count": null,
   "metadata": {},
   "outputs": [],
   "source": []
  },
  {
   "cell_type": "markdown",
   "metadata": {},
   "source": [
    "## Mean and std of the datasets"
   ]
  },
  {
   "cell_type": "markdown",
   "metadata": {},
   "source": [
    "# ResNet-34"
   ]
  },
  {
   "cell_type": "markdown",
   "metadata": {},
   "source": [
    "## Copy paste a ver si va VAMOS SIMPLIFICANDO COSAS PERO QUE SIGA FUNCIONANDO EL TORCH SUMMARY"
   ]
  },
  {
   "cell_type": "code",
   "execution_count": 5,
   "metadata": {},
   "outputs": [],
   "source": [
    "# def conv3x3(in_planes, out_planes, stride=1, padding=1):\n",
    "#     \"\"\"3x3 convolution with padding\"\"\"\n",
    "#     return nn.Conv2d(in_planes, out_planes, kernel_size=3, stride=stride, padding=padding, bias=False)\n",
    "\n",
    "\n",
    "def conv1x1(in_planes, out_planes, stride=1):\n",
    "    \"\"\"1x1 convolution\"\"\"\n",
    "    return nn.Conv2d(in_planes, out_planes, kernel_size=1, stride=stride, bias=False)\n",
    "\n",
    "\n",
    "class BasicBlock(nn.Module):\n",
    "    def __init__(self, inplanes, planes, stride=1, downsample=None, norm_layer=None):\n",
    "        super(BasicBlock, self).__init__()\n",
    "        if norm_layer is None:\n",
    "            norm_layer = nn.BatchNorm2d\n",
    "\n",
    "        # self.conv1 = conv3x3(inplanes, planes, stride)\n",
    "        self.conv1 = nn.Conv2d(inplanes, planes, kernel_size=3, stride=stride, padding=1, bias=False)\n",
    "        self.bn1 = norm_layer(planes)\n",
    "        self.relu = nn.ReLU(inplace=True)\n",
    "        # self.conv2 = conv3x3(planes, planes)\n",
    "        self.conv2 = nn.Conv2d(planes, planes, kernel_size=3, padding=1, bias=False) # in this one stride = 1 then image shape is kept\n",
    "        self.bn2 = norm_layer(planes)\n",
    "        self.downsample = downsample\n",
    "        self.stride = stride\n",
    "\n",
    "    def forward(self, x): # Tip for improving performance merge all into one line relu(bn2(conv2(relu(bn1(conv1(x))))))\n",
    "        identity = x\n",
    "\n",
    "        out = self.conv1(x)\n",
    "        out = self.bn1(out)\n",
    "        out = self.relu(out)\n",
    "\n",
    "        out = self.conv2(out)\n",
    "        out = self.bn2(out)\n",
    "\n",
    "        if self.downsample is not None:\n",
    "            identity = self.downsample(x)\n",
    "\n",
    "        out += identity\n",
    "        out = self.relu(out)\n",
    "\n",
    "        return out\n",
    "\n",
    "class ResNet(nn.Module):\n",
    "\n",
    "    def __init__(self, block, layers, num_classes=1000, zero_init_residual=False,\n",
    "                 groups=1, width_per_group=64, norm_layer=None):\n",
    "        super(ResNet, self).__init__()\n",
    "        if norm_layer is None:\n",
    "            norm_layer = nn.BatchNorm2d\n",
    "        self._norm_layer = norm_layer\n",
    "\n",
    "        self.inplanes = 64\n",
    "\n",
    "        self.groups = groups\n",
    "        self.base_width = width_per_group\n",
    "        self.conv1 = nn.Conv2d(3, self.inplanes, kernel_size=7, stride=2, padding=3, bias=False)\n",
    "        self.bn1 = norm_layer(self.inplanes)\n",
    "        self.relu = nn.ReLU(inplace=True)\n",
    "        self.maxpool = nn.MaxPool2d(kernel_size=3, stride=2, padding=1)\n",
    "        self.layer1 = self._make_layer(block, 64, layers[0])\n",
    "        self.layer2 = self._make_layer(block, 128, layers[1], stride=2)\n",
    "        self.layer3 = self._make_layer(block, 256, layers[2], stride=2)\n",
    "        self.layer4 = self._make_layer(block, 512, layers[3], stride=2)\n",
    "        self.avgpool = nn.AdaptiveAvgPool2d((1, 1))\n",
    "        self.fc = nn.Linear(512, num_classes)\n",
    "\n",
    "        # What is going on ???\n",
    "        for m in self.modules():\n",
    "            if isinstance(m, nn.Conv2d):\n",
    "                nn.init.kaiming_normal_(m.weight, mode='fan_out', nonlinearity='relu')\n",
    "            elif isinstance(m, (nn.BatchNorm2d, nn.GroupNorm)):\n",
    "                nn.init.constant_(m.weight, 1)\n",
    "                nn.init.constant_(m.bias, 0)\n",
    "\n",
    "        # Zero-initialize the last BN in each residual branch,\n",
    "        # so that the residual branch starts with zeros, and each residual block behaves like an identity.\n",
    "        # This improves the model by 0.2~0.3% according to https://arxiv.org/abs/1706.02677\n",
    "        # if zero_init_residual:\n",
    "        #     for m in self.modules():\n",
    "        #         if isinstance(m, Bottleneck):\n",
    "        #             nn.init.constant_(m.bn3.weight, 0)\n",
    "        #         elif isinstance(m, BasicBlock):\n",
    "        #             nn.init.constant_(m.bn2.weight, 0)\n",
    "\n",
    "    def _make_layer(self, block, planes, blocks, stride=1):\n",
    "        norm_layer = self._norm_layer\n",
    "        downsample = None\n",
    "        if stride != 1 or self.inplanes != planes:\n",
    "            downsample = nn.Sequential(\n",
    "                conv1x1(self.inplanes, planes, stride),\n",
    "                norm_layer(planes),\n",
    "            )\n",
    "\n",
    "        layers = []\n",
    "        layers.append(block(self.inplanes, planes, stride, downsample, norm_layer))\n",
    "        self.inplanes = planes\n",
    "        for _ in range(1, blocks):\n",
    "            layers.append(block(self.inplanes, planes, norm_layer=norm_layer))\n",
    "\n",
    "        return nn.Sequential(*layers)\n",
    "\n",
    "    def _forward_impl(self, x):\n",
    "        # See note [TorchScript super()]\n",
    "        x = self.conv1(x)\n",
    "        x = self.bn1(x)\n",
    "        x = self.relu(x)\n",
    "        x = self.maxpool(x)\n",
    "\n",
    "        x = self.layer1(x)\n",
    "        x = self.layer2(x)\n",
    "        x = self.layer3(x)\n",
    "        x = self.layer4(x)\n",
    "\n",
    "        x = self.avgpool(x)\n",
    "        x = torch.flatten(x, 1)\n",
    "        x = self.fc(x)\n",
    "\n",
    "        return x\n",
    "\n",
    "    def forward(self, x):\n",
    "        return self._forward_impl(x)"
   ]
  },
  {
   "cell_type": "code",
   "execution_count": 6,
   "metadata": {},
   "outputs": [
    {
     "data": {
      "text/plain": [
       "==========================================================================================\n",
       "Layer (type:depth-idx)                   Output Shape              Param #\n",
       "==========================================================================================\n",
       "ResNet                                   [32, 128]                 --\n",
       "├─Conv2d: 1-1                            [32, 64, 64, 64]          9,408\n",
       "├─BatchNorm2d: 1-2                       [32, 64, 64, 64]          128\n",
       "├─ReLU: 1-3                              [32, 64, 64, 64]          --\n",
       "├─MaxPool2d: 1-4                         [32, 64, 32, 32]          --\n",
       "├─Sequential: 1-5                        [32, 64, 32, 32]          --\n",
       "│    └─BasicBlock: 2-1                   [32, 64, 32, 32]          --\n",
       "│    │    └─Conv2d: 3-1                  [32, 64, 32, 32]          36,864\n",
       "│    │    └─BatchNorm2d: 3-2             [32, 64, 32, 32]          128\n",
       "│    │    └─ReLU: 3-3                    [32, 64, 32, 32]          --\n",
       "│    │    └─Conv2d: 3-4                  [32, 64, 32, 32]          36,864\n",
       "│    │    └─BatchNorm2d: 3-5             [32, 64, 32, 32]          128\n",
       "│    │    └─ReLU: 3-6                    [32, 64, 32, 32]          --\n",
       "│    └─BasicBlock: 2-2                   [32, 64, 32, 32]          --\n",
       "│    │    └─Conv2d: 3-7                  [32, 64, 32, 32]          36,864\n",
       "│    │    └─BatchNorm2d: 3-8             [32, 64, 32, 32]          128\n",
       "│    │    └─ReLU: 3-9                    [32, 64, 32, 32]          --\n",
       "│    │    └─Conv2d: 3-10                 [32, 64, 32, 32]          36,864\n",
       "│    │    └─BatchNorm2d: 3-11            [32, 64, 32, 32]          128\n",
       "│    │    └─ReLU: 3-12                   [32, 64, 32, 32]          --\n",
       "├─Sequential: 1-6                        [32, 128, 16, 16]         --\n",
       "│    └─BasicBlock: 2-3                   [32, 128, 16, 16]         --\n",
       "│    │    └─Conv2d: 3-13                 [32, 128, 16, 16]         73,728\n",
       "│    │    └─BatchNorm2d: 3-14            [32, 128, 16, 16]         256\n",
       "│    │    └─ReLU: 3-15                   [32, 128, 16, 16]         --\n",
       "│    │    └─Conv2d: 3-16                 [32, 128, 16, 16]         147,456\n",
       "│    │    └─BatchNorm2d: 3-17            [32, 128, 16, 16]         256\n",
       "│    │    └─Sequential: 3-18             [32, 128, 16, 16]         8,448\n",
       "│    │    └─ReLU: 3-19                   [32, 128, 16, 16]         --\n",
       "│    └─BasicBlock: 2-4                   [32, 128, 16, 16]         --\n",
       "│    │    └─Conv2d: 3-20                 [32, 128, 16, 16]         147,456\n",
       "│    │    └─BatchNorm2d: 3-21            [32, 128, 16, 16]         256\n",
       "│    │    └─ReLU: 3-22                   [32, 128, 16, 16]         --\n",
       "│    │    └─Conv2d: 3-23                 [32, 128, 16, 16]         147,456\n",
       "│    │    └─BatchNorm2d: 3-24            [32, 128, 16, 16]         256\n",
       "│    │    └─ReLU: 3-25                   [32, 128, 16, 16]         --\n",
       "├─Sequential: 1-7                        [32, 256, 8, 8]           --\n",
       "│    └─BasicBlock: 2-5                   [32, 256, 8, 8]           --\n",
       "│    │    └─Conv2d: 3-26                 [32, 256, 8, 8]           294,912\n",
       "│    │    └─BatchNorm2d: 3-27            [32, 256, 8, 8]           512\n",
       "│    │    └─ReLU: 3-28                   [32, 256, 8, 8]           --\n",
       "│    │    └─Conv2d: 3-29                 [32, 256, 8, 8]           589,824\n",
       "│    │    └─BatchNorm2d: 3-30            [32, 256, 8, 8]           512\n",
       "│    │    └─Sequential: 3-31             [32, 256, 8, 8]           33,280\n",
       "│    │    └─ReLU: 3-32                   [32, 256, 8, 8]           --\n",
       "│    └─BasicBlock: 2-6                   [32, 256, 8, 8]           --\n",
       "│    │    └─Conv2d: 3-33                 [32, 256, 8, 8]           589,824\n",
       "│    │    └─BatchNorm2d: 3-34            [32, 256, 8, 8]           512\n",
       "│    │    └─ReLU: 3-35                   [32, 256, 8, 8]           --\n",
       "│    │    └─Conv2d: 3-36                 [32, 256, 8, 8]           589,824\n",
       "│    │    └─BatchNorm2d: 3-37            [32, 256, 8, 8]           512\n",
       "│    │    └─ReLU: 3-38                   [32, 256, 8, 8]           --\n",
       "├─Sequential: 1-8                        [32, 512, 4, 4]           --\n",
       "│    └─BasicBlock: 2-7                   [32, 512, 4, 4]           --\n",
       "│    │    └─Conv2d: 3-39                 [32, 512, 4, 4]           1,179,648\n",
       "│    │    └─BatchNorm2d: 3-40            [32, 512, 4, 4]           1,024\n",
       "│    │    └─ReLU: 3-41                   [32, 512, 4, 4]           --\n",
       "│    │    └─Conv2d: 3-42                 [32, 512, 4, 4]           2,359,296\n",
       "│    │    └─BatchNorm2d: 3-43            [32, 512, 4, 4]           1,024\n",
       "│    │    └─Sequential: 3-44             [32, 512, 4, 4]           132,096\n",
       "│    │    └─ReLU: 3-45                   [32, 512, 4, 4]           --\n",
       "│    └─BasicBlock: 2-8                   [32, 512, 4, 4]           --\n",
       "│    │    └─Conv2d: 3-46                 [32, 512, 4, 4]           2,359,296\n",
       "│    │    └─BatchNorm2d: 3-47            [32, 512, 4, 4]           1,024\n",
       "│    │    └─ReLU: 3-48                   [32, 512, 4, 4]           --\n",
       "│    │    └─Conv2d: 3-49                 [32, 512, 4, 4]           2,359,296\n",
       "│    │    └─BatchNorm2d: 3-50            [32, 512, 4, 4]           1,024\n",
       "│    │    └─ReLU: 3-51                   [32, 512, 4, 4]           --\n",
       "├─AdaptiveAvgPool2d: 1-9                 [32, 512, 1, 1]           --\n",
       "├─Linear: 1-10                           [32, 128]                 65,664\n",
       "==========================================================================================\n",
       "Total params: 11,242,176\n",
       "Trainable params: 11,242,176\n",
       "Non-trainable params: 0\n",
       "Total mult-adds (Units.GIGABYTES): 18.95\n",
       "==========================================================================================\n",
       "Input size (MB): 6.29\n",
       "Forward/backward pass size (MB): 415.27\n",
       "Params size (MB): 44.97\n",
       "Estimated Total Size (MB): 466.53\n",
       "=========================================================================================="
      ]
     },
     "execution_count": 6,
     "metadata": {},
     "output_type": "execute_result"
    }
   ],
   "source": [
    "summary(ResNet(BasicBlock, [2, 2, 2, 2], 128), input_size=(32,3,128,128))"
   ]
  }
 ],
 "metadata": {
  "kernelspec": {
   "display_name": ".venv",
   "language": "python",
   "name": "python3"
  },
  "language_info": {
   "codemirror_mode": {
    "name": "ipython",
    "version": 3
   },
   "file_extension": ".py",
   "mimetype": "text/x-python",
   "name": "python",
   "nbconvert_exporter": "python",
   "pygments_lexer": "ipython3",
   "version": "3.12.3"
  }
 },
 "nbformat": 4,
 "nbformat_minor": 2
}
