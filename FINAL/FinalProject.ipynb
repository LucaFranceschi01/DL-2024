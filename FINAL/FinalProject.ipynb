{
 "cells": [
  {
   "cell_type": "markdown",
   "metadata": {},
   "source": [
    "# Final Project"
   ]
  },
  {
   "cell_type": "markdown",
   "metadata": {},
   "source": [
    "Student 1: Alejandro González Álvarez\n",
    "\n",
    "NIA 1: 252658\n",
    "\n",
    "Student 2: Luca Franceschi\n",
    "\n",
    "NIA 2: 253885\n",
    "\n",
    "Student 3: Júlia Othats-Dalès\n",
    "\n",
    "NIA 3: 254435"
   ]
  },
  {
   "cell_type": "code",
   "execution_count": null,
   "metadata": {},
   "outputs": [],
   "source": [
    "# ideas\n",
    "\n",
    "'''\n",
    "classification of doppelgangers: to which person are you more alike?\n",
    "\n",
    "input: one facial image\n",
    "output: closest face in the feature space\n",
    "\n",
    "pretrained model for image recognition?\n",
    "triplet loss?\n",
    "siamese network?\n",
    "\n",
    "use transfer learning or train with vggface2?\n",
    "fine tune with smaller dataset of doppelgangers\n",
    "\n",
    "contrastive learning\n",
    "https://encord.com/blog/guide-to-contrastive-learning/\n",
    "https://www.v7labs.com/blog/contrastive-learning-guide\n",
    "'''"
   ]
  }
 ],
 "metadata": {
  "language_info": {
   "name": "python"
  }
 },
 "nbformat": 4,
 "nbformat_minor": 2
}
