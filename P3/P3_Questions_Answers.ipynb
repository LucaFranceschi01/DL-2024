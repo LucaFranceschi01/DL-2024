{
  "cells": [
    {
      "cell_type": "markdown",
      "metadata": {
        "id": "D9eOpEmm9KHG"
      },
      "source": [
        "# Practice 3"
      ]
    },
    {
      "cell_type": "markdown",
      "metadata": {
        "id": "4rch0yy79KHL"
      },
      "source": [
        "Student 1: Alejandro González Álvarez\n",
        "\n",
        "NIA 1: 252658\n",
        "\n",
        "Student 2: Luca Franceschi\n",
        "\n",
        "NIA 2: 253885\n",
        "\n",
        "Student 3: Júlia Othats-Dalès\n",
        "\n",
        "NIA 3: 254435"
      ]
    },
    {
      "cell_type": "code",
      "execution_count": 1,
      "metadata": {
        "id": "HlwJHylI9KHN"
      },
      "outputs": [
        {
          "name": "stderr",
          "output_type": "stream",
          "text": [
            "/home/lukovsky/Documents/repos/DL-2024/.venv/lib64/python3.12/site-packages/torch/cuda/__init__.py:619: UserWarning: Can't initialize NVML\n",
            "  warnings.warn(\"Can't initialize NVML\")\n"
          ]
        }
      ],
      "source": [
        "import torch\n",
        "import torchvision\n",
        "import torchinfo\n",
        "import numpy as np\n",
        "from PIL import Image\n",
        "import torch.nn as nn\n",
        "import scipy.io as sio\n",
        "import matplotlib.pyplot as plt\n",
        "import torch.nn.functional as F\n",
        "import torchvision.transforms as tf"
      ]
    },
    {
      "cell_type": "markdown",
      "metadata": {
        "id": "9pMcEe8i9KHP"
      },
      "source": [
        "# Google Drive (or not)"
      ]
    },
    {
      "cell_type": "code",
      "execution_count": 2,
      "metadata": {
        "colab": {
          "base_uri": "https://localhost:8080/"
        },
        "id": "_itltoAu9KHP",
        "outputId": "594065d6-d477-4a48-e54c-dfd1dfff9ee6"
      },
      "outputs": [],
      "source": [
        "# Comment if not in Google Colab\n",
        "# from google.colab import drive\n",
        "# drive.mount('/content/drive')\n",
        "\n",
        "# datadir = '/content/drive/My Drive/DeepLearning_2024/P3/Data/'\n",
        "datadir = 'Data/'\n",
        "\n",
        "# resultsdir = '/content/drive/My Drive/DeepLearning_2024/P3/Results/'\n",
        "resultsdir = 'Results/'"
      ]
    },
    {
      "cell_type": "markdown",
      "metadata": {
        "id": "CeHaeaVi9KHQ"
      },
      "source": [
        "# GPU Acceleration (or not)"
      ]
    },
    {
      "cell_type": "code",
      "execution_count": 3,
      "metadata": {
        "colab": {
          "base_uri": "https://localhost:8080/"
        },
        "id": "FzA5X-q19KHQ",
        "outputId": "9117e802-afcb-49ed-9a12-d1ca382ee080"
      },
      "outputs": [
        {
          "name": "stdout",
          "output_type": "stream",
          "text": [
            "Using cpu device\n"
          ]
        }
      ],
      "source": [
        "# Print if gpu acceleration is enabled\n",
        "device = (\n",
        "    \"cuda\"\n",
        "    if torch.cuda.is_available()\n",
        "    else \"mps\"\n",
        "    if torch.backends.mps.is_available()\n",
        "    else \"cpu\"\n",
        ")\n",
        "print(f\"Using {device} device\")"
      ]
    },
    {
      "cell_type": "markdown",
      "metadata": {
        "id": "EvWs2XIYNfhg"
      },
      "source": [
        "# **SVHN Dataset**\n",
        "In the following exercices, you will work with the SVHN dataset: http://ufldl.stanford.edu/housenumbers/\n",
        "\n",
        "It contains RGB images of street digits labeled from 1 to 10 similar to the MNIST dataset.\n",
        "\n",
        "The train and test sets are provided in the folder Data/svhn/ in .mat format.\n",
        "In the following we show an example of how to load the images and labels from these files. A DataLoader for this dataset is provided in the code examples for the lab."
      ]
    },
    {
      "cell_type": "code",
      "execution_count": 4,
      "metadata": {
        "colab": {
          "base_uri": "https://localhost:8080/",
          "height": 448
        },
        "id": "4JNFtVgFNaN3",
        "outputId": "3546e13d-9d41-4fa6-cf04-b1c06f705372"
      },
      "outputs": [
        {
          "name": "stdout",
          "output_type": "stream",
          "text": [
            "Label: 1\n"
          ]
        },
        {
          "data": {
            "image/png": "[encoded data removed]",
            "text/plain": [
              "<Figure size 640x480 with 1 Axes>"
            ]
          },
          "metadata": {},
          "output_type": "display_data"
        }
      ],
      "source": [
        "train_mat = sio.loadmat(datadir + 'svhn/train_32x32.mat')\n",
        "\n",
        "images = train_mat['X']\n",
        "labels = train_mat['y'].squeeze()\n",
        "\n",
        "example_image, example_label = images[:,:,:,0], labels[0]\n",
        "\n",
        "print('Label: ' + str(example_label))\n",
        "plt.imshow(example_image)\n",
        "plt.show()"
      ]
    },
    {
      "cell_type": "markdown",
      "metadata": {
        "id": "zDulabPxYZXi"
      },
      "source": [
        "# Ex. 1\n"
      ]
    },
    {
      "cell_type": "markdown",
      "metadata": {
        "id": "-NwccV9Wzl39"
      },
      "source": [
        "1. Try to obtain the maximum test accuracy possible in the SVHN dataset. For this purpose train/test different variants of the CNN provided in P3-Part1-Examples. You can explore different strategies:\n",
        "    - 1.1. Increase the size of the network by adding one ore more conv. layers. You can also increase the number of filters in each layer.\n",
        "    - 1.2. Try different optimizers such as Adam or SGD with momentum and modify the learning rate. You can check: https://pytorch.org/docs/stable/optim.html\n",
        "    - 1.3. Explore different random transformations during training ( Data augmentation ) such as random cropping with padding. You can check: https://pytorch.org/docs/stable/torchvision/transforms.html . Remember that these random transofrmation must not be used during testing.\n",
        "    - 1.4 Whatever you consider...\n",
        "\n",
        "2. Save all the different models , compare their test accuracy and analyse the results. Discuss what model has been shown more effective and why have you used the different strategies."
      ]
    },
    {
      "cell_type": "markdown",
      "metadata": {
        "id": "TA0aJf5Szxdv"
      },
      "source": [
        "# Sol. 1"
      ]
    },
    {
      "cell_type": "code",
      "execution_count": 5,
      "metadata": {
        "id": "DHVvaY089KHW"
      },
      "outputs": [],
      "source": [
        "#Data Loader\n",
        "class SVHN(torch.utils.data.Dataset):\n",
        "\n",
        "    def __init__(self, dataDir = datadir + 'svhn/train_32x32.mat', transform = None):\n",
        "        mat = sio.loadmat(dataDir)\n",
        "        self.data, self.labels = mat['X'], mat['y'].squeeze()\n",
        "        self.transform = transform\n",
        "\n",
        "    def __getitem__(self, index):\n",
        "        data = self.data[:,:,:,index]\n",
        "        lbl = self.labels[index]\n",
        "\n",
        "        data = Image.fromarray(data)\n",
        "        # Apply a trasnformaiton to the image if it is indicated in the initalizer\n",
        "        if self.transform is not None :\n",
        "            data = self.transform(data)\n",
        "\n",
        "        # return the image and the label\n",
        "        return data,lbl\n",
        "\n",
        "    def __len__(self):\n",
        "        return len(self.data)"
      ]
    },
    {
      "cell_type": "code",
      "execution_count": 6,
      "metadata": {
        "id": "L_B3e0Tq9KHX"
      },
      "outputs": [],
      "source": [
        "def mean_std(dataDir= datadir + 'svhn/train_32x32.mat'):\n",
        "    mat = sio.loadmat(dataDir)\n",
        "    data = mat['X']\n",
        "    return data.mean(axis=(0,1,3)), data.std(axis=(0,1,3))"
      ]
    },
    {
      "cell_type": "code",
      "execution_count": 7,
      "metadata": {
        "colab": {
          "base_uri": "https://localhost:8080/"
        },
        "id": "l2usgyU39KHY",
        "outputId": "1234f332-7033-447c-ab23-0c928a41b80f"
      },
      "outputs": [
        {
          "name": "stdout",
          "output_type": "stream",
          "text": [
            "[111.60893668 113.16127466 120.56512767]\n"
          ]
        }
      ],
      "source": [
        "SHVN_mean, SHVN_std = mean_std()\n",
        "print(SHVN_mean)\n",
        "\n",
        "tr = tf.Compose([\n",
        "    tf.ToTensor(),\n",
        "    tf.Normalize(mean = SHVN_mean, std = SHVN_std)\n",
        "])\n",
        "\n",
        "# Define an standard CNN -> Two conv. blocks and linear layer\n",
        "class ConvNet(nn.Module):\n",
        "    def __init__(self, num_classes=10):\n",
        "\n",
        "        super(ConvNet, self).__init__()\n",
        "\n",
        "        self.conv1 = nn.Conv2d(3, 16, kernel_size=5,  padding=2)\n",
        "        #input : 1 channel, output 16 channel, filter size : 5x5\n",
        "\n",
        "        self.conv2 = nn.Conv2d(16, 32, kernel_size=3,  padding=1)\n",
        "        #input : 1 channel, output 16 channel, filter size : 3x3\n",
        "\n",
        "        self.fc = nn.Linear(8*8*32, num_classes)\n",
        "\n",
        "        self.maxpool= nn.MaxPool2d(kernel_size=2, stride=2)\n",
        "        self.relu = nn.ReLU()\n",
        "\n",
        "    def forward(self, x):\n",
        "\n",
        "        out = self.conv1(x)\n",
        "\n",
        "        out = self.relu(out)\n",
        "        out = self.maxpool(out)\n",
        "\n",
        "        out = self.conv2(out)\n",
        "        out = self.relu(out)\n",
        "        out = self.maxpool(out)\n",
        "\n",
        "        out = out.reshape(out.size(0), -1) #128,32,28,28 -> 128,28*28*32\n",
        "        out = self.fc(out) # we don't need sigmoid or other activation function at the end beacuse we will use nn.CrossEntropyLoss() (check documentation to understand why)\n",
        "\n",
        "        return out"
      ]
    },
    {
      "cell_type": "code",
      "execution_count": 8,
      "metadata": {
        "id": "mUHyuMev9KHY"
      },
      "outputs": [],
      "source": [
        "CNN = ConvNet()\n",
        "CNN = CNN.to(device)"
      ]
    },
    {
      "cell_type": "code",
      "execution_count": 9,
      "metadata": {
        "id": "Q7lyDMv49KHY"
      },
      "outputs": [],
      "source": [
        "# Cross entropy loss for classification problems\n",
        "criterion = nn.CrossEntropyLoss()\n",
        "\n",
        "#Initialize optimizer\n",
        "learning_rate = .001\n",
        "optimizer = torch.optim.Adam(CNN.parameters(),lr = learning_rate)\n",
        "\n",
        "num_epochs = 5"
      ]
    },
    {
      "cell_type": "code",
      "execution_count": 10,
      "metadata": {},
      "outputs": [],
      "source": [
        "# Load train and test datasets\n",
        "SVHNTrain = SVHN(datadir + 'svhn/train_32x32.mat', tr)\n",
        "train_loader = torch.utils.data.DataLoader(dataset=SVHNTrain,\n",
        "                                            batch_size=256,\n",
        "                                            shuffle=True)\n",
        "\n",
        "SVHNTest = SVHN(datadir + 'svhn/test_32x32.mat',tr)\n",
        "test_loader = torch.utils.data.DataLoader(dataset=SVHNTest,\n",
        "                                            batch_size=256,\n",
        "                                            shuffle=True)"
      ]
    },
    {
      "cell_type": "code",
      "execution_count": 11,
      "metadata": {
        "id": "uGOJWdC29KHZ"
      },
      "outputs": [],
      "source": [
        "# Train the model\n",
        "CNN.train() # Set the model in train mode\n",
        "total_step = len(train_loader)\n",
        "# Iterate over epochs\n",
        "for epoch in range(num_epochs):\n",
        "    # Iterate the dataset/batches\n",
        "    for i, (images, labels) in enumerate(train_loader):\n",
        "        # Get batch of samples and labels\n",
        "        images = images.to(device)\n",
        "        labels = labels.to(device)\n",
        "\n",
        "        # Forward pass\n",
        "        outputs = CNN(images)\n",
        "        loss = criterion(outputs, labels)\n",
        "\n",
        "        # Backward and optimize\n",
        "        optimizer.zero_grad()\n",
        "        loss.backward()\n",
        "        optimizer.step()\n",
        "\n",
        "        if (i+1) % 100 == 0:\n",
        "            print ('Epoch [{}/{}], Step [{}/{}], Loss: {:.4f}'\n",
        "                    .format(epoch+1, num_epochs, i+1, total_step, loss.item()))\n",
        "\n",
        "# Save the model checkpoint\n",
        "torch.save(CNN.state_dict(), resultsdir+'model.ckpt')\n",
        "#to load : model.load_state_dict(torch.load(save_name_ori))"
      ]
    },
    {
      "cell_type": "code",
      "execution_count": 12,
      "metadata": {
        "colab": {
          "base_uri": "https://localhost:8080/"
        },
        "id": "R_mqZ6V39KHZ",
        "outputId": "9ac33a85-2383-4d10-db6d-718455b4292e"
      },
      "outputs": [
        {
          "name": "stdout",
          "output_type": "stream",
          "text": [
            "Test Accuracy of the model on the 10000 test images: 12.5 %\n"
          ]
        }
      ],
      "source": [
        "#Load the model\n",
        "CNN.load_state_dict(torch.load(resultsdir+'model.ckpt'))\n",
        "\n",
        "# Test the model\n",
        "CNN.eval() # Set the model in evaluation mode\n",
        "\n",
        "# Compute testing accuracy\n",
        "with torch.no_grad():\n",
        "    correct = 0\n",
        "    total = 0\n",
        "    for images, labels in test_loader:\n",
        "        images = images.to(device)\n",
        "        labels = labels.to(device)\n",
        "        # get network predictions\n",
        "        outputs = CNN(images)\n",
        "\n",
        "        # get predicted class\n",
        "        _, predicted = torch.max(outputs.data, 1)\n",
        "\n",
        "        # compare with the ground-truth\n",
        "        total += labels.size(0)\n",
        "        correct += (predicted == labels).sum().item()\n",
        "\n",
        "    print('Test Accuracy of the model on the 10000 test images: {} %'.format(100 * correct / total))"
      ]
    },
    {
      "cell_type": "markdown",
      "metadata": {
        "id": "C0qkdT02cLs2"
      },
      "source": [
        "### **Testing**\n"
      ]
    },
    {
      "cell_type": "markdown",
      "metadata": {
        "id": "nqJlILSeksxA"
      },
      "source": [
        "#### Number of convolution layers and number of filters (channels)"
      ]
    },
    {
      "cell_type": "code",
      "execution_count": 13,
      "metadata": {
        "id": "3fhZE9txcZu5"
      },
      "outputs": [],
      "source": [
        "#Increasing size of network (one more conv layer)\n",
        "\n",
        "class TestingConvNet(nn.Module):\n",
        "    def __init__(self, num_classes=10):\n",
        "\n",
        "        super(TestingConvNet, self).__init__()\n",
        "\n",
        "        self.conv1 = nn.Conv2d(3, 32, kernel_size=5,  padding=2)\n",
        "        self.conv2 = nn.Conv2d(32, 64, kernel_size=3,  padding=1)\n",
        "\n",
        "        self.conv3 = nn.Conv2d(64, 128, kernel_size=5,  padding=2) #layer added\n",
        "        self.fc = nn.Linear(4*4*128, num_classes) #fully connected layer modified\n",
        "\n",
        "        self.maxpool= nn.MaxPool2d(kernel_size=2, stride=2)\n",
        "        self.relu = nn.ReLU()\n",
        "\n",
        "    def forward(self, x):\n",
        "\n",
        "        out = self.conv1(x)\n",
        "        out = self.relu(out)\n",
        "        out = self.maxpool(out)\n",
        "\n",
        "        out = self.conv2(out)\n",
        "        out = self.relu(out)\n",
        "        out = self.maxpool(out)\n",
        "\n",
        "        out = self.conv3(out)\n",
        "        out = self.relu(out)\n",
        "        out = self.maxpool(out)\n",
        "\n",
        "        out = out.reshape(out.size(0), -1)\n",
        "        out = self.fc(out)\n",
        "\n",
        "        return out"
      ]
    },
    {
      "cell_type": "code",
      "execution_count": 14,
      "metadata": {
        "id": "NqTyOCkGkyUC"
      },
      "outputs": [],
      "source": [
        "CNN = TestingConvNet()\n",
        "CNN = CNN.to(device)\n",
        "\n",
        "# Cross entropy loss for classification problems\n",
        "criterion = nn.CrossEntropyLoss()\n",
        "\n",
        "#Initialize optimizer\n",
        "learning_rate = .001\n",
        "optimizer = torch.optim.Adam(CNN.parameters(),lr = learning_rate)\n",
        "\n",
        "num_epochs = 5"
      ]
    },
    {
      "cell_type": "code",
      "execution_count": 15,
      "metadata": {
        "id": "oi00N-rMnvhP"
      },
      "outputs": [],
      "source": [
        "# Train the model\n",
        "CNN.train() # Set the model in train mode\n",
        "total_step = len(train_loader)\n",
        "# Iterate over epochs\n",
        "for epoch in range(num_epochs):\n",
        "    # Iterate the dataset/batches\n",
        "    for i, (images, labels) in enumerate(train_loader):\n",
        "        # Get batch of samples and labels\n",
        "        images = images.to(device)\n",
        "        labels = labels.to(device)\n",
        "\n",
        "        # Forward pass\n",
        "        outputs = CNN(images)\n",
        "        loss = criterion(outputs, labels)\n",
        "\n",
        "        # Backward and optimize\n",
        "        optimizer.zero_grad()\n",
        "        loss.backward()\n",
        "        optimizer.step()\n",
        "\n",
        "        if (i+1) % 100 == 0:\n",
        "            print ('Epoch [{}/{}], Step [{}/{}], Loss: {:.4f}'\n",
        "                    .format(epoch+1, num_epochs, i+1, total_step, loss.item()))\n",
        "\n",
        "# Save the model checkpoint\n",
        "torch.save(CNN.state_dict(), resultsdir+'model.ckpt')\n",
        "#to load : model.load_state_dict(torch.load(save_name_ori))"
      ]
    },
    {
      "cell_type": "code",
      "execution_count": 16,
      "metadata": {
        "colab": {
          "base_uri": "https://localhost:8080/"
        },
        "id": "ftdCgGLunx7P",
        "outputId": "f496474a-842e-48f2-d7f6-27ae2ad74809"
      },
      "outputs": [
        {
          "name": "stdout",
          "output_type": "stream",
          "text": [
            "Test Accuracy of the model on the 10000 test images: 12.5 %\n"
          ]
        }
      ],
      "source": [
        "#Load the model\n",
        "CNN.load_state_dict(torch.load(resultsdir+'model.ckpt'))\n",
        "\n",
        "# Test the model\n",
        "CNN.eval() # Set the model in evaluation mode\n",
        "\n",
        "# Compute testing accuracy\n",
        "with torch.no_grad():\n",
        "    correct = 0\n",
        "    total = 0\n",
        "    for images, labels in test_loader:\n",
        "        images = images.to(device)\n",
        "        labels = labels.to(device)\n",
        "        # get network predictions\n",
        "        outputs = CNN(images)\n",
        "\n",
        "        # get predicted class\n",
        "        _, predicted = torch.max(outputs.data, 1)\n",
        "\n",
        "        # compare with the ground-truth\n",
        "        total += labels.size(0)\n",
        "        correct += (predicted == labels).sum().item()\n",
        "\n",
        "    print('Test Accuracy of the model on the 10000 test images: {} %'.format(100 * correct / total))"
      ]
    },
    {
      "cell_type": "markdown",
      "metadata": {
        "id": "fTRZehWyuKSg"
      },
      "source": [
        "#### Optimizers"
      ]
    },
    {
      "cell_type": "code",
      "execution_count": 17,
      "metadata": {
        "id": "5M2jXfdOuJs3"
      },
      "outputs": [],
      "source": [
        "CNN = ConvNet()\n",
        "CNN = CNN.to(device)\n",
        "\n",
        "criterion = nn.CrossEntropyLoss()\n",
        "\n",
        "optimizers = [(torch.optim.Adam(CNN.parameters(),lr = .001), \"Adam\"),\n",
        "              (torch.optim.SGD(CNN.parameters(), lr = .001, momentum = 0.9), \"SGD\")]\n",
        "\n",
        "num_epochs = 5"
      ]
    },
    {
      "cell_type": "code",
      "execution_count": 18,
      "metadata": {
        "colab": {
          "base_uri": "https://localhost:8080/"
        },
        "id": "GtJ2lrnHv9eb",
        "outputId": "87c3d853-6fd7-44a1-bacc-5d13be277896"
      },
      "outputs": [
        {
          "name": "stdout",
          "output_type": "stream",
          "text": [
            "Test Accuracy of the model with optimizer Adam: 12.5 %\n",
            "Test Accuracy of the model with optimizer SGD: 12.5 %\n"
          ]
        }
      ],
      "source": [
        "for optimizer, label in optimizers:\n",
        "\n",
        "    CNN.train() # Set the model in train mode\n",
        "    total_step = len(train_loader)\n",
        "    # Iterate over epochs\n",
        "    for epoch in range(num_epochs):\n",
        "        # Iterate the dataset/batches\n",
        "        for i, (images, labels) in enumerate(train_loader):\n",
        "            # Get batch of samples and labels\n",
        "            images = images.to(device)\n",
        "            labels = labels.to(device)\n",
        "\n",
        "            # Forward pass\n",
        "            outputs = CNN(images)\n",
        "            loss = criterion(outputs, labels)\n",
        "\n",
        "            # Backward and optimize\n",
        "            optimizer.zero_grad()\n",
        "            loss.backward()\n",
        "            optimizer.step()\n",
        "\n",
        "            if (i+1) % 100 == 0:\n",
        "                print ('Epoch [{}/{}], Step [{}/{}], Loss: {:.4f}'\n",
        "                        .format(epoch+1, num_epochs, i+1, total_step, loss.item()))\n",
        "\n",
        "    # Save the model checkpoint\n",
        "    torch.save(CNN.state_dict(), resultsdir+'model.ckpt')\n",
        "    #to load : model.load_state_dict(torch.load(save_name_ori))\n",
        "\n",
        "    #Load the model\n",
        "    CNN.load_state_dict(torch.load(resultsdir+'model.ckpt'))\n",
        "\n",
        "    # Test the model\n",
        "    CNN.eval() # Set the model in evaluation mode\n",
        "\n",
        "    # Compute testing accuracy\n",
        "    with torch.no_grad():\n",
        "        correct = 0\n",
        "        total = 0\n",
        "        for images, labels in test_loader:\n",
        "            images = images.to(device)\n",
        "            labels = labels.to(device)\n",
        "            # get network predictions\n",
        "            outputs = CNN(images)\n",
        "\n",
        "            # get predicted class\n",
        "            _, predicted = torch.max(outputs.data, 1)\n",
        "\n",
        "            # compare with the ground-truth\n",
        "            total += labels.size(0)\n",
        "            correct += (predicted == labels).sum().item()\n",
        "\n",
        "        print('Test Accuracy of the model with optimizer {}: {} %'.format(label, 100 * correct / total))"
      ]
    },
    {
      "cell_type": "markdown",
      "metadata": {
        "id": "lTz9Plh6xrlx"
      },
      "source": [
        "#### Learning rate\n"
      ]
    },
    {
      "cell_type": "code",
      "execution_count": 19,
      "metadata": {
        "id": "i01QLA60x3UW"
      },
      "outputs": [],
      "source": [
        "learning_rates = [.01, .05, .001, .005, .0001]"
      ]
    },
    {
      "cell_type": "code",
      "execution_count": 20,
      "metadata": {
        "colab": {
          "base_uri": "https://localhost:8080/"
        },
        "id": "0lwJhgTex-f-",
        "outputId": "832fe46e-e342-4cb3-f79a-dcd56f1a5f84"
      },
      "outputs": [
        {
          "name": "stdout",
          "output_type": "stream",
          "text": [
            "Test Accuracy of the model with learning rate 0.01: 12.5 %\n",
            "Test Accuracy of the model with learning rate 0.05: 12.5 %\n",
            "Test Accuracy of the model with learning rate 0.001: 12.5 %\n",
            "Test Accuracy of the model with learning rate 0.005: 12.5 %\n",
            "Test Accuracy of the model with learning rate 0.0001: 12.5 %\n"
          ]
        }
      ],
      "source": [
        "for lr in learning_rates:\n",
        "\n",
        "    optimizer = torch.optim.Adam(CNN.parameters(),lr = lr)\n",
        "\n",
        "    CNN.train() # Set the model in train mode\n",
        "    total_step = len(train_loader)\n",
        "    # Iterate over epochs\n",
        "    for epoch in range(num_epochs):\n",
        "        # Iterate the dataset/batches\n",
        "        for i, (images, labels) in enumerate(train_loader):\n",
        "            # Get batch of samples and labels\n",
        "            images = images.to(device)\n",
        "            labels = labels.to(device)\n",
        "\n",
        "            # Forward pass\n",
        "            outputs = CNN(images)\n",
        "            loss = criterion(outputs, labels)\n",
        "\n",
        "            # Backward and optimize\n",
        "            optimizer.zero_grad()\n",
        "            loss.backward()\n",
        "            optimizer.step()\n",
        "\n",
        "            if (i+1) % 100 == 0:\n",
        "                print ('Epoch [{}/{}], Step [{}/{}], Loss: {:.4f}'\n",
        "                        .format(epoch+1, num_epochs, i+1, total_step, loss.item()))\n",
        "\n",
        "    # Save the model checkpoint\n",
        "    torch.save(CNN.state_dict(), resultsdir+'model.ckpt')\n",
        "    #to load : model.load_state_dict(torch.load(save_name_ori))\n",
        "\n",
        "    #Load the model\n",
        "    CNN.load_state_dict(torch.load(resultsdir+'model.ckpt'))\n",
        "\n",
        "    # Test the model\n",
        "    CNN.eval() # Set the model in evaluation mode\n",
        "\n",
        "    # Compute testing accuracy\n",
        "    with torch.no_grad():\n",
        "        correct = 0\n",
        "        total = 0\n",
        "        for images, labels in test_loader:\n",
        "            images = images.to(device)\n",
        "            labels = labels.to(device)\n",
        "            # get network predictions\n",
        "            outputs = CNN(images)\n",
        "\n",
        "            # get predicted class\n",
        "            _, predicted = torch.max(outputs.data, 1)\n",
        "\n",
        "            # compare with the ground-truth\n",
        "            total += labels.size(0)\n",
        "            correct += (predicted == labels).sum().item()\n",
        "\n",
        "        print('Test Accuracy of the model with learning rate {}: {} %'.format(lr, 100 * correct / total))"
      ]
    },
    {
      "cell_type": "markdown",
      "metadata": {
        "id": "h7QTVmaKQg4X"
      },
      "source": [
        "# Ex. 2"
      ]
    },
    {
      "cell_type": "markdown",
      "metadata": {
        "id": "TLVQ_LI6kSmK"
      },
      "source": [
        "## **Building your own efficient Convolutional Network architecture for SVHN**\n",
        "\n",
        "In the following,  you will need to build your own CNN architecture to predict digit numbers on the SVHN dataset. You are completely free to use any kind of layers and hyper-parameters for this purpose. Your goal is to acheive the maximum possible accuracy on the test set (the better, the higher score you'll get in the exercice). The only constraint is that your model should not contain more than 150K parameters. Below, we provide a simple code to compute the number of parameters in a model."
      ]
    },
    {
      "cell_type": "markdown",
      "metadata": {
        "id": "0TFCESJFn1xZ"
      },
      "source": [
        "## Computing model parameters"
      ]
    },
    {
      "cell_type": "code",
      "execution_count": 21,
      "metadata": {
        "id": "dnSiO4xQn7qU"
      },
      "outputs": [],
      "source": [
        "# Compute model paramters\n",
        "def compute_model_params(model):\n",
        "  params = 0\n",
        "  for p in model.parameters():\n",
        "    params+= p.numel()\n",
        "  return params"
      ]
    },
    {
      "cell_type": "code",
      "execution_count": 22,
      "metadata": {
        "id": "qnJBuRZVjpOl"
      },
      "outputs": [
        {
          "data": {
            "text/plain": [
              "'\\n1. Design and implement your own CNN. Given that the number of parameters must be small, you can check some papers focused on efficient CNN architectures and get some ideas.\\n  - MobileNet: https://arxiv.org/abs/1704.04861\\n  - MobileNet V2: https://arxiv.org/pdf/1801.04381.pdf\\n  - SqueezeNet: https://arxiv.org/abs/1602.07360\\n  - ShuffleNet: https://arxiv.org/abs/1707.01083\\n  - ESPNet V2: https://arxiv.org/abs/1811.11431\\n2. Train it and test it on SVHN using the provided code.\\n3. Discuss what approaches have you tried, why, and which ones have shown to be more beneficial.\\n'"
            ]
          },
          "execution_count": 22,
          "metadata": {},
          "output_type": "execute_result"
        }
      ],
      "source": [
        "'''\n",
        "1. Design and implement your own CNN. Given that the number of parameters must be small, you can check some papers focused on efficient CNN architectures and get some ideas.\n",
        "  - MobileNet: https://arxiv.org/abs/1704.04861\n",
        "  - MobileNet V2: https://arxiv.org/pdf/1801.04381.pdf\n",
        "  - SqueezeNet: https://arxiv.org/abs/1602.07360\n",
        "  - ShuffleNet: https://arxiv.org/abs/1707.01083\n",
        "  - ESPNet V2: https://arxiv.org/abs/1811.11431\n",
        "2. Train it and test it on SVHN using the provided code.\n",
        "3. Discuss what approaches have you tried, why, and which ones have shown to be more beneficial.\n",
        "'''\n"
      ]
    },
    {
      "cell_type": "markdown",
      "metadata": {
        "id": "VObbYfbsQkls"
      },
      "source": [
        "# Sol. 2"
      ]
    },
    {
      "cell_type": "markdown",
      "metadata": {
        "id": "wlKMweHXPO1z"
      },
      "source": [
        "## Define your own model and check the number of total parameters"
      ]
    },
    {
      "cell_type": "code",
      "execution_count": 23,
      "metadata": {},
      "outputs": [],
      "source": [
        "# https://github.com/xin-w8023/SqueezeNet-PyTorch/blob/master/fire.py\n",
        "\n",
        "class Expand(torch.nn.Module):\n",
        "    def __init__(self, in_channels, e1_out_channles, e3_out_channles):\n",
        "        super(Expand, self).__init__()\n",
        "        self.conv_1x1 = torch.nn.Conv2d(in_channels, e1_out_channles, (1, 1))\n",
        "        self.conv_3x3 = torch.nn.Conv2d(in_channels, e3_out_channles, (3, 3), padding=1)\n",
        "\n",
        "    def forward(self, x):\n",
        "        o1 = self.conv_1x1(x)\n",
        "        o3 = self.conv_3x3(x)\n",
        "        return torch.cat((o1, o3), dim=1)\n",
        "\n",
        "\n",
        "class Fire(torch.nn.Module):\n",
        "    \"\"\"\n",
        "      Fire module in SqueezeNet\n",
        "      out_channles = e1x1 + e3x3\n",
        "      Eg.: input: ?xin_channelsx?x?\n",
        "           output: ?x(e1x1+e3x3)x?x?\n",
        "    \"\"\"\n",
        "    def __init__(self, in_channels, s1x1, e1x1, e3x3):\n",
        "        super(Fire, self).__init__()\n",
        "\n",
        "        # squeeze \n",
        "        self.squeeze = torch.nn.Conv2d(in_channels, s1x1, (1, 1))\n",
        "        self.sq_act = torch.nn.LeakyReLU(0.1)\n",
        "\n",
        "        # expand\n",
        "        self.expand = Expand(s1x1, e1x1, e3x3)\n",
        "        self.ex_act = torch.nn.LeakyReLU(0.1)\n",
        "        \n",
        "\n",
        "    def forward(self, x):\n",
        "        x = self.sq_act(self.squeeze(x))\n",
        "        x = self.ex_act(self.expand(x))\n",
        "        return x"
      ]
    },
    {
      "cell_type": "code",
      "execution_count": 108,
      "metadata": {
        "id": "xMxY47BLpEPG"
      },
      "outputs": [
        {
          "name": "stdout",
          "output_type": "stream",
          "text": [
            "MyModel Parameters: 49518\n"
          ]
        }
      ],
      "source": [
        "# ESPNet V2 Style Architecture\n",
        "class MyModel(nn.Module):\n",
        "    def __init__(self, num_classes=10):\n",
        "\n",
        "        super(MyModel, self).__init__()\n",
        "        self.conv1 = nn.Conv2d(3, 8, kernel_size=3, stride=1, padding=1)\n",
        "        self.maxpool = nn.MaxPool2d(kernel_size=2, stride=2)\n",
        "        self.fire1 = Fire(8, 4, 8, 8)\n",
        "        self.fire2 = Fire(16, 8, 8, 8)\n",
        "        self.fire3 = Fire(16, 8, 16, 16)\n",
        "        self.fire4 = Fire(32, 16, 32, 32)\n",
        "        self.fc = nn.Linear(64*8*8, num_classes)\n",
        "\n",
        "        self.relu = nn.ReLU()\n",
        "\n",
        "    def forward(self, x):\n",
        "        out = self.conv1(x)\n",
        "        out = self.relu(out)\n",
        "\n",
        "        out = self.fire1(out)\n",
        "        out = self.fire2(out)\n",
        "        out = self.maxpool(out)\n",
        "\n",
        "        out = self.fire3(out)\n",
        "        out = self.fire4(out)\n",
        "        out = self.maxpool(out)\n",
        "        \n",
        "        out = self.fc(out.view(out.shape[0], -1))\n",
        "        return out\n",
        "\n",
        "model = MyModel(num_classes=10)\n",
        "n_params = compute_model_params(model)\n",
        "print(\"MyModel Parameters: \" + str(n_params))"
      ]
    },
    {
      "cell_type": "code",
      "execution_count": 110,
      "metadata": {},
      "outputs": [
        {
          "data": {
            "text/plain": [
              "==========================================================================================\n",
              "Layer (type:depth-idx)                   Output Shape              Param #\n",
              "==========================================================================================\n",
              "MyModel                                  [32, 10]                  --\n",
              "├─Conv2d: 1-1                            [32, 8, 32, 32]           224\n",
              "├─ReLU: 1-2                              [32, 8, 32, 32]           --\n",
              "├─Fire: 1-3                              [32, 16, 32, 32]          --\n",
              "│    └─Conv2d: 2-1                       [32, 4, 32, 32]           36\n",
              "│    └─LeakyReLU: 2-2                    [32, 4, 32, 32]           --\n",
              "│    └─Expand: 2-3                       [32, 16, 32, 32]          --\n",
              "│    │    └─Conv2d: 3-1                  [32, 8, 32, 32]           40\n",
              "│    │    └─Conv2d: 3-2                  [32, 8, 32, 32]           296\n",
              "│    └─LeakyReLU: 2-4                    [32, 16, 32, 32]          --\n",
              "├─Fire: 1-4                              [32, 16, 32, 32]          --\n",
              "│    └─Conv2d: 2-5                       [32, 8, 32, 32]           136\n",
              "│    └─LeakyReLU: 2-6                    [32, 8, 32, 32]           --\n",
              "│    └─Expand: 2-7                       [32, 16, 32, 32]          --\n",
              "│    │    └─Conv2d: 3-3                  [32, 8, 32, 32]           72\n",
              "│    │    └─Conv2d: 3-4                  [32, 8, 32, 32]           584\n",
              "│    └─LeakyReLU: 2-8                    [32, 16, 32, 32]          --\n",
              "├─MaxPool2d: 1-5                         [32, 16, 16, 16]          --\n",
              "├─Fire: 1-6                              [32, 32, 16, 16]          --\n",
              "│    └─Conv2d: 2-9                       [32, 8, 16, 16]           136\n",
              "│    └─LeakyReLU: 2-10                   [32, 8, 16, 16]           --\n",
              "│    └─Expand: 2-11                      [32, 32, 16, 16]          --\n",
              "│    │    └─Conv2d: 3-5                  [32, 16, 16, 16]          144\n",
              "│    │    └─Conv2d: 3-6                  [32, 16, 16, 16]          1,168\n",
              "│    └─LeakyReLU: 2-12                   [32, 32, 16, 16]          --\n",
              "├─Fire: 1-7                              [32, 64, 16, 16]          --\n",
              "│    └─Conv2d: 2-13                      [32, 16, 16, 16]          528\n",
              "│    └─LeakyReLU: 2-14                   [32, 16, 16, 16]          --\n",
              "│    └─Expand: 2-15                      [32, 64, 16, 16]          --\n",
              "│    │    └─Conv2d: 3-7                  [32, 32, 16, 16]          544\n",
              "│    │    └─Conv2d: 3-8                  [32, 32, 16, 16]          4,640\n",
              "│    └─LeakyReLU: 2-16                   [32, 64, 16, 16]          --\n",
              "├─MaxPool2d: 1-8                         [32, 64, 8, 8]            --\n",
              "├─Linear: 1-9                            [32, 10]                  40,970\n",
              "==========================================================================================\n",
              "Total params: 49,518\n",
              "Trainable params: 49,518\n",
              "Non-trainable params: 0\n",
              "Total mult-adds (Units.MEGABYTES): 105.45\n",
              "==========================================================================================\n",
              "Input size (MB): 0.39\n",
              "Forward/backward pass size (MB): 21.50\n",
              "Params size (MB): 0.20\n",
              "Estimated Total Size (MB): 22.09\n",
              "=========================================================================================="
            ]
          },
          "execution_count": 110,
          "metadata": {},
          "output_type": "execute_result"
        }
      ],
      "source": [
        "torchinfo.summary(model, (32, 3, 32, 32))"
      ]
    },
    {
      "cell_type": "markdown",
      "metadata": {
        "id": "3dangurPPcgm"
      },
      "source": [
        "## Train your model on SVHN\n",
        "It is not allowed to change training hyper-parameters such as learning rate, batch size or number of epochs. You can only modify the architecture definition."
      ]
    },
    {
      "cell_type": "code",
      "execution_count": 111,
      "metadata": {
        "id": "ccmWoqr5u9Xj"
      },
      "outputs": [],
      "source": [
        "# Train function\n",
        "def train(CNN, train_loader, optimizer, num_epochs=5, model_name='model.ckpt', device='cpu'):\n",
        "    CNN.train() # Set the model in train mode\n",
        "    total_step = len(train_loader)\n",
        "    losses_list = []\n",
        "    criterion = nn.CrossEntropyLoss()\n",
        "    # Iterate over epochs\n",
        "    for epoch in range(num_epochs):\n",
        "        # Iterate the dataset\n",
        "        loss_avg = 0\n",
        "        nBatches = 0\n",
        "        for i, (images, labels) in enumerate(train_loader):\n",
        "            # Get batch of samples and labels\n",
        "            images = images.to(device)\n",
        "            labels = labels.type(torch.LongTensor).to(device)\n",
        "\n",
        "            # Forward pass\n",
        "            outputs = CNN(images)\n",
        "            loss = criterion(outputs, labels)\n",
        "\n",
        "            # Backward and optimize\n",
        "            optimizer.zero_grad()\n",
        "            loss.backward()\n",
        "            optimizer.step()\n",
        "\n",
        "            loss_avg += loss.to(device).item()\n",
        "            nBatches+=1\n",
        "            if (i+1) % 100 == 0:\n",
        "                print ('Epoch [{}/{}], Step [{}/{}], Loss: {:.4f}'\n",
        "                       .format(epoch+1, num_epochs, i+1, total_step, loss_avg / nBatches))\n",
        "        print ('Epoch [{}/{}], Step [{}/{}], Loss: {:.4f}'\n",
        "                       .format(epoch+1, num_epochs, i+1, total_step, loss_avg / nBatches))\n",
        "        losses_list.append(loss_avg / nBatches)\n",
        "        torch.save(CNN.state_dict(), resultsdir+ '/' + model_name)\n",
        "\n",
        "    return losses_list\n",
        "\n",
        "# Test funcion\n",
        "def test(CNN, test_loader):\n",
        "  with torch.no_grad():\n",
        "        correct = 0\n",
        "        total = 0\n",
        "        for images, labels in test_loader:\n",
        "            images = images.to(device)\n",
        "            labels = labels.to(device)\n",
        "            # get network predictions\n",
        "            outputs = CNN(images)\n",
        "\n",
        "            # get predicted class\n",
        "            _, predicted = torch.max(outputs.data, 1)\n",
        "\n",
        "            # compare with the ground-truth\n",
        "            total += labels.size(0)\n",
        "            correct += (predicted == labels).sum().item()\n",
        "        # return accuracy\n",
        "        return 100 * correct / total"
      ]
    },
    {
      "cell_type": "code",
      "execution_count": 112,
      "metadata": {
        "id": "9vib9IY2vAkP"
      },
      "outputs": [
        {
          "name": "stdout",
          "output_type": "stream",
          "text": [
            "Epoch [1/200], Step [1/1], Loss: 2.3049\n",
            "Epoch [2/200], Step [1/1], Loss: 2.2957\n",
            "Epoch [3/200], Step [1/1], Loss: 2.2791\n",
            "Epoch [4/200], Step [1/1], Loss: 2.2569\n",
            "Epoch [5/200], Step [1/1], Loss: 2.2314\n",
            "Epoch [6/200], Step [1/1], Loss: 2.2045\n",
            "Epoch [7/200], Step [1/1], Loss: 2.1781\n",
            "Epoch [8/200], Step [1/1], Loss: 2.1538\n",
            "Epoch [9/200], Step [1/1], Loss: 2.1328\n",
            "Epoch [10/200], Step [1/1], Loss: 2.1161\n",
            "Epoch [11/200], Step [1/1], Loss: 2.1042\n",
            "Epoch [12/200], Step [1/1], Loss: 2.0970\n",
            "Epoch [13/200], Step [1/1], Loss: 2.0938\n",
            "Epoch [14/200], Step [1/1], Loss: 2.0934\n",
            "Epoch [15/200], Step [1/1], Loss: 2.0942\n",
            "Epoch [16/200], Step [1/1], Loss: 2.0950\n",
            "Epoch [17/200], Step [1/1], Loss: 2.0947\n",
            "Epoch [18/200], Step [1/1], Loss: 2.0930\n",
            "Epoch [19/200], Step [1/1], Loss: 2.0900\n",
            "Epoch [20/200], Step [1/1], Loss: 2.0863\n",
            "Epoch [21/200], Step [1/1], Loss: 2.0824\n",
            "Epoch [22/200], Step [1/1], Loss: 2.0787\n",
            "Epoch [23/200], Step [1/1], Loss: 2.0756\n",
            "Epoch [24/200], Step [1/1], Loss: 2.0733\n",
            "Epoch [25/200], Step [1/1], Loss: 2.0717\n",
            "Epoch [26/200], Step [1/1], Loss: 2.0707\n",
            "Epoch [27/200], Step [1/1], Loss: 2.0702\n",
            "Epoch [28/200], Step [1/1], Loss: 2.0699\n",
            "Epoch [29/200], Step [1/1], Loss: 2.0698\n",
            "Epoch [30/200], Step [1/1], Loss: 2.0696\n",
            "Epoch [31/200], Step [1/1], Loss: 2.0694\n",
            "Epoch [32/200], Step [1/1], Loss: 2.0690\n",
            "Epoch [33/200], Step [1/1], Loss: 2.0685\n",
            "Epoch [34/200], Step [1/1], Loss: 2.0678\n",
            "Epoch [35/200], Step [1/1], Loss: 2.0671\n",
            "Epoch [36/200], Step [1/1], Loss: 2.0664\n",
            "Epoch [37/200], Step [1/1], Loss: 2.0657\n",
            "Epoch [38/200], Step [1/1], Loss: 2.0651\n",
            "Epoch [39/200], Step [1/1], Loss: 2.0646\n",
            "Epoch [40/200], Step [1/1], Loss: 2.0641\n",
            "Epoch [41/200], Step [1/1], Loss: 2.0638\n",
            "Epoch [42/200], Step [1/1], Loss: 2.0635\n",
            "Epoch [43/200], Step [1/1], Loss: 2.0632\n",
            "Epoch [44/200], Step [1/1], Loss: 2.0630\n",
            "Epoch [45/200], Step [1/1], Loss: 2.0629\n",
            "Epoch [46/200], Step [1/1], Loss: 2.0627\n",
            "Epoch [47/200], Step [1/1], Loss: 2.0625\n",
            "Epoch [48/200], Step [1/1], Loss: 2.0623\n",
            "Epoch [49/200], Step [1/1], Loss: 2.0622\n",
            "Epoch [50/200], Step [1/1], Loss: 2.0620\n",
            "Epoch [51/200], Step [1/1], Loss: 2.0619\n",
            "Epoch [52/200], Step [1/1], Loss: 2.0617\n",
            "Epoch [53/200], Step [1/1], Loss: 2.0616\n",
            "Epoch [54/200], Step [1/1], Loss: 2.0614\n",
            "Epoch [55/200], Step [1/1], Loss: 2.0612\n",
            "Epoch [56/200], Step [1/1], Loss: 2.0611\n",
            "Epoch [57/200], Step [1/1], Loss: 2.0609\n",
            "Epoch [58/200], Step [1/1], Loss: 2.0608\n",
            "Epoch [59/200], Step [1/1], Loss: 2.0607\n",
            "Epoch [60/200], Step [1/1], Loss: 2.0606\n",
            "Epoch [61/200], Step [1/1], Loss: 2.0605\n",
            "Epoch [62/200], Step [1/1], Loss: 2.0604\n",
            "Epoch [63/200], Step [1/1], Loss: 2.0603\n",
            "Epoch [64/200], Step [1/1], Loss: 2.0602\n",
            "Epoch [65/200], Step [1/1], Loss: 2.0602\n",
            "Epoch [66/200], Step [1/1], Loss: 2.0601\n",
            "Epoch [67/200], Step [1/1], Loss: 2.0600\n",
            "Epoch [68/200], Step [1/1], Loss: 2.0600\n",
            "Epoch [69/200], Step [1/1], Loss: 2.0599\n",
            "Epoch [70/200], Step [1/1], Loss: 2.0599\n",
            "Epoch [71/200], Step [1/1], Loss: 2.0598\n",
            "Epoch [72/200], Step [1/1], Loss: 2.0597\n",
            "Epoch [73/200], Step [1/1], Loss: 2.0597\n",
            "Epoch [74/200], Step [1/1], Loss: 2.0596\n",
            "Epoch [75/200], Step [1/1], Loss: 2.0596\n",
            "Epoch [76/200], Step [1/1], Loss: 2.0595\n",
            "Epoch [77/200], Step [1/1], Loss: 2.0595\n",
            "Epoch [78/200], Step [1/1], Loss: 2.0594\n",
            "Epoch [79/200], Step [1/1], Loss: 2.0594\n",
            "Epoch [80/200], Step [1/1], Loss: 2.0593\n",
            "Epoch [81/200], Step [1/1], Loss: 2.0593\n",
            "Epoch [82/200], Step [1/1], Loss: 2.0592\n",
            "Epoch [83/200], Step [1/1], Loss: 2.0592\n",
            "Epoch [84/200], Step [1/1], Loss: 2.0592\n",
            "Epoch [85/200], Step [1/1], Loss: 2.0591\n",
            "Epoch [86/200], Step [1/1], Loss: 2.0591\n",
            "Epoch [87/200], Step [1/1], Loss: 2.0591\n",
            "Epoch [88/200], Step [1/1], Loss: 2.0590\n",
            "Epoch [89/200], Step [1/1], Loss: 2.0590\n",
            "Epoch [90/200], Step [1/1], Loss: 2.0590\n",
            "Epoch [91/200], Step [1/1], Loss: 2.0589\n",
            "Epoch [92/200], Step [1/1], Loss: 2.0589\n",
            "Epoch [93/200], Step [1/1], Loss: 2.0589\n",
            "Epoch [94/200], Step [1/1], Loss: 2.0588\n",
            "Epoch [95/200], Step [1/1], Loss: 2.0588\n",
            "Epoch [96/200], Step [1/1], Loss: 2.0588\n",
            "Epoch [97/200], Step [1/1], Loss: 2.0588\n",
            "Epoch [98/200], Step [1/1], Loss: 2.0587\n",
            "Epoch [99/200], Step [1/1], Loss: 2.0587\n",
            "Epoch [100/200], Step [1/1], Loss: 2.0587\n",
            "Epoch [101/200], Step [1/1], Loss: 2.0587\n",
            "Epoch [102/200], Step [1/1], Loss: 2.0586\n",
            "Epoch [103/200], Step [1/1], Loss: 2.0586\n",
            "Epoch [104/200], Step [1/1], Loss: 2.0586\n",
            "Epoch [105/200], Step [1/1], Loss: 2.0586\n",
            "Epoch [106/200], Step [1/1], Loss: 2.0585\n",
            "Epoch [107/200], Step [1/1], Loss: 2.0585\n",
            "Epoch [108/200], Step [1/1], Loss: 2.0585\n",
            "Epoch [109/200], Step [1/1], Loss: 2.0585\n",
            "Epoch [110/200], Step [1/1], Loss: 2.0585\n",
            "Epoch [111/200], Step [1/1], Loss: 2.0585\n",
            "Epoch [112/200], Step [1/1], Loss: 2.0584\n",
            "Epoch [113/200], Step [1/1], Loss: 2.0584\n",
            "Epoch [114/200], Step [1/1], Loss: 2.0584\n",
            "Epoch [115/200], Step [1/1], Loss: 2.0584\n",
            "Epoch [116/200], Step [1/1], Loss: 2.0584\n",
            "Epoch [117/200], Step [1/1], Loss: 2.0583\n",
            "Epoch [118/200], Step [1/1], Loss: 2.0583\n",
            "Epoch [119/200], Step [1/1], Loss: 2.0583\n",
            "Epoch [120/200], Step [1/1], Loss: 2.0583\n",
            "Epoch [121/200], Step [1/1], Loss: 2.0583\n",
            "Epoch [122/200], Step [1/1], Loss: 2.0583\n",
            "Epoch [123/200], Step [1/1], Loss: 2.0583\n",
            "Epoch [124/200], Step [1/1], Loss: 2.0582\n",
            "Epoch [125/200], Step [1/1], Loss: 2.0582\n",
            "Epoch [126/200], Step [1/1], Loss: 2.0582\n",
            "Epoch [127/200], Step [1/1], Loss: 2.0582\n",
            "Epoch [128/200], Step [1/1], Loss: 2.0582\n",
            "Epoch [129/200], Step [1/1], Loss: 2.0582\n",
            "Epoch [130/200], Step [1/1], Loss: 2.0582\n",
            "Epoch [131/200], Step [1/1], Loss: 2.0582\n",
            "Epoch [132/200], Step [1/1], Loss: 2.0581\n",
            "Epoch [133/200], Step [1/1], Loss: 2.0581\n",
            "Epoch [134/200], Step [1/1], Loss: 2.0581\n",
            "Epoch [135/200], Step [1/1], Loss: 2.0581\n",
            "Epoch [136/200], Step [1/1], Loss: 2.0581\n",
            "Epoch [137/200], Step [1/1], Loss: 2.0581\n",
            "Epoch [138/200], Step [1/1], Loss: 2.0581\n",
            "Epoch [139/200], Step [1/1], Loss: 2.0581\n",
            "Epoch [140/200], Step [1/1], Loss: 2.0581\n",
            "Epoch [141/200], Step [1/1], Loss: 2.0580\n",
            "Epoch [142/200], Step [1/1], Loss: 2.0580\n",
            "Epoch [143/200], Step [1/1], Loss: 2.0580\n",
            "Epoch [144/200], Step [1/1], Loss: 2.0580\n",
            "Epoch [145/200], Step [1/1], Loss: 2.0580\n",
            "Epoch [146/200], Step [1/1], Loss: 2.0580\n",
            "Epoch [147/200], Step [1/1], Loss: 2.0580\n",
            "Epoch [148/200], Step [1/1], Loss: 2.0580\n",
            "Epoch [149/200], Step [1/1], Loss: 2.0580\n",
            "Epoch [150/200], Step [1/1], Loss: 2.0580\n",
            "Epoch [151/200], Step [1/1], Loss: 2.0579\n",
            "Epoch [152/200], Step [1/1], Loss: 2.0579\n",
            "Epoch [153/200], Step [1/1], Loss: 2.0579\n",
            "Epoch [154/200], Step [1/1], Loss: 2.0579\n",
            "Epoch [155/200], Step [1/1], Loss: 2.0579\n",
            "Epoch [156/200], Step [1/1], Loss: 2.0579\n",
            "Epoch [157/200], Step [1/1], Loss: 2.0579\n",
            "Epoch [158/200], Step [1/1], Loss: 2.0579\n",
            "Epoch [159/200], Step [1/1], Loss: 2.0579\n",
            "Epoch [160/200], Step [1/1], Loss: 2.0579\n",
            "Epoch [161/200], Step [1/1], Loss: 2.0579\n",
            "Epoch [162/200], Step [1/1], Loss: 2.0579\n",
            "Epoch [163/200], Step [1/1], Loss: 2.0579\n",
            "Epoch [164/200], Step [1/1], Loss: 2.0578\n",
            "Epoch [165/200], Step [1/1], Loss: 2.0578\n",
            "Epoch [166/200], Step [1/1], Loss: 2.0578\n",
            "Epoch [167/200], Step [1/1], Loss: 2.0578\n",
            "Epoch [168/200], Step [1/1], Loss: 2.0578\n",
            "Epoch [169/200], Step [1/1], Loss: 2.0578\n",
            "Epoch [170/200], Step [1/1], Loss: 2.0578\n",
            "Epoch [171/200], Step [1/1], Loss: 2.0578\n",
            "Epoch [172/200], Step [1/1], Loss: 2.0578\n",
            "Epoch [173/200], Step [1/1], Loss: 2.0578\n",
            "Epoch [174/200], Step [1/1], Loss: 2.0578\n",
            "Epoch [175/200], Step [1/1], Loss: 2.0578\n",
            "Epoch [176/200], Step [1/1], Loss: 2.0578\n",
            "Epoch [177/200], Step [1/1], Loss: 2.0578\n",
            "Epoch [178/200], Step [1/1], Loss: 2.0578\n",
            "Epoch [179/200], Step [1/1], Loss: 2.0578\n",
            "Epoch [180/200], Step [1/1], Loss: 2.0577\n",
            "Epoch [181/200], Step [1/1], Loss: 2.0577\n",
            "Epoch [182/200], Step [1/1], Loss: 2.0577\n",
            "Epoch [183/200], Step [1/1], Loss: 2.0577\n",
            "Epoch [184/200], Step [1/1], Loss: 2.0577\n",
            "Epoch [185/200], Step [1/1], Loss: 2.0577\n",
            "Epoch [186/200], Step [1/1], Loss: 2.0577\n",
            "Epoch [187/200], Step [1/1], Loss: 2.0577\n",
            "Epoch [188/200], Step [1/1], Loss: 2.0577\n",
            "Epoch [189/200], Step [1/1], Loss: 2.0577\n",
            "Epoch [190/200], Step [1/1], Loss: 2.0577\n",
            "Epoch [191/200], Step [1/1], Loss: 2.0577\n",
            "Epoch [192/200], Step [1/1], Loss: 2.0577\n",
            "Epoch [193/200], Step [1/1], Loss: 2.0577\n",
            "Epoch [194/200], Step [1/1], Loss: 2.0577\n",
            "Epoch [195/200], Step [1/1], Loss: 2.0577\n",
            "Epoch [196/200], Step [1/1], Loss: 2.0577\n",
            "Epoch [197/200], Step [1/1], Loss: 2.0577\n",
            "Epoch [198/200], Step [1/1], Loss: 2.0577\n",
            "Epoch [199/200], Step [1/1], Loss: 2.0577\n",
            "Epoch [200/200], Step [1/1], Loss: 2.0576\n"
          ]
        }
      ],
      "source": [
        "#Train MyModel\n",
        "my_model = MyModel()\n",
        "\n",
        "#Initialize optimizer\n",
        "learning_rate = .01\n",
        "optimizer = torch.optim.SGD(my_model.parameters(),lr = learning_rate,\n",
        "                            weight_decay=1e-5, momentum=0.9)\n",
        "\n",
        "my_model = my_model.to(device)\n",
        "\n",
        "losses_list = train(my_model, train_loader, optimizer, num_epochs=200, model_name='my_net.ckpt', device=device)"
      ]
    },
    {
      "cell_type": "markdown",
      "metadata": {
        "id": "s4ilm-FoPmLX"
      },
      "source": [
        "## Test your model\n",
        "As a reference, 93% of accuracy can be easily achieved by using only ~55000 parameters."
      ]
    },
    {
      "cell_type": "code",
      "execution_count": 67,
      "metadata": {
        "id": "LHT86IPSzOYi"
      },
      "outputs": [
        {
          "name": "stdout",
          "output_type": "stream",
          "text": [
            "Accuracy MyNet: 12.5\n"
          ]
        }
      ],
      "source": [
        "# Show results for all the trained models\n",
        "SVHNTest = SVHN(datadir+'/svhn/test_32x32.mat',tr)\n",
        "test_loader = torch.utils.data.DataLoader(dataset=SVHNTest,\n",
        "                                               batch_size=256,\n",
        "                                               shuffle=True)\n",
        "\n",
        "#\n",
        "my_net = MyModel()\n",
        "my_net.load_state_dict(torch.load(resultsdir + 'my_net.ckpt'))\n",
        "my_net.to(device)\n",
        "acc = test(my_net, test_loader)\n",
        "print('Accuracy MyNet: ' + str(acc))"
      ]
    },
    {
      "cell_type": "markdown",
      "metadata": {
        "id": "S7UMjGA9TOUM"
      },
      "source": [
        "# Ex. 3"
      ]
    },
    {
      "cell_type": "code",
      "execution_count": 29,
      "metadata": {
        "id": "HXvqONt8TNuc"
      },
      "outputs": [
        {
          "data": {
            "text/plain": [
              "'\\n1. Use the implemented architecture in the previous exercice to solve the transfer learning\\n   task provided in the examples.\\n2. Try to fine-tune not only the last layer for the CNN but a larger subset of parameters.\\n2. Report the test accuracy in each case and discuss the results.\\n'"
            ]
          },
          "execution_count": 29,
          "metadata": {},
          "output_type": "execute_result"
        }
      ],
      "source": [
        "'''\n",
        "1. Use the implemented architecture in the previous exercice to solve the transfer learning\n",
        "   task provided in the examples.\n",
        "2. Try to fine-tune not only the last layer for the CNN but a larger subset of parameters.\n",
        "2. Report the test accuracy in each case and discuss the results.\n",
        "'''"
      ]
    },
    {
      "cell_type": "markdown",
      "metadata": {
        "id": "o31sdIuJUHex"
      },
      "source": [
        "## Sol. 3"
      ]
    },
    {
      "cell_type": "markdown",
      "metadata": {
        "id": "bSGN1MHVIQBJ"
      },
      "source": [
        "### Initialize DataLoaders for Transfer Learning experiment"
      ]
    },
    {
      "cell_type": "code",
      "execution_count": 30,
      "metadata": {
        "id": "lftsNbnEHeoh"
      },
      "outputs": [],
      "source": [
        "# Big dataset with numbers from 1 to 8\n",
        "SVHNTrain_TL = SVHN(datadir+'/svhn_tl/tl_train_32x32.mat',tr)\n",
        "tl_train_loader = torch.utils.data.DataLoader(dataset=SVHNTrain_TL,\n",
        "                                               batch_size=256,\n",
        "                                               shuffle=True)\n",
        "\n",
        "# 200 samples of 0s and 9s\n",
        "SVHNTrain_TL_0_9 = SVHN(datadir+'/svhn_tl/tl_train_9_10_32x32.mat',tr)\n",
        "tl_train_loader_0_9 = torch.utils.data.DataLoader(dataset=SVHNTrain_TL_0_9,\n",
        "                                                  batch_size=64,\n",
        "                                                  shuffle=True)\n",
        "# Test dataset with 0 and 9s\n",
        "SVHNTest_TL_0_9 = SVHN(datadir+'/svhn_tl/tl_test_9_10_32x32.mat',tr)\n",
        "tl_test_loader_0_9 = torch.utils.data.DataLoader(dataset=SVHNTest_TL_0_9,\n",
        "                                                  batch_size=64,\n",
        "                                                  shuffle=True)"
      ]
    },
    {
      "cell_type": "markdown",
      "metadata": {
        "id": "VXbLlY4aC4Ga"
      },
      "source": [
        "### Pre-train your model with the big dataset with numbers from 1 to 8"
      ]
    },
    {
      "cell_type": "code",
      "execution_count": 31,
      "metadata": {
        "id": "o2zitIY5tJRg"
      },
      "outputs": [
        {
          "ename": "IndexError",
          "evalue": "Target 8 is out of bounds.",
          "output_type": "error",
          "traceback": [
            "\u001b[0;31m---------------------------------------------------------------------------\u001b[0m",
            "\u001b[0;31mIndexError\u001b[0m                                Traceback (most recent call last)",
            "Cell \u001b[0;32mIn[31], line 10\u001b[0m\n\u001b[1;32m      7\u001b[0m device \u001b[38;5;241m=\u001b[39m torch\u001b[38;5;241m.\u001b[39mdevice(\u001b[38;5;124m'\u001b[39m\u001b[38;5;124mcuda:0\u001b[39m\u001b[38;5;124m'\u001b[39m \u001b[38;5;28;01mif\u001b[39;00m torch\u001b[38;5;241m.\u001b[39mcuda\u001b[38;5;241m.\u001b[39mis_available() \u001b[38;5;28;01melse\u001b[39;00m \u001b[38;5;124m'\u001b[39m\u001b[38;5;124mcpu\u001b[39m\u001b[38;5;124m'\u001b[39m)\n\u001b[1;32m      8\u001b[0m resnet_tl \u001b[38;5;241m=\u001b[39m resnet_tl\u001b[38;5;241m.\u001b[39mto(device)\n\u001b[0;32m---> 10\u001b[0m losses_it \u001b[38;5;241m=\u001b[39m \u001b[43mtrain\u001b[49m\u001b[43m(\u001b[49m\u001b[43mresnet_tl\u001b[49m\u001b[43m,\u001b[49m\u001b[43m \u001b[49m\u001b[43mtl_train_loader\u001b[49m\u001b[43m,\u001b[49m\u001b[43m \u001b[49m\u001b[43moptimizer\u001b[49m\u001b[43m,\u001b[49m\u001b[43m \u001b[49m\u001b[43mnum_epochs\u001b[49m\u001b[38;5;241;43m=\u001b[39;49m\u001b[38;5;241;43m10\u001b[39;49m\u001b[43m,\u001b[49m\u001b[43m \u001b[49m\u001b[43mmodel_name\u001b[49m\u001b[38;5;241;43m=\u001b[39;49m\u001b[38;5;124;43m'\u001b[39;49m\u001b[38;5;124;43mtl_mynet_svhn.ckpt\u001b[39;49m\u001b[38;5;124;43m'\u001b[39;49m\u001b[43m,\u001b[49m\u001b[43m \u001b[49m\u001b[43mdevice\u001b[49m\u001b[38;5;241;43m=\u001b[39;49m\u001b[43mdevice\u001b[49m\u001b[43m)\u001b[49m\n",
            "Cell \u001b[0;32mIn[26], line 19\u001b[0m, in \u001b[0;36mtrain\u001b[0;34m(CNN, train_loader, optimizer, num_epochs, model_name, device)\u001b[0m\n\u001b[1;32m     17\u001b[0m \u001b[38;5;66;03m# Forward pass\u001b[39;00m\n\u001b[1;32m     18\u001b[0m outputs \u001b[38;5;241m=\u001b[39m CNN(images)\n\u001b[0;32m---> 19\u001b[0m loss \u001b[38;5;241m=\u001b[39m \u001b[43mcriterion\u001b[49m\u001b[43m(\u001b[49m\u001b[43moutputs\u001b[49m\u001b[43m,\u001b[49m\u001b[43m \u001b[49m\u001b[43mlabels\u001b[49m\u001b[43m)\u001b[49m\n\u001b[1;32m     21\u001b[0m \u001b[38;5;66;03m# Backward and optimize\u001b[39;00m\n\u001b[1;32m     22\u001b[0m optimizer\u001b[38;5;241m.\u001b[39mzero_grad()\n",
            "File \u001b[0;32m~/Documents/repos/DL-2024/.venv/lib64/python3.12/site-packages/torch/nn/modules/module.py:1532\u001b[0m, in \u001b[0;36mModule._wrapped_call_impl\u001b[0;34m(self, *args, **kwargs)\u001b[0m\n\u001b[1;32m   1530\u001b[0m     \u001b[38;5;28;01mreturn\u001b[39;00m \u001b[38;5;28mself\u001b[39m\u001b[38;5;241m.\u001b[39m_compiled_call_impl(\u001b[38;5;241m*\u001b[39margs, \u001b[38;5;241m*\u001b[39m\u001b[38;5;241m*\u001b[39mkwargs)  \u001b[38;5;66;03m# type: ignore[misc]\u001b[39;00m\n\u001b[1;32m   1531\u001b[0m \u001b[38;5;28;01melse\u001b[39;00m:\n\u001b[0;32m-> 1532\u001b[0m     \u001b[38;5;28;01mreturn\u001b[39;00m \u001b[38;5;28;43mself\u001b[39;49m\u001b[38;5;241;43m.\u001b[39;49m\u001b[43m_call_impl\u001b[49m\u001b[43m(\u001b[49m\u001b[38;5;241;43m*\u001b[39;49m\u001b[43margs\u001b[49m\u001b[43m,\u001b[49m\u001b[43m \u001b[49m\u001b[38;5;241;43m*\u001b[39;49m\u001b[38;5;241;43m*\u001b[39;49m\u001b[43mkwargs\u001b[49m\u001b[43m)\u001b[49m\n",
            "File \u001b[0;32m~/Documents/repos/DL-2024/.venv/lib64/python3.12/site-packages/torch/nn/modules/module.py:1541\u001b[0m, in \u001b[0;36mModule._call_impl\u001b[0;34m(self, *args, **kwargs)\u001b[0m\n\u001b[1;32m   1536\u001b[0m \u001b[38;5;66;03m# If we don't have any hooks, we want to skip the rest of the logic in\u001b[39;00m\n\u001b[1;32m   1537\u001b[0m \u001b[38;5;66;03m# this function, and just call forward.\u001b[39;00m\n\u001b[1;32m   1538\u001b[0m \u001b[38;5;28;01mif\u001b[39;00m \u001b[38;5;129;01mnot\u001b[39;00m (\u001b[38;5;28mself\u001b[39m\u001b[38;5;241m.\u001b[39m_backward_hooks \u001b[38;5;129;01mor\u001b[39;00m \u001b[38;5;28mself\u001b[39m\u001b[38;5;241m.\u001b[39m_backward_pre_hooks \u001b[38;5;129;01mor\u001b[39;00m \u001b[38;5;28mself\u001b[39m\u001b[38;5;241m.\u001b[39m_forward_hooks \u001b[38;5;129;01mor\u001b[39;00m \u001b[38;5;28mself\u001b[39m\u001b[38;5;241m.\u001b[39m_forward_pre_hooks\n\u001b[1;32m   1539\u001b[0m         \u001b[38;5;129;01mor\u001b[39;00m _global_backward_pre_hooks \u001b[38;5;129;01mor\u001b[39;00m _global_backward_hooks\n\u001b[1;32m   1540\u001b[0m         \u001b[38;5;129;01mor\u001b[39;00m _global_forward_hooks \u001b[38;5;129;01mor\u001b[39;00m _global_forward_pre_hooks):\n\u001b[0;32m-> 1541\u001b[0m     \u001b[38;5;28;01mreturn\u001b[39;00m \u001b[43mforward_call\u001b[49m\u001b[43m(\u001b[49m\u001b[38;5;241;43m*\u001b[39;49m\u001b[43margs\u001b[49m\u001b[43m,\u001b[49m\u001b[43m \u001b[49m\u001b[38;5;241;43m*\u001b[39;49m\u001b[38;5;241;43m*\u001b[39;49m\u001b[43mkwargs\u001b[49m\u001b[43m)\u001b[49m\n\u001b[1;32m   1543\u001b[0m \u001b[38;5;28;01mtry\u001b[39;00m:\n\u001b[1;32m   1544\u001b[0m     result \u001b[38;5;241m=\u001b[39m \u001b[38;5;28;01mNone\u001b[39;00m\n",
            "File \u001b[0;32m~/Documents/repos/DL-2024/.venv/lib64/python3.12/site-packages/torch/nn/modules/loss.py:1185\u001b[0m, in \u001b[0;36mCrossEntropyLoss.forward\u001b[0;34m(self, input, target)\u001b[0m\n\u001b[1;32m   1184\u001b[0m \u001b[38;5;28;01mdef\u001b[39;00m \u001b[38;5;21mforward\u001b[39m(\u001b[38;5;28mself\u001b[39m, \u001b[38;5;28minput\u001b[39m: Tensor, target: Tensor) \u001b[38;5;241m-\u001b[39m\u001b[38;5;241m>\u001b[39m Tensor:\n\u001b[0;32m-> 1185\u001b[0m     \u001b[38;5;28;01mreturn\u001b[39;00m \u001b[43mF\u001b[49m\u001b[38;5;241;43m.\u001b[39;49m\u001b[43mcross_entropy\u001b[49m\u001b[43m(\u001b[49m\u001b[38;5;28;43minput\u001b[39;49m\u001b[43m,\u001b[49m\u001b[43m \u001b[49m\u001b[43mtarget\u001b[49m\u001b[43m,\u001b[49m\u001b[43m \u001b[49m\u001b[43mweight\u001b[49m\u001b[38;5;241;43m=\u001b[39;49m\u001b[38;5;28;43mself\u001b[39;49m\u001b[38;5;241;43m.\u001b[39;49m\u001b[43mweight\u001b[49m\u001b[43m,\u001b[49m\n\u001b[1;32m   1186\u001b[0m \u001b[43m                           \u001b[49m\u001b[43mignore_index\u001b[49m\u001b[38;5;241;43m=\u001b[39;49m\u001b[38;5;28;43mself\u001b[39;49m\u001b[38;5;241;43m.\u001b[39;49m\u001b[43mignore_index\u001b[49m\u001b[43m,\u001b[49m\u001b[43m \u001b[49m\u001b[43mreduction\u001b[49m\u001b[38;5;241;43m=\u001b[39;49m\u001b[38;5;28;43mself\u001b[39;49m\u001b[38;5;241;43m.\u001b[39;49m\u001b[43mreduction\u001b[49m\u001b[43m,\u001b[49m\n\u001b[1;32m   1187\u001b[0m \u001b[43m                           \u001b[49m\u001b[43mlabel_smoothing\u001b[49m\u001b[38;5;241;43m=\u001b[39;49m\u001b[38;5;28;43mself\u001b[39;49m\u001b[38;5;241;43m.\u001b[39;49m\u001b[43mlabel_smoothing\u001b[49m\u001b[43m)\u001b[49m\n",
            "File \u001b[0;32m~/Documents/repos/DL-2024/.venv/lib64/python3.12/site-packages/torch/nn/functional.py:3086\u001b[0m, in \u001b[0;36mcross_entropy\u001b[0;34m(input, target, weight, size_average, ignore_index, reduce, reduction, label_smoothing)\u001b[0m\n\u001b[1;32m   3084\u001b[0m \u001b[38;5;28;01mif\u001b[39;00m size_average \u001b[38;5;129;01mis\u001b[39;00m \u001b[38;5;129;01mnot\u001b[39;00m \u001b[38;5;28;01mNone\u001b[39;00m \u001b[38;5;129;01mor\u001b[39;00m reduce \u001b[38;5;129;01mis\u001b[39;00m \u001b[38;5;129;01mnot\u001b[39;00m \u001b[38;5;28;01mNone\u001b[39;00m:\n\u001b[1;32m   3085\u001b[0m     reduction \u001b[38;5;241m=\u001b[39m _Reduction\u001b[38;5;241m.\u001b[39mlegacy_get_string(size_average, reduce)\n\u001b[0;32m-> 3086\u001b[0m \u001b[38;5;28;01mreturn\u001b[39;00m \u001b[43mtorch\u001b[49m\u001b[38;5;241;43m.\u001b[39;49m\u001b[43m_C\u001b[49m\u001b[38;5;241;43m.\u001b[39;49m\u001b[43m_nn\u001b[49m\u001b[38;5;241;43m.\u001b[39;49m\u001b[43mcross_entropy_loss\u001b[49m\u001b[43m(\u001b[49m\u001b[38;5;28;43minput\u001b[39;49m\u001b[43m,\u001b[49m\u001b[43m \u001b[49m\u001b[43mtarget\u001b[49m\u001b[43m,\u001b[49m\u001b[43m \u001b[49m\u001b[43mweight\u001b[49m\u001b[43m,\u001b[49m\u001b[43m \u001b[49m\u001b[43m_Reduction\u001b[49m\u001b[38;5;241;43m.\u001b[39;49m\u001b[43mget_enum\u001b[49m\u001b[43m(\u001b[49m\u001b[43mreduction\u001b[49m\u001b[43m)\u001b[49m\u001b[43m,\u001b[49m\u001b[43m \u001b[49m\u001b[43mignore_index\u001b[49m\u001b[43m,\u001b[49m\u001b[43m \u001b[49m\u001b[43mlabel_smoothing\u001b[49m\u001b[43m)\u001b[49m\n",
            "\u001b[0;31mIndexError\u001b[0m: Target 8 is out of bounds."
          ]
        }
      ],
      "source": [
        "#Train ResNet\n",
        "resnet_tl = MyModel(num_classes=8)\n",
        "#Initialize optimizer\n",
        "learning_rate = .1\n",
        "optimizer = torch.optim.SGD(resnet_tl.parameters(),lr = learning_rate, weight_decay=1e-5, momentum=0.9)\n",
        "\n",
        "resnet_tl = resnet_tl.to(device)\n",
        "\n",
        "losses_it = train(resnet_tl, tl_train_loader, optimizer, num_epochs=10, model_name='tl_mynet_svhn.ckpt', device=device)"
      ]
    },
    {
      "cell_type": "markdown",
      "metadata": {
        "id": "X0HrjNVIFNKN"
      },
      "source": [
        "### Fine-tune the pretrained network with the small dataset of 9s and 0s"
      ]
    },
    {
      "cell_type": "code",
      "execution_count": null,
      "metadata": {
        "id": "CDemFpsnsw4J"
      },
      "outputs": [],
      "source": []
    }
  ],
  "metadata": {
    "colab": {
      "provenance": []
    },
    "kernelspec": {
      "display_name": "Python 3",
      "name": "python3"
    },
    "language_info": {
      "codemirror_mode": {
        "name": "ipython",
        "version": 3
      },
      "file_extension": ".py",
      "mimetype": "text/x-python",
      "name": "python",
      "nbconvert_exporter": "python",
      "pygments_lexer": "ipython3",
      "version": "3.12.3"
    }
  },
  "nbformat": 4,
  "nbformat_minor": 0
}
