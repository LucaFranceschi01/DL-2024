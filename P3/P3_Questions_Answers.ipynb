{
  "cells": [
    {
      "cell_type": "markdown",
      "metadata": {
        "id": "D9eOpEmm9KHG"
      },
      "source": [
        "# Practice 3"
      ]
    },
    {
      "cell_type": "markdown",
      "metadata": {
        "id": "4rch0yy79KHL"
      },
      "source": [
        "Student 1: Alejandro González Álvarez\n",
        "\n",
        "NIA 1: 252658\n",
        "\n",
        "Student 2: Luca Franceschi\n",
        "\n",
        "NIA 2: 253885\n",
        "\n",
        "Student 3: Júlia Othats-Dalès\n",
        "\n",
        "NIA 3: 254435"
      ]
    },
    {
      "cell_type": "code",
      "execution_count": null,
      "metadata": {
        "id": "HlwJHylI9KHN"
      },
      "outputs": [],
      "source": [
        "import torch\n",
        "import torchvision\n",
        "import torchinfo\n",
        "import numpy as np\n",
        "from PIL import Image\n",
        "import torch.nn as nn\n",
        "import scipy.io as sio\n",
        "import matplotlib.pyplot as plt\n",
        "import torch.nn.functional as F\n",
        "import torchvision.transforms as tf"
      ]
    },
    {
      "cell_type": "markdown",
      "metadata": {
        "id": "9pMcEe8i9KHP"
      },
      "source": [
        "# Google Drive (or not)"
      ]
    },
    {
      "cell_type": "code",
      "execution_count": null,
      "metadata": {
        "colab": {
          "base_uri": "https://localhost:8080/"
        },
        "id": "_itltoAu9KHP",
        "outputId": "594065d6-d477-4a48-e54c-dfd1dfff9ee6"
      },
      "outputs": [],
      "source": [
        "# Comment if not in Google Colab\n",
        "# from google.colab import drive\n",
        "# drive.mount('/content/drive')\n",
        "\n",
        "# datadir = '/content/drive/My Drive/DeepLearning_2024/P3/Data/'\n",
        "datadir = 'Data/'\n",
        "\n",
        "# resultsdir = '/content/drive/My Drive/DeepLearning_2024/P3/Results/'\n",
        "resultsdir = 'Results/'"
      ]
    },
    {
      "cell_type": "markdown",
      "metadata": {
        "id": "CeHaeaVi9KHQ"
      },
      "source": [
        "# GPU Acceleration (or not)"
      ]
    },
    {
      "cell_type": "code",
      "execution_count": null,
      "metadata": {
        "colab": {
          "base_uri": "https://localhost:8080/"
        },
        "id": "FzA5X-q19KHQ",
        "outputId": "9117e802-afcb-49ed-9a12-d1ca382ee080"
      },
      "outputs": [],
      "source": [
        "# Print if gpu acceleration is enabled\n",
        "device = (\n",
        "    \"cuda\"\n",
        "    if torch.cuda.is_available()\n",
        "    else \"mps\"\n",
        "    if torch.backends.mps.is_available()\n",
        "    else \"cpu\"\n",
        ")\n",
        "print(f\"Using {device} device\")"
      ]
    },
    {
      "cell_type": "markdown",
      "metadata": {
        "id": "EvWs2XIYNfhg"
      },
      "source": [
        "# **SVHN Dataset**\n",
        "In the following exercices, you will work with the SVHN dataset: http://ufldl.stanford.edu/housenumbers/\n",
        "\n",
        "It contains RGB images of street digits labeled from 1 to 10 similar to the MNIST dataset.\n",
        "\n",
        "The train and test sets are provided in the folder Data/svhn/ in .mat format.\n",
        "In the following we show an example of how to load the images and labels from these files. A DataLoader for this dataset is provided in the code examples for the lab."
      ]
    },
    {
      "cell_type": "code",
      "execution_count": null,
      "metadata": {
        "colab": {
          "base_uri": "https://localhost:8080/",
          "height": 448
        },
        "id": "4JNFtVgFNaN3",
        "outputId": "3546e13d-9d41-4fa6-cf04-b1c06f705372"
      },
      "outputs": [],
      "source": [
        "train_mat = sio.loadmat(datadir + 'svhn/train_32x32.mat')\n",
        "\n",
        "images = train_mat['X']\n",
        "labels = train_mat['y'].squeeze()\n",
        "\n",
        "example_image, example_label = images[:,:,:,0], labels[0]\n",
        "\n",
        "print('Label: ' + str(example_label))\n",
        "plt.imshow(example_image)\n",
        "plt.show()"
      ]
    },
    {
      "cell_type": "markdown",
      "metadata": {
        "id": "zDulabPxYZXi"
      },
      "source": [
        "# Ex. 1\n"
      ]
    },
    {
      "cell_type": "markdown",
      "metadata": {
        "id": "-NwccV9Wzl39"
      },
      "source": [
        "1. Try to obtain the maximum test accuracy possible in the SVHN dataset. For this purpose train/test different variants of the CNN provided in P3-Part1-Examples. You can explore different strategies:\n",
        "    - 1.1. Increase the size of the network by adding one ore more conv. layers. You can also increase the number of filters in each layer.\n",
        "    - 1.2. Try different optimizers such as Adam or SGD with momentum and modify the learning rate. You can check: https://pytorch.org/docs/stable/optim.html\n",
        "    - 1.3. Explore different random transformations during training ( Data augmentation ) such as random cropping with padding. You can check: https://pytorch.org/docs/stable/torchvision/transforms.html . Remember that these random transofrmation must not be used during testing.\n",
        "    - 1.4 Whatever you consider...\n",
        "\n",
        "2. Save all the different models , compare their test accuracy and analyse the results. Discuss what model has been shown more effective and why have you used the different strategies."
      ]
    },
    {
      "cell_type": "markdown",
      "metadata": {
        "id": "TA0aJf5Szxdv"
      },
      "source": [
        "# Sol. 1"
      ]
    },
    {
      "cell_type": "code",
      "execution_count": null,
      "metadata": {
        "id": "DHVvaY089KHW"
      },
      "outputs": [],
      "source": [
        "#Data Loader\n",
        "class SVHN(torch.utils.data.Dataset):\n",
        "\n",
        "    def __init__(self, dataDir = datadir + 'svhn/train_32x32.mat', transform = None):\n",
        "        mat = sio.loadmat(dataDir)\n",
        "        self.data, self.labels = mat['X'], mat['y'].squeeze()\n",
        "        self.transform = transform\n",
        "\n",
        "    def __getitem__(self, index):\n",
        "        data = self.data[:,:,:,index]\n",
        "        lbl = self.labels[index]\n",
        "\n",
        "        data = Image.fromarray(data)\n",
        "        # Apply a trasnformaiton to the image if it is indicated in the initalizer\n",
        "        if self.transform is not None :\n",
        "            data = self.transform(data)\n",
        "\n",
        "        # return the image and the label\n",
        "        return data,lbl\n",
        "\n",
        "    def __len__(self):\n",
        "        return len(self.data)"
      ]
    },
    {
      "cell_type": "code",
      "execution_count": null,
      "metadata": {
        "id": "L_B3e0Tq9KHX"
      },
      "outputs": [],
      "source": [
        "def mean_std(dataDir= datadir + 'svhn/train_32x32.mat'):\n",
        "    mat = sio.loadmat(dataDir)\n",
        "    data = mat['X']\n",
        "    return data.mean(axis=(0,1,3)), data.std(axis=(0,1,3))"
      ]
    },
    {
      "cell_type": "code",
      "execution_count": null,
      "metadata": {
        "colab": {
          "base_uri": "https://localhost:8080/"
        },
        "id": "l2usgyU39KHY",
        "outputId": "1234f332-7033-447c-ab23-0c928a41b80f"
      },
      "outputs": [],
      "source": [
        "SHVN_mean, SHVN_std = mean_std()\n",
        "print(SHVN_mean)\n",
        "\n",
        "tr = tf.Compose([\n",
        "    tf.ToTensor(),\n",
        "    tf.Normalize(mean = SHVN_mean, std = SHVN_std)\n",
        "])\n",
        "\n",
        "# Define an standard CNN -> Two conv. blocks and linear layer\n",
        "class ConvNet(nn.Module):\n",
        "    def __init__(self, num_classes=10):\n",
        "\n",
        "        super(ConvNet, self).__init__()\n",
        "\n",
        "        self.conv1 = nn.Conv2d(3, 16, kernel_size=5,  padding=2)\n",
        "        #input : 1 channel, output 16 channel, filter size : 5x5\n",
        "\n",
        "        self.conv2 = nn.Conv2d(16, 32, kernel_size=3,  padding=1)\n",
        "        #input : 1 channel, output 16 channel, filter size : 3x3\n",
        "\n",
        "        self.fc = nn.Linear(8*8*32, num_classes)\n",
        "\n",
        "        self.maxpool= nn.MaxPool2d(kernel_size=2, stride=2)\n",
        "        self.relu = nn.ReLU()\n",
        "\n",
        "    def forward(self, x):\n",
        "\n",
        "        out = self.conv1(x)\n",
        "\n",
        "        out = self.relu(out)\n",
        "        out = self.maxpool(out)\n",
        "\n",
        "        out = self.conv2(out)\n",
        "        out = self.relu(out)\n",
        "        out = self.maxpool(out)\n",
        "\n",
        "        out = out.reshape(out.size(0), -1) #128,32,28,28 -> 128,28*28*32\n",
        "        out = self.fc(out) # we don't need sigmoid or other activation function at the end beacuse we will use nn.CrossEntropyLoss() (check documentation to understand why)\n",
        "\n",
        "        return out"
      ]
    },
    {
      "cell_type": "code",
      "execution_count": null,
      "metadata": {
        "id": "mUHyuMev9KHY"
      },
      "outputs": [],
      "source": [
        "CNN = ConvNet()\n",
        "CNN = CNN.to(device)"
      ]
    },
    {
      "cell_type": "code",
      "execution_count": null,
      "metadata": {
        "id": "Q7lyDMv49KHY"
      },
      "outputs": [],
      "source": [
        "# Cross entropy loss for classification problems\n",
        "criterion = nn.CrossEntropyLoss()\n",
        "\n",
        "#Initialize optimizer\n",
        "learning_rate = .001\n",
        "optimizer = torch.optim.Adam(CNN.parameters(),lr = learning_rate)\n",
        "\n",
        "num_epochs = 5"
      ]
    },
    {
      "cell_type": "code",
      "execution_count": null,
      "metadata": {
        "id": "uGOJWdC29KHZ"
      },
      "outputs": [],
      "source": [
        "# Train the model\n",
        "SVHNTrain = SVHN(datadir + 'svhn/train_32x32.mat', tr)\n",
        "train_loader = torch.utils.data.DataLoader(dataset=SVHNTrain,\n",
        "                                            batch_size=256,\n",
        "                                            shuffle=True)\n",
        "\n",
        "CNN.train() # Set the model in train mode\n",
        "total_step = len(train_loader)\n",
        "# Iterate over epochs\n",
        "for epoch in range(num_epochs):\n",
        "    # Iterate the dataset/batches\n",
        "    for i, (images, labels) in enumerate(train_loader):\n",
        "        # Get batch of samples and labels\n",
        "        images = images.to(device)\n",
        "        labels = labels.to(device)\n",
        "\n",
        "        # Forward pass\n",
        "        outputs = CNN(images)\n",
        "        loss = criterion(outputs, labels)\n",
        "\n",
        "        # Backward and optimize\n",
        "        optimizer.zero_grad()\n",
        "        loss.backward()\n",
        "        optimizer.step()\n",
        "\n",
        "        if (i+1) % 100 == 0:\n",
        "            print ('Epoch [{}/{}], Step [{}/{}], Loss: {:.4f}'\n",
        "                    .format(epoch+1, num_epochs, i+1, total_step, loss.item()))\n",
        "\n",
        "# Save the model checkpoint\n",
        "torch.save(CNN.state_dict(), resultsdir+'model.ckpt')\n",
        "#to load : model.load_state_dict(torch.load(save_name_ori))"
      ]
    },
    {
      "cell_type": "code",
      "execution_count": null,
      "metadata": {
        "colab": {
          "base_uri": "https://localhost:8080/"
        },
        "id": "R_mqZ6V39KHZ",
        "outputId": "9ac33a85-2383-4d10-db6d-718455b4292e"
      },
      "outputs": [],
      "source": [
        "#Load the model\n",
        "CNN.load_state_dict(torch.load(resultsdir+'model.ckpt'))\n",
        "\n",
        "# Test the model\n",
        "\n",
        "# Load test dataset\n",
        "SVHNTest = SVHN(datadir + 'svhn/test_32x32.mat',tr)\n",
        "test_loader = torch.utils.data.DataLoader(dataset=SVHNTest,\n",
        "                                            batch_size=256,\n",
        "                                            shuffle=True)\n",
        "CNN.eval() # Set the model in evaluation mode\n",
        "\n",
        "# Compute testing accuracy\n",
        "with torch.no_grad():\n",
        "    correct = 0\n",
        "    total = 0\n",
        "    for images, labels in test_loader:\n",
        "        images = images.to(device)\n",
        "        labels = labels.to(device)\n",
        "        # get network predictions\n",
        "        outputs = CNN(images)\n",
        "\n",
        "        # get predicted class\n",
        "        _, predicted = torch.max(outputs.data, 1)\n",
        "\n",
        "        # compare with the ground-truth\n",
        "        total += labels.size(0)\n",
        "        correct += (predicted == labels).sum().item()\n",
        "\n",
        "    print('Test Accuracy of the model on the 10000 test images: {} %'.format(100 * correct / total))"
      ]
    },
    {
      "cell_type": "markdown",
      "metadata": {
        "id": "C0qkdT02cLs2"
      },
      "source": [
        "### **Testing**\n"
      ]
    },
    {
      "cell_type": "markdown",
      "metadata": {
        "id": "nqJlILSeksxA"
      },
      "source": [
        "#### Number of convolution layers and number of filters (channels)"
      ]
    },
    {
      "cell_type": "code",
      "execution_count": null,
      "metadata": {
        "id": "3fhZE9txcZu5"
      },
      "outputs": [],
      "source": [
        "#Increasing size of network (one more conv layer)\n",
        "\n",
        "class TestingConvNet(nn.Module):\n",
        "    def __init__(self, num_classes=10):\n",
        "\n",
        "        super(TestingConvNet, self).__init__()\n",
        "\n",
        "        self.conv1 = nn.Conv2d(3, 32, kernel_size=5,  padding=2)\n",
        "        self.conv2 = nn.Conv2d(32, 64, kernel_size=3,  padding=1)\n",
        "\n",
        "        self.conv3 = nn.Conv2d(64, 128, kernel_size=5,  padding=2) #layer added\n",
        "        self.fc = nn.Linear(4*4*128, num_classes) #fully connected layer modified\n",
        "\n",
        "        self.maxpool= nn.MaxPool2d(kernel_size=2, stride=2)\n",
        "        self.relu = nn.ReLU()\n",
        "\n",
        "    def forward(self, x):\n",
        "\n",
        "        out = self.conv1(x)\n",
        "        out = self.relu(out)\n",
        "        out = self.maxpool(out)\n",
        "\n",
        "        out = self.conv2(out)\n",
        "        out = self.relu(out)\n",
        "        out = self.maxpool(out)\n",
        "\n",
        "        out = self.conv3(out)\n",
        "        out = self.relu(out)\n",
        "        out = self.maxpool(out)\n",
        "\n",
        "        out = out.reshape(out.size(0), -1)\n",
        "        out = self.fc(out)\n",
        "\n",
        "        return out"
      ]
    },
    {
      "cell_type": "code",
      "execution_count": null,
      "metadata": {
        "id": "NqTyOCkGkyUC"
      },
      "outputs": [],
      "source": [
        "CNN = TestingConvNet()\n",
        "CNN = CNN.to(device)\n",
        "\n",
        "# Cross entropy loss for classification problems\n",
        "criterion = nn.CrossEntropyLoss()\n",
        "\n",
        "#Initialize optimizer\n",
        "learning_rate = .001\n",
        "optimizer = torch.optim.Adam(CNN.parameters(),lr = learning_rate)\n",
        "\n",
        "num_epochs = 5"
      ]
    },
    {
      "cell_type": "code",
      "execution_count": null,
      "metadata": {
        "id": "oi00N-rMnvhP"
      },
      "outputs": [],
      "source": [
        "# Train the model\n",
        "SVHNTrain = SVHN(datadir + 'svhn/train_32x32.mat', tr)\n",
        "train_loader = torch.utils.data.DataLoader(dataset=SVHNTrain,\n",
        "                                            batch_size=256,\n",
        "                                            shuffle=True)\n",
        "\n",
        "CNN.train() # Set the model in train mode\n",
        "total_step = len(train_loader)\n",
        "# Iterate over epochs\n",
        "for epoch in range(num_epochs):\n",
        "    # Iterate the dataset/batches\n",
        "    for i, (images, labels) in enumerate(train_loader):\n",
        "        # Get batch of samples and labels\n",
        "        images = images.to(device)\n",
        "        labels = labels.to(device)\n",
        "\n",
        "        # Forward pass\n",
        "        outputs = CNN(images)\n",
        "        loss = criterion(outputs, labels)\n",
        "\n",
        "        # Backward and optimize\n",
        "        optimizer.zero_grad()\n",
        "        loss.backward()\n",
        "        optimizer.step()\n",
        "\n",
        "        if (i+1) % 100 == 0:\n",
        "            print ('Epoch [{}/{}], Step [{}/{}], Loss: {:.4f}'\n",
        "                    .format(epoch+1, num_epochs, i+1, total_step, loss.item()))\n",
        "\n",
        "# Save the model checkpoint\n",
        "torch.save(CNN.state_dict(), resultsdir+'model.ckpt')\n",
        "#to load : model.load_state_dict(torch.load(save_name_ori))"
      ]
    },
    {
      "cell_type": "code",
      "execution_count": null,
      "metadata": {
        "colab": {
          "base_uri": "https://localhost:8080/"
        },
        "id": "ftdCgGLunx7P",
        "outputId": "f496474a-842e-48f2-d7f6-27ae2ad74809"
      },
      "outputs": [],
      "source": [
        "#Load the model\n",
        "CNN.load_state_dict(torch.load(resultsdir+'model.ckpt'))\n",
        "\n",
        "# Test the model\n",
        "\n",
        "# Load test dataset\n",
        "SVHNTest = SVHN(datadir + 'svhn/test_32x32.mat',tr)\n",
        "test_loader = torch.utils.data.DataLoader(dataset=SVHNTest,\n",
        "                                            batch_size=256,\n",
        "                                            shuffle=True)\n",
        "CNN.eval() # Set the model in evaluation mode\n",
        "\n",
        "# Compute testing accuracy\n",
        "with torch.no_grad():\n",
        "    correct = 0\n",
        "    total = 0\n",
        "    for images, labels in test_loader:\n",
        "        images = images.to(device)\n",
        "        labels = labels.to(device)\n",
        "        # get network predictions\n",
        "        outputs = CNN(images)\n",
        "\n",
        "        # get predicted class\n",
        "        _, predicted = torch.max(outputs.data, 1)\n",
        "\n",
        "        # compare with the ground-truth\n",
        "        total += labels.size(0)\n",
        "        correct += (predicted == labels).sum().item()\n",
        "\n",
        "    print('Test Accuracy of the model on the 10000 test images: {} %'.format(100 * correct / total))"
      ]
    },
    {
      "cell_type": "markdown",
      "metadata": {
        "id": "fTRZehWyuKSg"
      },
      "source": [
        "#### Optimizers"
      ]
    },
    {
      "cell_type": "code",
      "execution_count": null,
      "metadata": {
        "id": "5M2jXfdOuJs3"
      },
      "outputs": [],
      "source": [
        "CNN = ConvNet()\n",
        "CNN = CNN.to(device)\n",
        "\n",
        "criterion = nn.CrossEntropyLoss()\n",
        "\n",
        "optimizers = [(torch.optim.Adam(CNN.parameters(),lr = .001), \"Adam\"),\n",
        "              (torch.optim.SGD(CNN.parameters(), lr = .001, momentum = 0.9), \"SGD\")]\n",
        "\n",
        "num_epochs = 5"
      ]
    },
    {
      "cell_type": "code",
      "execution_count": null,
      "metadata": {
        "colab": {
          "base_uri": "https://localhost:8080/"
        },
        "id": "GtJ2lrnHv9eb",
        "outputId": "87c3d853-6fd7-44a1-bacc-5d13be277896"
      },
      "outputs": [],
      "source": [
        "for optimizer, label in optimizers:\n",
        "\n",
        "    # Train the model\n",
        "    SVHNTrain = SVHN(datadir + 'svhn/train_32x32.mat', tr)\n",
        "    train_loader = torch.utils.data.DataLoader(dataset=SVHNTrain,\n",
        "                                                batch_size=256,\n",
        "                                                shuffle=True)\n",
        "\n",
        "    CNN.train() # Set the model in train mode\n",
        "    total_step = len(train_loader)\n",
        "    # Iterate over epochs\n",
        "    for epoch in range(num_epochs):\n",
        "        # Iterate the dataset/batches\n",
        "        for i, (images, labels) in enumerate(train_loader):\n",
        "            # Get batch of samples and labels\n",
        "            images = images.to(device)\n",
        "            labels = labels.to(device)\n",
        "\n",
        "            # Forward pass\n",
        "            outputs = CNN(images)\n",
        "            loss = criterion(outputs, labels)\n",
        "\n",
        "            # Backward and optimize\n",
        "            optimizer.zero_grad()\n",
        "            loss.backward()\n",
        "            optimizer.step()\n",
        "\n",
        "            if (i+1) % 100 == 0:\n",
        "                print ('Epoch [{}/{}], Step [{}/{}], Loss: {:.4f}'\n",
        "                        .format(epoch+1, num_epochs, i+1, total_step, loss.item()))\n",
        "\n",
        "    # Save the model checkpoint\n",
        "    torch.save(CNN.state_dict(), resultsdir+'model.ckpt')\n",
        "    #to load : model.load_state_dict(torch.load(save_name_ori))\n",
        "\n",
        "    #Load the model\n",
        "    CNN.load_state_dict(torch.load(resultsdir+'model.ckpt'))\n",
        "\n",
        "    # Test the model\n",
        "\n",
        "    # Load test dataset\n",
        "    SVHNTest = SVHN(datadir + 'svhn/test_32x32.mat',tr)\n",
        "    test_loader = torch.utils.data.DataLoader(dataset=SVHNTest,\n",
        "                                                batch_size=256,\n",
        "                                                shuffle=True)\n",
        "    CNN.eval() # Set the model in evaluation mode\n",
        "\n",
        "    # Compute testing accuracy\n",
        "    with torch.no_grad():\n",
        "        correct = 0\n",
        "        total = 0\n",
        "        for images, labels in test_loader:\n",
        "            images = images.to(device)\n",
        "            labels = labels.to(device)\n",
        "            # get network predictions\n",
        "            outputs = CNN(images)\n",
        "\n",
        "            # get predicted class\n",
        "            _, predicted = torch.max(outputs.data, 1)\n",
        "\n",
        "            # compare with the ground-truth\n",
        "            total += labels.size(0)\n",
        "            correct += (predicted == labels).sum().item()\n",
        "\n",
        "        print('Test Accuracy of the model with optimizer {}: {} %'.format(label, 100 * correct / total))"
      ]
    },
    {
      "cell_type": "markdown",
      "metadata": {
        "id": "lTz9Plh6xrlx"
      },
      "source": [
        "#### Learning rate\n"
      ]
    },
    {
      "cell_type": "code",
      "execution_count": null,
      "metadata": {
        "id": "i01QLA60x3UW"
      },
      "outputs": [],
      "source": [
        "learning_rates = [.01, .05, .001, .005, .0001]"
      ]
    },
    {
      "cell_type": "code",
      "execution_count": null,
      "metadata": {
        "colab": {
          "base_uri": "https://localhost:8080/"
        },
        "id": "0lwJhgTex-f-",
        "outputId": "832fe46e-e342-4cb3-f79a-dcd56f1a5f84"
      },
      "outputs": [],
      "source": [
        "for lr in learning_rates:\n",
        "\n",
        "    optimizer = torch.optim.Adam(CNN.parameters(),lr = lr)\n",
        "\n",
        "    # Train the model\n",
        "    SVHNTrain = SVHN(datadir + 'svhn/train_32x32.mat', tr)\n",
        "    train_loader = torch.utils.data.DataLoader(dataset=SVHNTrain,\n",
        "                                                batch_size=256,\n",
        "                                                shuffle=True)\n",
        "\n",
        "    CNN.train() # Set the model in train mode\n",
        "    total_step = len(train_loader)\n",
        "    # Iterate over epochs\n",
        "    for epoch in range(num_epochs):\n",
        "        # Iterate the dataset/batches\n",
        "        for i, (images, labels) in enumerate(train_loader):\n",
        "            # Get batch of samples and labels\n",
        "            images = images.to(device)\n",
        "            labels = labels.to(device)\n",
        "\n",
        "            # Forward pass\n",
        "            outputs = CNN(images)\n",
        "            loss = criterion(outputs, labels)\n",
        "\n",
        "            # Backward and optimize\n",
        "            optimizer.zero_grad()\n",
        "            loss.backward()\n",
        "            optimizer.step()\n",
        "\n",
        "            if (i+1) % 100 == 0:\n",
        "                print ('Epoch [{}/{}], Step [{}/{}], Loss: {:.4f}'\n",
        "                        .format(epoch+1, num_epochs, i+1, total_step, loss.item()))\n",
        "\n",
        "    # Save the model checkpoint\n",
        "    torch.save(CNN.state_dict(), resultsdir+'model.ckpt')\n",
        "    #to load : model.load_state_dict(torch.load(save_name_ori))\n",
        "\n",
        "    #Load the model\n",
        "    CNN.load_state_dict(torch.load(resultsdir+'model.ckpt'))\n",
        "\n",
        "    # Test the model\n",
        "\n",
        "    # Load test dataset\n",
        "    SVHNTest = SVHN(datadir + 'svhn/test_32x32.mat',tr)\n",
        "    test_loader = torch.utils.data.DataLoader(dataset=SVHNTest,\n",
        "                                                batch_size=256,\n",
        "                                                shuffle=True)\n",
        "    CNN.eval() # Set the model in evaluation mode\n",
        "\n",
        "    # Compute testing accuracy\n",
        "    with torch.no_grad():\n",
        "        correct = 0\n",
        "        total = 0\n",
        "        for images, labels in test_loader:\n",
        "            images = images.to(device)\n",
        "            labels = labels.to(device)\n",
        "            # get network predictions\n",
        "            outputs = CNN(images)\n",
        "\n",
        "            # get predicted class\n",
        "            _, predicted = torch.max(outputs.data, 1)\n",
        "\n",
        "            # compare with the ground-truth\n",
        "            total += labels.size(0)\n",
        "            correct += (predicted == labels).sum().item()\n",
        "\n",
        "        print('Test Accuracy of the model with learning rate {}: {} %'.format(lr, 100 * correct / total))"
      ]
    },
    {
      "cell_type": "markdown",
      "metadata": {
        "id": "h7QTVmaKQg4X"
      },
      "source": [
        "# Ex. 2"
      ]
    },
    {
      "cell_type": "markdown",
      "metadata": {
        "id": "TLVQ_LI6kSmK"
      },
      "source": [
        "# **Building your own efficient Convolutional Network architecture for SVHN**\n",
        "\n",
        "In the following,  you will need to build your own CNN architecture to predict digit numbers on the SVHN dataset. You are completely free to use any kind of layers and hyper-parameters for this purpose. Your goal is to acheive the maximum possible accuracy on the test set (the better, the higher score you'll get in the exercice). The only constraint is that your model should not contain more than 150K parameters. Below, we provide a simple code to compute the number of parameters in a model."
      ]
    },
    {
      "cell_type": "markdown",
      "metadata": {
        "id": "0TFCESJFn1xZ"
      },
      "source": [
        "## Computing model parameters"
      ]
    },
    {
      "cell_type": "code",
      "execution_count": null,
      "metadata": {
        "id": "dnSiO4xQn7qU"
      },
      "outputs": [],
      "source": [
        "# Compute model paramters\n",
        "def compute_model_params(model):\n",
        "  params = 0\n",
        "  for p in model.parameters():\n",
        "    params+= p.numel()\n",
        "  return params"
      ]
    },
    {
      "cell_type": "code",
      "execution_count": null,
      "metadata": {
        "id": "XErSjYHEoKoz"
      },
      "outputs": [],
      "source": [
        "# ResNet style network\n",
        "class ResSim(nn.Module):\n",
        "    def __init__(self, num_classes=10):\n",
        "\n",
        "        super(ResSim, self).__init__()\n",
        "\n",
        "        self.conv11 = nn.Conv2d(3, 64, kernel_size=3, stride=1, padding=1)\n",
        "        self.conv12 = nn.Conv2d(64, 64, kernel_size=3, stride=1, padding=1)\n",
        "\n",
        "        self.conv21 = nn.Conv2d(64, 64, kernel_size=3, stride=1, padding=1)\n",
        "        self.conv22 = nn.Conv2d(64, 64, kernel_size=3, stride=1, padding=1)\n",
        "\n",
        "        self.fc = nn.Linear(8*8*64, num_classes)\n",
        "\n",
        "        self.maxpool= nn.MaxPool2d(kernel_size=2, stride=2)\n",
        "        self.relu = nn.ReLU()\n",
        "\n",
        "    def forward(self, x):\n",
        "\n",
        "        out11 = self.relu(self.conv11(x))\n",
        "        out12 = self.relu(self.conv12(out11)) + out11\n",
        "\n",
        "        out = self.maxpool(out12)\n",
        "\n",
        "        out21 = self.relu(self.conv21(out))\n",
        "        out = self.relu(self.conv22(out21)) + out21\n",
        "        out = self.maxpool(out)\n",
        "\n",
        "        #print(out.shape)\n",
        "        out = out.view(out.size(0), -1)\n",
        "        out = self.fc(out)\n",
        "\n",
        "        return out\n",
        "# Initialize the model\n",
        "model = ResSim(num_classes=10)\n",
        "# Compute and print number of params\n",
        "n_params = compute_model_params(model)\n",
        "print(\"ResNet Parameters: \" + str(n_params)) ##\n",
        "print(\"THIS MODEL CONTAINS 153K PARAMS, IT IS CONSIDERED NOT VALID FOR THE EXERCICE!!!!!!\")"
      ]
    },
    {
      "cell_type": "code",
      "execution_count": null,
      "metadata": {
        "id": "qnJBuRZVjpOl"
      },
      "outputs": [],
      "source": [
        "'''\n",
        "1. Design and implement your own CNN. Given that the number of parameters must be small, you can check some papers focused on efficient CNN architectures and get some ideas.\n",
        "  - MobileNet: https://arxiv.org/abs/1704.04861\n",
        "  - MobileNet V2: https://arxiv.org/pdf/1801.04381.pdf\n",
        "  - SqueezeNet: https://arxiv.org/abs/1602.07360\n",
        "  - ShuffleNet: https://arxiv.org/abs/1707.01083\n",
        "  - ESPNet V2: https://arxiv.org/abs/1811.11431\n",
        "2. Train it and test it on SVHN using the provided code.\n",
        "3. Discuss what approaches have you tried, why, and which ones have shown to be more beneficial.\n",
        "'''\n"
      ]
    },
    {
      "cell_type": "markdown",
      "metadata": {
        "id": "VObbYfbsQkls"
      },
      "source": [
        "## Sol. 2"
      ]
    },
    {
      "cell_type": "markdown",
      "metadata": {
        "id": "wlKMweHXPO1z"
      },
      "source": [
        "### Define your own model and check the number of total parameters"
      ]
    },
    {
      "cell_type": "code",
      "execution_count": null,
      "metadata": {},
      "outputs": [],
      "source": [
        "# https://github.com/xin-w8023/SqueezeNet-PyTorch/blob/master/fire.py\n",
        "\n",
        "class Expand(torch.nn.Module):\n",
        "    def __init__(self, in_channels, e1_out_channles, e3_out_channles):\n",
        "        super(Expand, self).__init__()\n",
        "        self.conv_1x1 = torch.nn.Conv2d(in_channels, e1_out_channles, (1, 1))\n",
        "        self.conv_3x3 = torch.nn.Conv2d(in_channels, e3_out_channles, (3, 3), padding=1)\n",
        "\n",
        "    def forward(self, x):\n",
        "        o1 = self.conv_1x1(x)\n",
        "        o3 = self.conv_3x3(x)\n",
        "        return torch.cat((o1, o3), dim=1)\n",
        "\n",
        "\n",
        "class Fire(torch.nn.Module):\n",
        "    \"\"\"\n",
        "      Fire module in SqueezeNet\n",
        "      out_channles = e1x1 + e3x3\n",
        "      Eg.: input: ?xin_channelsx?x?\n",
        "           output: ?x(e1x1+e3x3)x?x?\n",
        "    \"\"\"\n",
        "    def __init__(self, in_channels, s1x1, e1x1, e3x3):\n",
        "        super(Fire, self).__init__()\n",
        "\n",
        "        # squeeze \n",
        "        self.squeeze = torch.nn.Conv2d(in_channels, s1x1, (1, 1))\n",
        "        self.sq_act = torch.nn.LeakyReLU(0.1)\n",
        "\n",
        "        # expand\n",
        "        self.expand = Expand(s1x1, e1x1, e3x3)\n",
        "        self.ex_act = torch.nn.LeakyReLU(0.1)\n",
        "        \n",
        "\n",
        "    def forward(self, x):\n",
        "        x = self.sq_act(self.squeeze(x))\n",
        "        x = self.ex_act(self.expand(x))\n",
        "        return x"
      ]
    },
    {
      "cell_type": "code",
      "execution_count": null,
      "metadata": {
        "id": "xMxY47BLpEPG"
      },
      "outputs": [],
      "source": [
        "# ESPNet V2 Style Architecture\n",
        "class MyModel(nn.Module):\n",
        "    def __init__(self, num_classes=10):\n",
        "\n",
        "        super(MyModel, self).__init__()\n",
        "        self.conv1 = nn.Conv2d(3, 32, kernel_size=3, stride=2, padding=1)\n",
        "        self.maxpool = nn.MaxPool2d(kernel_size=2, stride=2)\n",
        "        self.fire1 = Fire(32, 64, 64, 64)\n",
        "        self.fire2 = Fire(64, 128, 128, 128)\n",
        "        self.fire3 = Fire(128, 128, 128, 128) # DISCLAIMER, NO SÉ POR QUÉ ESTOS NUMEROS FUNCIONAN Y OTROS NO, SOBRETODO ENTRADA A LINEAR LAYER\n",
        "        self.linear = nn.Linear(64, num_classes)\n",
        "\n",
        "        self.relu = nn.ReLU()\n",
        "\n",
        "    def forward(self, x):\n",
        "        out = self.conv1(x)\n",
        "        out = self.relu(out)\n",
        "        out = self.maxpool(out)\n",
        "        out = self.fire1(out)\n",
        "        out = self.maxpool(out)\n",
        "        out = self.fire2(out)\n",
        "        # out = self.maxpool(out)\n",
        "        # out = self.fire3(out)\n",
        "        out = self.linear(out.view(out.shape[0], -1))\n",
        "        return out\n",
        "        # return self.linear(x.view(x.shape[0],-1))\n",
        "        '''\n",
        "        REPLACE WITH YOUR CODE HERE\n",
        "        '''\n",
        "\n",
        "\n",
        "model = MyModel(num_classes=10)\n",
        "n_params = compute_model_params(model)\n",
        "print(\"MyModel Parameters: \" + str(n_params))"
      ]
    },
    {
      "cell_type": "code",
      "execution_count": null,
      "metadata": {},
      "outputs": [],
      "source": [
        "torchinfo.summary(model, input_size=(3, 32, 32))"
      ]
    },
    {
      "cell_type": "markdown",
      "metadata": {
        "id": "3dangurPPcgm"
      },
      "source": [
        "### Train your model on SVHN\n",
        "It is not allowed to change training hyper-parameters such as learning rate, batch size or number of epochs. You can only modify the architecture definition."
      ]
    },
    {
      "cell_type": "code",
      "execution_count": null,
      "metadata": {
        "id": "Ln0tdN7Iu3hu"
      },
      "outputs": [],
      "source": [
        "## Create SVHN database\n",
        "\n",
        "# All the data will be loaded from the provided file in Data/mnist.t\n",
        "\n",
        "#Making native class loader\n",
        "class SVHN(torch.utils.data.Dataset):\n",
        "    # Initialization method for the dataset\n",
        "    def __init__(self, dataDir = datadir +'/svhn/train_32x32.mat', transform = None):\n",
        "        mat_loaded = sio.loadmat(dataDir)\n",
        "        self.data = mat_loaded['X']\n",
        "        self.labels = mat_loaded['y'].squeeze()\n",
        "        self.labels -= self.labels.min()\n",
        "        self.transform = transform\n",
        "     # What to do to load a single item in the dataset ( read image and label)\n",
        "    def __getitem__(self, index):\n",
        "        data = self.data[:,:,:,index]\n",
        "        lbl = self.labels[index]\n",
        "\n",
        "        data = Image.fromarray(data)\n",
        "        # Apply a trasnformaiton to the image if it is indicated in the initalizer\n",
        "        if self.transform is not None :\n",
        "            data = self.transform(data)\n",
        "\n",
        "        # return the image and the label\n",
        "        return data, lbl\n",
        "\n",
        "        pass\n",
        "\n",
        "    # Return the number of images\n",
        "    def __len__(self):\n",
        "        return self.data.shape[3]\n",
        "\n",
        "# Create train data loader\n",
        "tr = tf.Compose([\n",
        "        tf.ToTensor(),\n",
        "        tf.Normalize(mean = [.5], std = [.5])\n",
        "        ])\n",
        "SVHNTrain = SVHN(datadir+'/svhn/train_32x32.mat', tr)\n",
        "train_loader = torch.utils.data.DataLoader(dataset=SVHNTrain,\n",
        "                                               batch_size=256,\n",
        "                                               shuffle=True)"
      ]
    },
    {
      "cell_type": "code",
      "execution_count": null,
      "metadata": {
        "id": "ccmWoqr5u9Xj"
      },
      "outputs": [],
      "source": [
        "# Train function\n",
        "def train(CNN, train_loader, optimizer, num_epochs=5, model_name='model.ckpt', device='cpu'):\n",
        "    CNN.train() # Set the model in train mode\n",
        "    total_step = len(train_loader)\n",
        "    losses_list = []\n",
        "    criterion = nn.CrossEntropyLoss()\n",
        "    # Iterate over epochs\n",
        "    for epoch in range(num_epochs):\n",
        "        # Iterate the dataset\n",
        "        loss_avg = 0\n",
        "        nBatches = 0\n",
        "        for i, (images, labels) in enumerate(train_loader):\n",
        "            # Get batch of samples and labels\n",
        "            images = images.to(device)\n",
        "            labels = labels.type(torch.LongTensor).to(device)\n",
        "\n",
        "            # Forward pass\n",
        "            outputs = CNN(images)\n",
        "            loss = criterion(outputs, labels)\n",
        "\n",
        "            # Backward and optimize\n",
        "            optimizer.zero_grad()\n",
        "            loss.backward()\n",
        "            optimizer.step()\n",
        "\n",
        "            loss_avg += loss.cpu().item()\n",
        "            nBatches+=1\n",
        "            if (i+1) % 100 == 0:\n",
        "                print ('Epoch [{}/{}], Step [{}/{}], Loss: {:.4f}'\n",
        "                       .format(epoch+1, num_epochs, i+1, total_step, loss_avg / nBatches))\n",
        "        print ('Epoch [{}/{}], Step [{}/{}], Loss: {:.4f}'\n",
        "                       .format(epoch+1, num_epochs, i+1, total_step, loss_avg / nBatches))\n",
        "        losses_list.append(loss_avg / nBatches)\n",
        "        torch.save(CNN.state_dict(), resultsdir+ '/' + model_name)\n",
        "\n",
        "    return losses_list\n",
        "\n",
        "# Test funcion\n",
        "def test(CNN, test_loader):\n",
        "  with torch.no_grad():\n",
        "        correct = 0\n",
        "        total = 0\n",
        "        for images, labels in test_loader:\n",
        "            images = images.to(device)\n",
        "            labels = labels.to(device)\n",
        "            # get network predictions\n",
        "            outputs = CNN(images)\n",
        "\n",
        "            # get predicted class\n",
        "            _, predicted = torch.max(outputs.data, 1)\n",
        "\n",
        "            # compare with the ground-truth\n",
        "            total += labels.size(0)\n",
        "            correct += (predicted == labels).sum().item()\n",
        "        # return accuracy\n",
        "        return 100 * correct / total"
      ]
    },
    {
      "cell_type": "code",
      "execution_count": null,
      "metadata": {
        "id": "9vib9IY2vAkP"
      },
      "outputs": [],
      "source": [
        "#Train MyModel\n",
        "my_model = MyModel()\n",
        "\n",
        "#Initialize optimizer\n",
        "learning_rate = .1\n",
        "optimizer = torch.optim.SGD(my_model.parameters(),lr = learning_rate,\n",
        "                            weight_decay=1e-5, momentum=0.9)\n",
        "\n",
        "\n",
        "device = torch.device('cuda:0' if torch.cuda.is_available() else 'cpu')\n",
        "my_model = my_model.to(device)\n",
        "\n",
        "losses_list = train(my_model, train_loader, optimizer, num_epochs=10, model_name='my_net.ckpt', device=device)\n"
      ]
    },
    {
      "cell_type": "markdown",
      "metadata": {
        "id": "s4ilm-FoPmLX"
      },
      "source": [
        "### Test your model\n",
        "As a reference, 93% of accuracy can be easily achieved by using only ~55000 parameters."
      ]
    },
    {
      "cell_type": "code",
      "execution_count": null,
      "metadata": {
        "id": "LHT86IPSzOYi"
      },
      "outputs": [],
      "source": [
        "# Show results for all the trained models\n",
        "SVHNTest = SVHN(datadir+'/svhn/test_32x32.mat',tr)\n",
        "test_loader = torch.utils.data.DataLoader(dataset=SVHNTest,\n",
        "                                               batch_size=256,\n",
        "                                               shuffle=True)\n",
        "\n",
        "#\n",
        "my_net = MyModel()\n",
        "my_net.load_state_dict(torch.load(resultsdir + 'my_net.ckpt'))\n",
        "my_net.cuda()\n",
        "acc = test(my_net, test_loader)\n",
        "print('Accuracy MyNet: ' + str(acc))"
      ]
    },
    {
      "cell_type": "markdown",
      "metadata": {
        "id": "S7UMjGA9TOUM"
      },
      "source": [
        "# Ex. 3"
      ]
    },
    {
      "cell_type": "code",
      "execution_count": null,
      "metadata": {
        "id": "HXvqONt8TNuc"
      },
      "outputs": [],
      "source": [
        "'''\n",
        "1. Use the implemented architecture in the previous exercice to solve the transfer learning\n",
        "   task provided in the examples.\n",
        "2. Try to fine-tune not only the last layer for the CNN but a larger subset of parameters.\n",
        "2. Report the test accuracy in each case and discuss the results.\n",
        "'''"
      ]
    },
    {
      "cell_type": "markdown",
      "metadata": {
        "id": "o31sdIuJUHex"
      },
      "source": [
        "## Sol. 3"
      ]
    },
    {
      "cell_type": "markdown",
      "metadata": {
        "id": "bSGN1MHVIQBJ"
      },
      "source": [
        "### Initialize DataLoaders for Transfer Learning experiment"
      ]
    },
    {
      "cell_type": "code",
      "execution_count": null,
      "metadata": {
        "id": "lftsNbnEHeoh"
      },
      "outputs": [],
      "source": [
        "# Big dataset with numbers from 1 to 8\n",
        "SVHNTrain_TL = SVHN(datadir+'/svhn_tl/tl_train_32x32.mat',tr)\n",
        "tl_train_loader = torch.utils.data.DataLoader(dataset=SVHNTrain_TL,\n",
        "                                               batch_size=256,\n",
        "                                               shuffle=True)\n",
        "\n",
        "# 200 samples of 0s and 9s\n",
        "SVHNTrain_TL_0_9 = SVHN(datadir+'/svhn_tl/tl_train_9_10_32x32.mat',tr)\n",
        "tl_train_loader_0_9 = torch.utils.data.DataLoader(dataset=SVHNTrain_TL_0_9,\n",
        "                                                  batch_size=64,\n",
        "                                                  shuffle=True)\n",
        "# Test dataset with 0 and 9s\n",
        "SVHNTest_TL_0_9 = SVHN(datadir+'/svhn_tl/tl_test_9_10_32x32.mat',tr)\n",
        "tl_test_loader_0_9 = torch.utils.data.DataLoader(dataset=SVHNTest_TL_0_9,\n",
        "                                                  batch_size=64,\n",
        "                                                  shuffle=True)"
      ]
    },
    {
      "cell_type": "markdown",
      "metadata": {
        "id": "VXbLlY4aC4Ga"
      },
      "source": [
        "### Pre-train your model with the big dataset with numbers from 1 to 8"
      ]
    },
    {
      "cell_type": "code",
      "execution_count": null,
      "metadata": {
        "id": "o2zitIY5tJRg"
      },
      "outputs": [],
      "source": [
        "#Train ResNet\n",
        "resnet_tl = MyModel(num_classes=8)\n",
        "#Initialize optimizer\n",
        "learning_rate = .1\n",
        "optimizer = torch.optim.SGD(resnet_tl.parameters(),lr = learning_rate, weight_decay=1e-5, momentum=0.9)\n",
        "\n",
        "device = torch.device('cuda:0' if torch.cuda.is_available() else 'cpu')\n",
        "resnet_tl = resnet_tl.to(device)\n",
        "\n",
        "losses_it = train(resnet_tl, tl_train_loader, optimizer, num_epochs=10, model_name='tl_mynet_svhn.ckpt', device=device)\n"
      ]
    },
    {
      "cell_type": "markdown",
      "metadata": {
        "id": "X0HrjNVIFNKN"
      },
      "source": [
        "### Fine-tune the pretrained network with the small dataset of 9s and 0s"
      ]
    },
    {
      "cell_type": "code",
      "execution_count": null,
      "metadata": {
        "id": "CDemFpsnsw4J"
      },
      "outputs": [],
      "source": []
    }
  ],
  "metadata": {
    "colab": {
      "provenance": []
    },
    "kernelspec": {
      "display_name": "Python 3",
      "name": "python3"
    },
    "language_info": {
      "codemirror_mode": {
        "name": "ipython",
        "version": 3
      },
      "file_extension": ".py",
      "mimetype": "text/x-python",
      "name": "python",
      "nbconvert_exporter": "python",
      "pygments_lexer": "ipython3",
      "version": "3.12.3"
    }
  },
  "nbformat": 4,
  "nbformat_minor": 0
}
