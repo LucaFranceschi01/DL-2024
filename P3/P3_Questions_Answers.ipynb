{
  "cells": [
    {
      "cell_type": "markdown",
      "metadata": {
        "id": "D9eOpEmm9KHG"
      },
      "source": [
        "# Practice 3"
      ]
    },
    {
      "cell_type": "markdown",
      "metadata": {
        "id": "4rch0yy79KHL"
      },
      "source": [
        "Student 1: Alejandro González Álvarez\n",
        "\n",
        "NIA 1: 252658\n",
        "\n",
        "Student 2: Luca Franceschi\n",
        "\n",
        "NIA 2: 253885\n",
        "\n",
        "Student 3: Júlia Othats-Dalès\n",
        "\n",
        "NIA 3: 254435"
      ]
    },
    {
      "cell_type": "code",
      "source": [
        "#!pip install torchinfo"
      ],
      "metadata": {
        "colab": {
          "base_uri": "https://localhost:8080/"
        },
        "id": "0I_Ig2Jt5tsL",
        "outputId": "f9e0e5ee-3b3a-4d8b-f47e-575a4fd78bba"
      },
      "execution_count": 1,
      "outputs": [
        {
          "output_type": "stream",
          "name": "stdout",
          "text": [
            "Collecting torchinfo\n",
            "  Downloading torchinfo-1.8.0-py3-none-any.whl (23 kB)\n",
            "Installing collected packages: torchinfo\n",
            "Successfully installed torchinfo-1.8.0\n"
          ]
        }
      ]
    },
    {
      "cell_type": "code",
      "execution_count": 2,
      "metadata": {
        "id": "HlwJHylI9KHN"
      },
      "outputs": [],
      "source": [
        "import torch\n",
        "import torchinfo\n",
        "import torchvision\n",
        "import numpy as np\n",
        "from PIL import Image\n",
        "import torch.nn as nn\n",
        "import scipy.io as sio\n",
        "import matplotlib.pyplot as plt\n",
        "import torch.nn.functional as F\n",
        "import torchvision.transforms as tf"
      ]
    },
    {
      "cell_type": "markdown",
      "metadata": {
        "id": "9pMcEe8i9KHP"
      },
      "source": [
        "# Google Drive (or not)"
      ]
    },
    {
      "cell_type": "code",
      "execution_count": 6,
      "metadata": {
        "colab": {
          "base_uri": "https://localhost:8080/"
        },
        "id": "_itltoAu9KHP",
        "outputId": "8b09266f-b217-4288-81a4-c4281a6ace05"
      },
      "outputs": [
        {
          "output_type": "stream",
          "name": "stdout",
          "text": [
            "Mounted at /content/drive\n"
          ]
        }
      ],
      "source": [
        "# Comment if not in Google Colab\n",
        "from google.colab import drive\n",
        "drive.mount('/content/drive')\n",
        "\n",
        "datadir = '/content/drive/My Drive/DeepLearning_2024/P3/Data/'\n",
        "# datadir = 'Data/'\n",
        "\n",
        "resultsdir = '/content/drive/My Drive/DeepLearning_2024/P3/Results/'\n",
        "# resultsdir = 'Results/'"
      ]
    },
    {
      "cell_type": "markdown",
      "metadata": {
        "id": "CeHaeaVi9KHQ"
      },
      "source": [
        "# GPU Acceleration (or not)"
      ]
    },
    {
      "cell_type": "code",
      "execution_count": 7,
      "metadata": {
        "colab": {
          "base_uri": "https://localhost:8080/"
        },
        "id": "FzA5X-q19KHQ",
        "outputId": "17456ba4-ba2e-4736-9fb2-cbd63dff504e"
      },
      "outputs": [
        {
          "output_type": "stream",
          "name": "stdout",
          "text": [
            "Using cpu device\n"
          ]
        }
      ],
      "source": [
        "# Print if gpu acceleration is enabled\n",
        "device = (\n",
        "    \"cuda\"\n",
        "    if torch.cuda.is_available()\n",
        "    else \"mps\"\n",
        "    if torch.backends.mps.is_available()\n",
        "    else \"cpu\"\n",
        ")\n",
        "print(f\"Using {device} device\")"
      ]
    },
    {
      "cell_type": "markdown",
      "metadata": {
        "id": "EvWs2XIYNfhg"
      },
      "source": [
        "# **SVHN Dataset**\n",
        "In the following exercices, you will work with the SVHN dataset: http://ufldl.stanford.edu/housenumbers/\n",
        "\n",
        "It contains RGB images of street digits labeled from 1 to 10 similar to the MNIST dataset.\n",
        "\n",
        "The train and test sets are provided in the folder Data/svhn/ in .mat format.\n",
        "In the following we show an example of how to load the images and labels from these files. A DataLoader for this dataset is provided in the code examples for the lab."
      ]
    },
    {
      "cell_type": "code",
      "execution_count": 8,
      "metadata": {
        "colab": {
          "base_uri": "https://localhost:8080/",
          "height": 448
        },
        "id": "4JNFtVgFNaN3",
        "outputId": "9598fa87-662a-44e3-fcd0-eeeee662a568"
      },
      "outputs": [
        {
          "output_type": "stream",
          "name": "stdout",
          "text": [
            "Label: 1\n"
          ]
        },
        {
          "output_type": "display_data",
          "data": {
            "text/plain": [
              "<Figure size 640x480 with 1 Axes>"
            ],
            "image/png": "[encoded data removed]"
          },
          "metadata": {}
        }
      ],
      "source": [
        "train_mat = sio.loadmat(datadir + 'svhn/train_32x32.mat')\n",
        "\n",
        "images = train_mat['X']\n",
        "labels = train_mat['y'].squeeze()\n",
        "\n",
        "example_image, example_label = images[:,:,:,0], labels[0]\n",
        "print('Label: ' + str(example_label))\n",
        "plt.imshow(example_image)\n",
        "plt.show()"
      ]
    },
    {
      "cell_type": "markdown",
      "metadata": {
        "id": "zDulabPxYZXi"
      },
      "source": [
        "# Ex. 1\n"
      ]
    },
    {
      "cell_type": "markdown",
      "metadata": {
        "id": "-NwccV9Wzl39"
      },
      "source": [
        "1. Try to obtain the maximum test accuracy possible in the SVHN dataset. For this purpose train/test different variants of the CNN provided in P3-Part1-Examples. You can explore different strategies:\n",
        "    - 1.1. Increase the size of the network by adding one ore more conv. layers. You can also increase the number of filters in each layer.\n",
        "    - 1.2. Try different optimizers such as Adam or SGD with momentum and modify the learning rate. You can check: https://pytorch.org/docs/stable/optim.html\n",
        "    - 1.3. Explore different random transformations during training ( Data augmentation ) such as random cropping with padding. You can check: https://pytorch.org/docs/stable/torchvision/transforms.html . Remember that these random transofrmation must not be used during testing.\n",
        "    - 1.4 Whatever you consider...\n",
        "\n",
        "2. Save all the different models , compare their test accuracy and analyse the results. Discuss what model has been shown more effective and why have you used the different strategies."
      ]
    },
    {
      "cell_type": "markdown",
      "metadata": {
        "id": "TA0aJf5Szxdv"
      },
      "source": [
        "# Sol. 1"
      ]
    },
    {
      "cell_type": "markdown",
      "metadata": {
        "id": "bi0scgfZ5pz_"
      },
      "source": [
        "## The SVHN Dataset"
      ]
    },
    {
      "cell_type": "code",
      "execution_count": 9,
      "metadata": {
        "id": "DHVvaY089KHW"
      },
      "outputs": [],
      "source": [
        "#Data Loader\n",
        "class SVHN(torch.utils.data.Dataset):\n",
        "\n",
        "    def __init__(self, dataDir = datadir + 'svhn/train_32x32.mat', transform = None):\n",
        "        mat = sio.loadmat(dataDir)\n",
        "        self.data, self.labels = mat['X'], mat['y'].squeeze()\n",
        "        self.transform = transform\n",
        "\n",
        "        # We noticed that 0s were labeled as 10s\n",
        "        self.labels[self.labels == 10] = 0\n",
        "\n",
        "    def __getitem__(self, index):\n",
        "        data = self.data[:,:,:,index]\n",
        "        lbl = self.labels[index]\n",
        "\n",
        "        data = Image.fromarray(data)\n",
        "        # Apply a trasnformaiton to the image if it is indicated in the initalizer\n",
        "        if self.transform is not None :\n",
        "            data = self.transform(data)\n",
        "\n",
        "        # return the image and the lab\n",
        "        return data,lbl\n",
        "\n",
        "    def __len__(self):\n",
        "        return len(self.labels)\n",
        "\n",
        "def mean_std(dataDir= datadir + 'svhn/train_32x32.mat'):\n",
        "    mat = sio.loadmat(dataDir)\n",
        "    data = mat['X']\n",
        "    return data.mean(axis=(0,1,3)) / 255, data.std(axis=(0,1,3)) / 255"
      ]
    },
    {
      "cell_type": "code",
      "execution_count": 10,
      "metadata": {
        "colab": {
          "base_uri": "https://localhost:8080/"
        },
        "id": "diWd0S1T5pz_",
        "outputId": "d6a3f70a-05c5-4ac9-c657-5a2953e1e75c"
      },
      "outputs": [
        {
          "output_type": "stream",
          "name": "stdout",
          "text": [
            "Normalized dataset mean by channel [0.4376821  0.4437697  0.47280442]\n",
            "Normalized dataset standard deviation by channel [0.19803012 0.20101562 0.19703614]\n"
          ]
        }
      ],
      "source": [
        "SVHN_mean, SVHN_std = mean_std()\n",
        "print('Normalized dataset mean by channel', SVHN_mean)\n",
        "print('Normalized dataset standard deviation by channel', SVHN_std)\n",
        "\n",
        "tr = tf.Compose([\n",
        "    tf.ToTensor(),\n",
        "    tf.Normalize(mean = SVHN_mean, std = SVHN_std)\n",
        "])\n",
        "\n",
        "# Load train and test datasets\n",
        "SVHNTrain = SVHN(datadir + 'svhn/train_32x32.mat', tr)\n",
        "train_loader = torch.utils.data.DataLoader(dataset=SVHNTrain,\n",
        "                                            batch_size=256,\n",
        "                                            shuffle=True)\n",
        "\n",
        "SVHNTest = SVHN(datadir + 'svhn/test_32x32.mat',tr)\n",
        "test_loader = torch.utils.data.DataLoader(dataset=SVHNTest,\n",
        "                                            batch_size=256,\n",
        "                                            shuffle=True)"
      ]
    },
    {
      "cell_type": "code",
      "execution_count": 11,
      "metadata": {
        "colab": {
          "base_uri": "https://localhost:8080/"
        },
        "id": "jdQ5O94x5p0A",
        "outputId": "eacb55c4-d124-4110-c76c-1a21fdb9da18"
      },
      "outputs": [
        {
          "output_type": "stream",
          "name": "stdout",
          "text": [
            "There are 73257 samples in the training dataset\n",
            "There are 26032 samples in the test dataset\n"
          ]
        }
      ],
      "source": [
        "total_step = len(SVHNTrain)\n",
        "print(f'There are {total_step} samples in the training dataset')\n",
        "print(f'There are {len(SVHNTest)} samples in the test dataset')"
      ]
    },
    {
      "cell_type": "markdown",
      "metadata": {
        "id": "aGlFZETG5p0A"
      },
      "source": [
        "## ConvNet class"
      ]
    },
    {
      "cell_type": "code",
      "execution_count": 12,
      "metadata": {
        "id": "l2usgyU39KHY"
      },
      "outputs": [],
      "source": [
        "# Define an standard CNN -> Two conv. blocks and linear layer\n",
        "class ConvNet(nn.Module):\n",
        "    def __init__(self, num_classes=10):\n",
        "\n",
        "        super(ConvNet, self).__init__()\n",
        "\n",
        "        self.conv1 = nn.Conv2d(3, 16, kernel_size=5,  padding=2)\n",
        "        #input : 3 channel, output 16 channel, filter size : 5x5\n",
        "\n",
        "        self.conv2 = nn.Conv2d(16, 32, kernel_size=3,  padding=1)\n",
        "        #input : 16 channel, output 32 channel, filter size : 3x3\n",
        "\n",
        "        self.fc = nn.Linear(8*8*32, num_classes)\n",
        "\n",
        "        self.maxpool = nn.MaxPool2d(kernel_size=2, stride=2)\n",
        "        self.relu = nn.ReLU()\n",
        "\n",
        "    def forward(self, x):\n",
        "\n",
        "        out = self.conv1(x)\n",
        "        out = self.relu(out)\n",
        "        out = self.maxpool(out)\n",
        "\n",
        "        out = self.conv2(out)\n",
        "        out = self.relu(out)\n",
        "        out = self.maxpool(out)\n",
        "\n",
        "        out = out.reshape(out.size(0), -1) #128,64,2,2 -> 128,2*2*64\n",
        "        out = self.fc(out) # we don't need sigmoid or other activation function at the end beacuse we will use nn.CrossEntropyLoss() (check documentation to understand why)\n",
        "\n",
        "        return out"
      ]
    },
    {
      "cell_type": "markdown",
      "metadata": {
        "id": "975jWui45p0B"
      },
      "source": [
        "## Training and Testing functions"
      ]
    },
    {
      "cell_type": "code",
      "execution_count": 26,
      "metadata": {
        "id": "iiXRB40j5p0B"
      },
      "outputs": [],
      "source": [
        "# Train function\n",
        "def train(CNN, train_loader, optimizer, num_epochs=5, model_name='model.ckpt'):\n",
        "    CNN.train() # Set the model in train mode\n",
        "    losses_list = []\n",
        "    criterion = nn.CrossEntropyLoss()\n",
        "    # Iterate over epochs\n",
        "    for epoch in range(num_epochs):\n",
        "        # Iterate the dataset\n",
        "        loss_sum = 0\n",
        "        for images, labels in train_loader:\n",
        "            # Get batch of samples and labels\n",
        "            images = images.to(device)\n",
        "            labels = labels.type(torch.LongTensor).to(device)\n",
        "\n",
        "            # Forward pass\n",
        "            outputs = CNN(images)\n",
        "            loss = criterion(outputs, labels)\n",
        "\n",
        "            # Backward and optimize\n",
        "            optimizer.zero_grad()\n",
        "            loss.backward()\n",
        "            optimizer.step()\n",
        "\n",
        "            loss_sum += loss.cpu().item()\n",
        "            losses_list.append(loss.cpu().item())\n",
        "\n",
        "        loss_avg = loss_sum / len(train_loader)\n",
        "        print('Epoch [{}/{}], Loss: {:.4f}'.format(epoch+1, num_epochs, loss_avg))\n",
        "\n",
        "        # Save the model checkpoint\n",
        "        torch.save(CNN.state_dict(), resultsdir + '/' + model_name)\n",
        "\n",
        "    return losses_list\n",
        "\n",
        "# Test funcion\n",
        "def test(CNN, test_loader):\n",
        "    CNN.eval() # Set the model in evaluation mode\n",
        "    with torch.no_grad():\n",
        "        correct = 0\n",
        "        total = 0\n",
        "        for images, labels in test_loader:\n",
        "            images = images.to(device)\n",
        "            labels = labels.to(device)\n",
        "            # get network predictions\n",
        "            outputs = CNN(images)\n",
        "\n",
        "            # get predicted class\n",
        "            _, predicted = torch.max(outputs.data, 1)\n",
        "\n",
        "            # compare with the ground-truth\n",
        "            total += labels.size(0)\n",
        "            correct += (predicted == labels).sum().item()\n",
        "        # print and return accuracy\n",
        "        print('Test Accuracy of the model on the 10000 test images: {} %'.format(100 * correct / total))\n",
        "        return 100 * correct / total\n",
        "\n",
        "def plot_loss(losses_list):\n",
        "    plt.figure(figsize=(10, 5))\n",
        "    plt.plot(losses_list, linestyle='-', color='b')\n",
        "    plt.title('Training Loss Over Epochs')\n",
        "    plt.xlabel('Epoch')\n",
        "    plt.ylabel('Loss')\n",
        "    plt.show()"
      ]
    },
    {
      "cell_type": "code",
      "execution_count": 29,
      "metadata": {
        "id": "OV8zRm455p0B"
      },
      "outputs": [],
      "source": [
        "CNN = ConvNet().to(device)\n",
        "\n",
        "#Initialize optimizer\n",
        "learning_rate = .001\n",
        "optimizer = torch.optim.Adam(CNN.parameters(),lr = learning_rate)\n",
        "\n",
        "num_epochs = 5"
      ]
    },
    {
      "cell_type": "code",
      "execution_count": 30,
      "metadata": {
        "colab": {
          "base_uri": "https://localhost:8080/",
          "height": 594
        },
        "id": "xaTkAXKwpswv",
        "outputId": "58b7512a-f3d7-4e20-a2be-da21399d93a4"
      },
      "outputs": [
        {
          "output_type": "stream",
          "name": "stdout",
          "text": [
            "Epoch [1/5], Loss: 1.0258\n",
            "Epoch [2/5], Loss: 0.5364\n",
            "Epoch [3/5], Loss: 0.4747\n",
            "Epoch [4/5], Loss: 0.4310\n",
            "Epoch [5/5], Loss: 0.3998\n"
          ]
        },
        {
          "output_type": "display_data",
          "data": {
            "text/plain": [
              "<Figure size 1000x500 with 1 Axes>"
            ],
            "image/png": "[encoded data removed]"
          },
          "metadata": {}
        },
        {
          "output_type": "stream",
          "name": "stdout",
          "text": [
            "Test Accuracy of the model on the 10000 test images: 86.82390903503381 %\n"
          ]
        }
      ],
      "source": [
        "loss_list = train(CNN, train_loader, optimizer, num_epochs, model_name='model_1_1.ckpt')\n",
        "plot_loss(loss_list)\n",
        "\n",
        "CNN.load_state_dict(torch.load(resultsdir + 'model_1_1.ckpt'))\n",
        "\n",
        "test_acc = test(CNN, test_loader)"
      ]
    },
    {
      "cell_type": "markdown",
      "metadata": {
        "id": "C0qkdT02cLs2"
      },
      "source": [
        "## Testing with different changes\n"
      ]
    },
    {
      "cell_type": "markdown",
      "metadata": {
        "id": "nqJlILSeksxA"
      },
      "source": [
        "#### Number of convolution layers and number of filters (channels)"
      ]
    },
    {
      "cell_type": "code",
      "execution_count": 31,
      "metadata": {
        "id": "3fhZE9txcZu5"
      },
      "outputs": [],
      "source": [
        "#Increasing size of network (one more conv layer)\n",
        "class TestingConvNet(nn.Module):\n",
        "    def __init__(self, num_classes=10):\n",
        "\n",
        "        super(TestingConvNet, self).__init__()\n",
        "\n",
        "        self.conv1 = nn.Conv2d(3, 16, kernel_size=5,  padding=2)\n",
        "        #input : 3 channel, output 16 channel, filter size : 5x5\n",
        "\n",
        "        self.conv2 = nn.Conv2d(16, 32, kernel_size=3,  padding=1)\n",
        "        #input : 16 channel, output 32 channel, filter size : 3x3\n",
        "\n",
        "        self.conv3 = nn.Conv2d(32, 64, kernel_size=5,  padding=2) # (8 + 2*2 - 5)/1 + 1 = 8\n",
        "        #input : 32 channel, output 64 channel, filter size : 5x5\n",
        "\n",
        "        self.conv4 = nn.Conv2d(64, 128, kernel_size=3,  padding=1) # (4 + 2*1 - 3)/1 + 1 = 4\n",
        "        #input : 64 channel, output 128 channel, filter size : 3x3\n",
        "\n",
        "        self.fc = nn.Linear(8*8*8, num_classes)\n",
        "\n",
        "        self.maxpool= nn.MaxPool2d(kernel_size=2, stride=2)\n",
        "        self.relu = nn.ReLU()\n",
        "\n",
        "    def forward(self, x):\n",
        "\n",
        "        out = self.conv1(x)\n",
        "        out = self.relu(out)\n",
        "        out = self.maxpool(out)\n",
        "\n",
        "        out = self.conv2(out)\n",
        "        out = self.relu(out)\n",
        "        out = self.maxpool(out)\n",
        "\n",
        "        out = self.conv3(out)\n",
        "        out = self.relu(out)\n",
        "        out = self.maxpool(out)\n",
        "\n",
        "        out = self.conv4(out)\n",
        "        out = self.relu(out)\n",
        "        out = self.maxpool(out)\n",
        "\n",
        "        out = out.reshape(out.size(0), -1) #128,64,2,2 -> 128,2*2*64\n",
        "        out = self.fc(out) # we don't need sigmoid or other activation function at the end beacuse we will use nn.CrossEntropyLoss() (check documentation to understand why)\n",
        "\n",
        "        return out"
      ]
    },
    {
      "cell_type": "code",
      "execution_count": 32,
      "metadata": {
        "id": "NqTyOCkGkyUC"
      },
      "outputs": [],
      "source": [
        "CNN = TestingConvNet().to(device)\n",
        "\n",
        "#Initialize optimizer\n",
        "learning_rate = .001\n",
        "optimizer = torch.optim.Adam(CNN.parameters(),lr = learning_rate)\n",
        "\n",
        "num_epochs = 5"
      ]
    },
    {
      "cell_type": "code",
      "execution_count": 33,
      "metadata": {
        "id": "oi00N-rMnvhP",
        "colab": {
          "base_uri": "https://localhost:8080/",
          "height": 594
        },
        "outputId": "16e19d0b-d1e1-4b09-b251-924b3bcf2261"
      },
      "outputs": [
        {
          "output_type": "stream",
          "name": "stdout",
          "text": [
            "Epoch [1/5], Loss: 1.0730\n",
            "Epoch [2/5], Loss: 0.4392\n",
            "Epoch [3/5], Loss: 0.3474\n",
            "Epoch [4/5], Loss: 0.2900\n",
            "Epoch [5/5], Loss: 0.2510\n"
          ]
        },
        {
          "output_type": "display_data",
          "data": {
            "text/plain": [
              "<Figure size 1000x500 with 1 Axes>"
            ],
            "image/png": "[encoded data removed]"
          },
          "metadata": {}
        },
        {
          "output_type": "stream",
          "name": "stdout",
          "text": [
            "Test Accuracy of the model on the 10000 test images: 90.9380762138906 %\n"
          ]
        }
      ],
      "source": [
        "loss_list = train(CNN, train_loader, optimizer, num_epochs, model_name='model_1_2.ckpt')\n",
        "plot_loss(loss_list)\n",
        "\n",
        "CNN.load_state_dict(torch.load(resultsdir + 'model_1_2.ckpt'))\n",
        "\n",
        "test_acc = test(CNN, test_loader)"
      ]
    },
    {
      "cell_type": "markdown",
      "metadata": {
        "id": "fTRZehWyuKSg"
      },
      "source": [
        "#### Optimizers"
      ]
    },
    {
      "cell_type": "code",
      "execution_count": null,
      "metadata": {
        "id": "5M2jXfdOuJs3"
      },
      "outputs": [],
      "source": [
        "CNN = ConvNet().to(device)\n",
        "\n",
        "optimizers = [(torch.optim.Adam(CNN.parameters(),lr = .001), \"Adam\"),\n",
        "              (torch.optim.SGD(CNN.parameters(), lr = .001, momentum = 0.9), \"SGD\")]\n",
        "\n",
        "num_epochs = 5"
      ]
    },
    {
      "cell_type": "code",
      "execution_count": null,
      "metadata": {
        "id": "GtJ2lrnHv9eb"
      },
      "outputs": [],
      "source": [
        "for optimizer, label in optimizers:\n",
        "\n",
        "    train(CNN, train_loader, optimizer, num_epochs, model_name='model_1_' + label + '.ckpt')\n",
        "\n",
        "    CNN.load_state_dict(torch.load(resultsdir + 'model_1_' + label + '.ckpt'))\n",
        "\n",
        "    test_acc = test(CNN, test_loader)"
      ]
    },
    {
      "cell_type": "markdown",
      "metadata": {
        "id": "lTz9Plh6xrlx"
      },
      "source": [
        "#### Learning rate\n"
      ]
    },
    {
      "cell_type": "code",
      "execution_count": null,
      "metadata": {
        "id": "i01QLA60x3UW"
      },
      "outputs": [],
      "source": [
        "CNN = ConvNet().to(device)\n",
        "\n",
        "learning_rates = [.01, .05, .001, .005, .0001]\n",
        "\n",
        "num_epochs = 5"
      ]
    },
    {
      "cell_type": "code",
      "execution_count": null,
      "metadata": {
        "id": "0lwJhgTex-f-"
      },
      "outputs": [],
      "source": [
        "for i, lr in enumerate(learning_rates):\n",
        "    train(CNN, train_loader, optimizer, num_epochs, model_name='model_1_' + str(i) + '.ckpt')\n",
        "\n",
        "    CNN.load_state_dict(torch.load(resultsdir + 'model_1_lr' + str(i) + '.ckpt'))\n",
        "\n",
        "    test_acc = test(CNN, test_loader)"
      ]
    },
    {
      "cell_type": "markdown",
      "metadata": {
        "id": "h7QTVmaKQg4X"
      },
      "source": [
        "# Ex. 2"
      ]
    },
    {
      "cell_type": "markdown",
      "metadata": {
        "id": "TLVQ_LI6kSmK"
      },
      "source": [
        "## **Building your own efficient Convolutional Network architecture for SVHN**\n",
        "\n",
        "In the following,  you will need to build your own CNN architecture to predict digit numbers on the SVHN dataset. You are completely free to use any kind of layers and hyper-parameters for this purpose. Your goal is to acheive the maximum possible accuracy on the test set (the better, the higher score you'll get in the exercice). The only constraint is that your model should not contain more than 150K parameters. Below, we provide a simple code to compute the number of parameters in a model."
      ]
    },
    {
      "cell_type": "markdown",
      "metadata": {
        "id": "0TFCESJFn1xZ"
      },
      "source": [
        "## Computing model parameters"
      ]
    },
    {
      "cell_type": "code",
      "execution_count": null,
      "metadata": {
        "id": "dnSiO4xQn7qU"
      },
      "outputs": [],
      "source": [
        "# Compute model paramters\n",
        "def compute_model_params(model):\n",
        "  params = 0\n",
        "  for p in model.parameters():\n",
        "    params+= p.numel()\n",
        "  return params"
      ]
    },
    {
      "cell_type": "code",
      "execution_count": null,
      "metadata": {
        "id": "qnJBuRZVjpOl"
      },
      "outputs": [],
      "source": [
        "'''\n",
        "1. Design and implement your own CNN. Given that the number of parameters must be small, you can check some papers focused on efficient CNN architectures and get some ideas.\n",
        "  - MobileNet: https://arxiv.org/abs/1704.04861\n",
        "  - MobileNet V2: https://arxiv.org/pdf/1801.04381.pdf\n",
        "  - SqueezeNet: https://arxiv.org/abs/1602.07360\n",
        "  - ShuffleNet: https://arxiv.org/abs/1707.01083\n",
        "  - ESPNet V2: https://arxiv.org/abs/1811.11431\n",
        "2. Train it and test it on SVHN using the provided code.\n",
        "3. Discuss what approaches have you tried, why, and which ones have shown to be more beneficial.\n",
        "'''\n"
      ]
    },
    {
      "cell_type": "markdown",
      "metadata": {
        "id": "VObbYfbsQkls"
      },
      "source": [
        "# Sol. 2"
      ]
    },
    {
      "cell_type": "markdown",
      "metadata": {
        "id": "wlKMweHXPO1z"
      },
      "source": [
        "## Define your own model and check the number of total parameters"
      ]
    },
    {
      "cell_type": "code",
      "execution_count": null,
      "metadata": {
        "id": "wSLKq77CQzB3"
      },
      "outputs": [],
      "source": [
        "# We are trying to implement a SqueezeNet-like architecture using the fire module extracted from\n",
        "# https://github.com/xin-w8023/SqueezeNet-PyTorch/blob/master/fire.py\n",
        "\n",
        "class Expand(torch.nn.Module):\n",
        "    def __init__(self, in_channels, e1_out_channles, e3_out_channles):\n",
        "        super(Expand, self).__init__()\n",
        "        self.conv_1x1 = torch.nn.Conv2d(in_channels, e1_out_channles, (1, 1))\n",
        "        self.conv_3x3 = torch.nn.Conv2d(in_channels, e3_out_channles, (3, 3), padding=1)\n",
        "\n",
        "    def forward(self, x):\n",
        "        o1 = self.conv_1x1(x)\n",
        "        o3 = self.conv_3x3(x)\n",
        "        return torch.cat((o1, o3), dim=1)\n",
        "\n",
        "\n",
        "class Fire(torch.nn.Module):\n",
        "    \"\"\"\n",
        "      Fire module in SqueezeNet\n",
        "      out_channles = e1x1 + e3x3\n",
        "      Eg.: input: ?xin_channelsx?x?\n",
        "           output: ?x(e1x1+e3x3)x?x?\n",
        "    \"\"\"\n",
        "    def __init__(self, in_channels, s1x1, e1x1, e3x3):\n",
        "        super(Fire, self).__init__()\n",
        "\n",
        "        # squeeze\n",
        "        self.squeeze = torch.nn.Conv2d(in_channels, s1x1, (1, 1))\n",
        "        self.sq_act = torch.nn.LeakyReLU(0.1)\n",
        "\n",
        "        # expand\n",
        "        self.expand = Expand(s1x1, e1x1, e3x3)\n",
        "        self.ex_act = torch.nn.LeakyReLU(0.1)\n",
        "\n",
        "\n",
        "    def forward(self, x):\n",
        "        x = self.sq_act(self.squeeze(x))\n",
        "        x = self.ex_act(self.expand(x))\n",
        "        return x"
      ]
    },
    {
      "cell_type": "code",
      "execution_count": null,
      "metadata": {
        "id": "xMxY47BLpEPG"
      },
      "outputs": [],
      "source": [
        "# ESPNet V2 Style Architecture\n",
        "class MyModel(nn.Module):\n",
        "    def __init__(self, num_classes=10):\n",
        "\n",
        "        super(MyModel, self).__init__()\n",
        "        self.conv1 = nn.Conv2d(3, 8, kernel_size=3, stride=1, padding=1)\n",
        "        self.maxpool = nn.MaxPool2d(kernel_size=2, stride=2)\n",
        "        self.fire1 = Fire(8, 4, 8, 8)\n",
        "        self.fire2 = Fire(16, 8, 8, 8)\n",
        "        self.fire3 = Fire(16, 8, 16, 16)\n",
        "        self.fire4 = Fire(32, 16, 32, 32)\n",
        "        self.fc = nn.Linear(64*8*8, num_classes)\n",
        "\n",
        "        self.relu = nn.ReLU()\n",
        "\n",
        "    def forward(self, x):\n",
        "        out = self.conv1(x)\n",
        "        out = self.relu(out)\n",
        "\n",
        "        out = self.fire1(out)\n",
        "        out = self.fire2(out)\n",
        "        out = self.maxpool(out)\n",
        "\n",
        "        out = self.fire3(out)\n",
        "        out = self.fire4(out)\n",
        "        out = self.maxpool(out)\n",
        "\n",
        "        out = self.fc(out.view(out.shape[0], -1))\n",
        "        return out\n",
        "\n",
        "model = MyModel(num_classes=10)\n",
        "n_params = compute_model_params(model)\n",
        "print(\"MyModel Parameters: \" + str(n_params))"
      ]
    },
    {
      "cell_type": "code",
      "execution_count": null,
      "metadata": {
        "id": "3BAZh0jpQzB4"
      },
      "outputs": [],
      "source": [
        "torchinfo.summary(model, (1, 3, 32, 32))"
      ]
    },
    {
      "cell_type": "markdown",
      "metadata": {
        "id": "3dangurPPcgm"
      },
      "source": [
        "## Train your model on SVHN\n",
        "It is not allowed to change training hyper-parameters such as learning rate, batch size or number of epochs. You can only modify the architecture definition."
      ]
    },
    {
      "cell_type": "code",
      "execution_count": null,
      "metadata": {
        "id": "xuPU5wQI5p0I"
      },
      "outputs": [],
      "source": [
        "print(len(iter(train_loader))) # me cago en su puta madre no se por que no sale 3"
      ]
    },
    {
      "cell_type": "code",
      "execution_count": null,
      "metadata": {
        "id": "9vib9IY2vAkP"
      },
      "outputs": [],
      "source": [
        "#Train MyModel\n",
        "my_model = MyModel().to(device)\n",
        "\n",
        "#Initialize optimizer\n",
        "learning_rate = .01\n",
        "optimizer = torch.optim.SGD(my_model.parameters(),lr = learning_rate,\n",
        "                            weight_decay=1e-5, momentum=0.9)"
      ]
    },
    {
      "cell_type": "code",
      "execution_count": null,
      "metadata": {
        "id": "euO3zMuv5p0I"
      },
      "outputs": [],
      "source": [
        "train(CNN, train_loader, optimizer, num_epochs=5, model_name='model_2_1.ckpt')\n",
        "\n",
        "CNN.load_state_dict(torch.load(resultsdir + 'model_2_1.ckpt'))"
      ]
    },
    {
      "cell_type": "markdown",
      "metadata": {
        "id": "s4ilm-FoPmLX"
      },
      "source": [
        "## Test your model\n",
        "As a reference, 93% of accuracy can be easily achieved by using only ~55000 parameters."
      ]
    },
    {
      "cell_type": "code",
      "execution_count": null,
      "metadata": {
        "id": "LHT86IPSzOYi"
      },
      "outputs": [],
      "source": [
        "test_acc = test(CNN, test_loader)"
      ]
    },
    {
      "cell_type": "markdown",
      "metadata": {
        "id": "S7UMjGA9TOUM"
      },
      "source": [
        "# Ex. 3"
      ]
    },
    {
      "cell_type": "code",
      "execution_count": null,
      "metadata": {
        "id": "HXvqONt8TNuc"
      },
      "outputs": [],
      "source": [
        "'''\n",
        "1. Use the implemented architecture in the previous exercice to solve the transfer learning\n",
        "   task provided in the examples.\n",
        "2. Try to fine-tune not only the last layer for the CNN but a larger subset of parameters.\n",
        "2. Report the test accuracy in each case and discuss the results.\n",
        "'''"
      ]
    },
    {
      "cell_type": "markdown",
      "metadata": {
        "id": "o31sdIuJUHex"
      },
      "source": [
        "# Sol. 3"
      ]
    },
    {
      "cell_type": "markdown",
      "metadata": {
        "id": "bSGN1MHVIQBJ"
      },
      "source": [
        "## Initialize DataLoaders for Transfer Learning experiment"
      ]
    },
    {
      "cell_type": "code",
      "execution_count": null,
      "metadata": {
        "id": "lftsNbnEHeoh"
      },
      "outputs": [],
      "source": [
        "# Big dataset with numbers from 1 to 8\n",
        "SVHNTrain_TL = SVHN(datadir+'/svhn_tl/tl_train_32x32.mat',tr)\n",
        "tl_train_loader = torch.utils.data.DataLoader(dataset=SVHNTrain_TL,\n",
        "                                               batch_size=256,\n",
        "                                               shuffle=True)\n",
        "\n",
        "# 200 samples of 0s and 9s\n",
        "SVHNTrain_TL_0_9 = SVHN(datadir+'/svhn_tl/tl_train_9_10_32x32.mat',tr)\n",
        "tl_train_loader_0_9 = torch.utils.data.DataLoader(dataset=SVHNTrain_TL_0_9,\n",
        "                                                  batch_size=64,\n",
        "                                                  shuffle=True)\n",
        "# Test dataset with 0 and 9s\n",
        "SVHNTest_TL_0_9 = SVHN(datadir+'/svhn_tl/tl_test_9_10_32x32.mat',tr)\n",
        "tl_test_loader_0_9 = torch.utils.data.DataLoader(dataset=SVHNTest_TL_0_9,\n",
        "                                                  batch_size=64,\n",
        "                                                  shuffle=True)"
      ]
    },
    {
      "cell_type": "markdown",
      "metadata": {
        "id": "VXbLlY4aC4Ga"
      },
      "source": [
        "## Pre-train your model with the big dataset with numbers from 1 to 8"
      ]
    },
    {
      "cell_type": "code",
      "execution_count": null,
      "metadata": {
        "id": "o2zitIY5tJRg"
      },
      "outputs": [],
      "source": [
        "#Train ResNet\n",
        "resnet_tl = MyModel(num_classes=8)\n",
        "#Initialize optimizer\n",
        "learning_rate = .1\n",
        "optimizer = torch.optim.SGD(resnet_tl.parameters(),lr = learning_rate, weight_decay=1e-5, momentum=0.9)\n",
        "\n",
        "resnet_tl = resnet_tl.to(device)\n",
        "\n",
        "losses_it = train(resnet_tl, tl_train_loader, optimizer, num_epochs=10, model_name='tl_mynet_svhn.ckpt', device=device)"
      ]
    },
    {
      "cell_type": "markdown",
      "metadata": {
        "id": "X0HrjNVIFNKN"
      },
      "source": [
        "## Fine-tune the pretrained network with the small dataset of 9s and 0s"
      ]
    },
    {
      "cell_type": "code",
      "execution_count": null,
      "metadata": {
        "id": "CDemFpsnsw4J"
      },
      "outputs": [],
      "source": []
    }
  ],
  "metadata": {
    "colab": {
      "provenance": []
    },
    "kernelspec": {
      "display_name": "Python 3",
      "name": "python3"
    },
    "language_info": {
      "codemirror_mode": {
        "name": "ipython",
        "version": 3
      },
      "file_extension": ".py",
      "mimetype": "text/x-python",
      "name": "python",
      "nbconvert_exporter": "python",
      "pygments_lexer": "ipython3",
      "version": "3.12.3"
    }
  },
  "nbformat": 4,
  "nbformat_minor": 0
}